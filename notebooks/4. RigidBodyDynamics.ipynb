{
 "cells": [
  {
   "cell_type": "markdown",
   "metadata": {},
   "source": [
    "# Setup"
   ]
  },
  {
   "cell_type": "code",
   "execution_count": 5,
   "metadata": {},
   "outputs": [
    {
     "name": "stderr",
     "output_type": "stream",
     "text": [
      "\u001b[1m\u001b[36mINFO: \u001b[39m\u001b[22m\u001b[36mRecompiling stale cache file /home/rdeits/.julia/lib/v0.6/MeshCatMechanisms.ji for module MeshCatMechanisms.\n",
      "\u001b[39m"
     ]
    }
   ],
   "source": [
    "using RigidBodyDynamics\n",
    "using StaticArrays\n",
    "using Plots\n",
    "using MeshCatMechanisms"
   ]
  },
  {
   "cell_type": "markdown",
   "metadata": {},
   "source": [
    "# Creating, simulating, and visualizing a double pendulum `Mechanism`\n",
    "\n",
    "We're going to create a simple `Mechanism` that represents a [double pendulum](https://en.wikipedia.org/wiki/Double_pendulum).\n",
    "One way of creating a `Mechanism` is by parsing a [URDF](http://wiki.ros.org/urdf) file:"
   ]
  },
  {
   "cell_type": "code",
   "execution_count": 6,
   "metadata": {},
   "outputs": [
    {
     "data": {
      "text/plain": [
       "Spanning tree:\n",
       "Vertex: world (root)\n",
       "  Vertex: base_link, Edge: base_link_to_world\n",
       "    Vertex: upper_link, Edge: shoulder\n",
       "      Vertex: lower_link, Edge: elbow\n",
       "No non-tree joints."
      ]
     },
     "execution_count": 6,
     "metadata": {},
     "output_type": "execute_result"
    }
   ],
   "source": [
    "urdf = \"data/doublependulum.urdf\"\n",
    "doublependulum = parse_urdf(Float64, urdf)"
   ]
  },
  {
   "cell_type": "markdown",
   "metadata": {},
   "source": [
    "A `Mechanism` stores the joint/rigid body layout, but no state information. State information is separated out into a `MechanismState` object:"
   ]
  },
  {
   "cell_type": "code",
   "execution_count": 7,
   "metadata": {},
   "outputs": [
    {
     "data": {
      "text/plain": [
       "MechanismState{Float64, Float64, Float64, …}(…)"
      ]
     },
     "execution_count": 7,
     "metadata": {},
     "output_type": "execute_result"
    }
   ],
   "source": [
    "const state = MechanismState{Float64}(doublependulum)"
   ]
  },
  {
   "cell_type": "markdown",
   "metadata": {},
   "source": [
    "Next, we'll visualize the double pendulum using MeshCat (a web-enabled 3D viewer): "
   ]
  },
  {
   "cell_type": "code",
   "execution_count": 8,
   "metadata": {},
   "outputs": [],
   "source": [
    "vis = MechanismVisualizer(doublependulum, URDFVisuals(urdf));\n",
    "\n",
    "# To open the visualizer in a new tab, just do: \n",
    "# \n",
    "# open(vis)"
   ]
  },
  {
   "cell_type": "markdown",
   "metadata": {},
   "source": [
    "MeshCat even allows us to embed a visulizer inside the jupyter notebook: "
   ]
  },
  {
   "cell_type": "code",
   "execution_count": 9,
   "metadata": {},
   "outputs": [
    {
     "data": {
      "text/html": [
       "<div class='display:none'></div><unsafe-script style='display:none'>\n",
       "WebIO.mount(this.previousSibling,{&quot;props&quot;:{},&quot;nodeType&quot;:&quot;Scope&quot;,&quot;type&quot;:&quot;node&quot;,&quot;instanceArgs&quot;:{&quot;imports&quot;:{&quot;data&quot;:[],&quot;type&quot;:&quot;async_block&quot;},&quot;id&quot;:&quot;scope-5e3a2644-4fc3-4a16-b2e0-a171e82d1ca2&quot;,&quot;handlers&quot;:{&quot;_promises&quot;:{&quot;importsLoaded&quot;:[function () {\n",
       "    var frame = this.dom.querySelector(&quot;#ifr&quot;);\n",
       "    var doc = frame.contentDocument\n",
       "    var win = frame.contentWindow\n",
       "\n",
       "    // Determine if we&#39;re running on a Jupyter hosting service\n",
       "    // that requires a base URL when retrieving assets\n",
       "    var curMatch =\n",
       "        window.location.href\n",
       "        .match(/(.*?)\\/notebooks\\/.*\\.ipynb/);\n",
       "    curMatch = curMatch ||\n",
       "        window.location.href\n",
       "        .match(/(.*?)\\/apps\\/.*\\.ipynb/);\n",
       "    if (curMatch) {\n",
       "        var base = doc.createElement(&quot;base&quot;);\n",
       "        base.setAttribute(&quot;href&quot;, curMatch[1] + &#39;/&#39;);\n",
       "        doc.head.appendChild(base);\n",
       "    }\n",
       "\n",
       "    var webio = doc.createElement(&quot;script&quot;)\n",
       "    webio.src = &quot;pkg/WebIO/webio/dist/bundle.js&quot;\n",
       "    var parent = window\n",
       "\n",
       "    function resizeIframe() {\n",
       "        doc.body.style.padding = &#39;0&#39;\n",
       "        doc.body.style.margin = &#39;0&#39;\n",
       "        doc.documentElement.height = &#39;100%&#39;\n",
       "        doc.body.height = &#39;100%&#39;\n",
       "    }\n",
       "\n",
       "    webio.onload = function () {\n",
       "        win.WebIO.sendCallback = parent.WebIO.sendCallback; // Share stuff\n",
       "        win.WebIO.scopes = parent.WebIO.scopes\n",
       "        win.WebIO.obsscopes = parent.WebIO.obsscopes\n",
       "        win.WebIO._connected = true\n",
       "        doc.body.innerHTML = &quot;&lt;html&gt;&lt;body&gt;&quot; + &quot;&lt;div class=&#39;display:none&#39;&gt;&lt;/div&gt;&lt;unsafe-script style=&#39;display:none&#39;&gt;\\nWebIO.mount(this.previousSibling,{&amp;quot;props&amp;quot;:{},&amp;quot;nodeType&amp;quot;:&amp;quot;Scope&amp;quot;,&amp;quot;type&amp;quot;:&amp;quot;node&amp;quot;,&amp;quot;instanceArgs&amp;quot;:{&amp;quot;imports&amp;quot;:{&amp;quot;data&amp;quot;:[{&amp;quot;name&amp;quot;:null,&amp;quot;type&amp;quot;:&amp;quot;js&amp;quot;,&amp;quot;url&amp;quot;:&amp;quot;pkg/MeshCat/meshcat/dist/main.min.js&amp;quot;}],&amp;quot;type&amp;quot;:&amp;quot;async_block&amp;quot;},&amp;quot;id&amp;quot;:&amp;quot;scope-f8c524dd-6896-4f8d-888d-e77169abc92a&amp;quot;,&amp;quot;handlers&amp;quot;:{&amp;quot;meshcat-command&amp;quot;:[(function (val){return this.viewer.handle_command_message({&amp;quot;data&amp;quot;:val})})],&amp;quot;_promises&amp;quot;:{&amp;quot;importsLoaded&amp;quot;:[(function (mc){var element=this.dom.children[0]; this.viewer=new mc.Viewer(element); WebIO.setval({&amp;quot;name&amp;quot;:&amp;quot;meshcat-request&amp;quot;,&amp;quot;scope&amp;quot;:&amp;quot;scope-f8c524dd-6896-4f8d-888d-e77169abc92a&amp;quot;,&amp;quot;id&amp;quot;:&amp;quot;ob_05&amp;quot;,&amp;quot;type&amp;quot;:&amp;quot;observable&amp;quot;},String(Date.now())); return window.document.body.style.margin=&amp;quot;0&amp;quot;})]}},&amp;quot;systemjs_options&amp;quot;:null,&amp;quot;observables&amp;quot;:{&amp;quot;meshcat-command&amp;quot;:{&amp;quot;sync&amp;quot;:false,&amp;quot;id&amp;quot;:&amp;quot;ob_04&amp;quot;,&amp;quot;value&amp;quot;:[131,166,109,97,116,114,105,120,199,64,23,0,0,128,63,0,0,0,0,0,0,0,0,0,0,0,0,0,0,0,0,0,0,128,63,0,0,0,0,0,0,0,0,0,0,0,0,0,0,0,0,0,0,128,63,0,0,0,0,0,0,0,0,205,204,204,61,0,0,128,191,0,0,128,63,164,116,121,112,101,173,115,101,116,95,116,114,97,110,115,102,111,114,109,164,112,97,116,104,218,0,46,47,109,101,115,104,99,97,116,47,119,111,114,108,100,47,98,97,115,101,95,108,105,110,107,47,117,112,112,101,114,95,108,105,110,107,47,108,111,119,101,114,95,108,105,110,107]},&amp;quot;meshcat-controls&amp;quot;:{&amp;quot;sync&amp;quot;:true,&amp;quot;id&amp;quot;:&amp;quot;ob_06&amp;quot;,&amp;quot;value&amp;quot;:[]},&amp;quot;meshcat-request&amp;quot;:{&amp;quot;sync&amp;quot;:true,&amp;quot;id&amp;quot;:&amp;quot;ob_05&amp;quot;,&amp;quot;value&amp;quot;:&amp;quot;&amp;quot;}}},&amp;quot;children&amp;quot;:[{&amp;quot;props&amp;quot;:{&amp;quot;className&amp;quot;:&amp;quot;meshcat-viewer&amp;quot;,&amp;quot;style&amp;quot;:{&amp;quot;left&amp;quot;:0,&amp;quot;right&amp;quot;:0,&amp;quot;overflow&amp;quot;:&amp;quot;hidden&amp;quot;,&amp;quot;position&amp;quot;:&amp;quot;absolute&amp;quot;,&amp;quot;height&amp;quot;:&amp;quot;100vh&amp;quot;,&amp;quot;margin&amp;quot;:0,&amp;quot;width&amp;quot;:&amp;quot;100vw&amp;quot;}},&amp;quot;nodeType&amp;quot;:&amp;quot;DOM&amp;quot;,&amp;quot;type&amp;quot;:&amp;quot;node&amp;quot;,&amp;quot;instanceArgs&amp;quot;:{&amp;quot;namespace&amp;quot;:&amp;quot;html&amp;quot;,&amp;quot;tag&amp;quot;:&amp;quot;div&amp;quot;},&amp;quot;children&amp;quot;:[]}]})&lt;/unsafe-script&gt;&quot; + &quot;&lt;/body&gt;&lt;/html&gt;&quot;;\n",
       "        setTimeout(function () { resizeIframe() }, 0)\n",
       "    }\n",
       "\n",
       "    doc.body.appendChild(webio)\n",
       "},(function (){return this.dom.style.height=&quot;100%&quot;})]}},&quot;systemjs_options&quot;:null,&quot;observables&quot;:{}},&quot;children&quot;:[{&quot;props&quot;:{&quot;style&quot;:{&quot;flexDirection&quot;:&quot;column&quot;,&quot;height&quot;:&quot;100%&quot;,&quot;minHeight&quot;:&quot;400px&quot;,&quot;display&quot;:&quot;flex&quot;,&quot;width&quot;:&quot;100%&quot;,&quot;overflow&quot;:&quot;hidden&quot;}},&quot;nodeType&quot;:&quot;DOM&quot;,&quot;type&quot;:&quot;node&quot;,&quot;instanceArgs&quot;:{&quot;namespace&quot;:&quot;html&quot;,&quot;tag&quot;:&quot;div&quot;},&quot;children&quot;:[{&quot;props&quot;:{&quot;attributes&quot;:{&quot;height&quot;:&quot;100%&quot;,&quot;scrolling&quot;:&quot;no&quot;,&quot;src&quot;:&quot;javascript:void(0)&quot;,&quot;frameborder&quot;:0},&quot;id&quot;:&quot;ifr&quot;,&quot;style&quot;:{&quot;width&quot;:&quot;100%&quot;,&quot;flexGrow&quot;:&quot;1&quot;}},&quot;nodeType&quot;:&quot;DOM&quot;,&quot;type&quot;:&quot;node&quot;,&quot;instanceArgs&quot;:{&quot;namespace&quot;:&quot;html&quot;,&quot;tag&quot;:&quot;iframe&quot;},&quot;children&quot;:[]}]}]})</unsafe-script>"
      ],
      "text/plain": [
       "WebIO.Scope(\"scope-5e3a2644-4fc3-4a16-b2e0-a171e82d1ca2\", WebIO.Node{WebIO.DOM}(WebIO.DOM(:html, :div), Any[WebIO.Node{WebIO.DOM}(WebIO.DOM(:html, :iframe), Any[], Dict{Symbol,Any}(Pair{Symbol,Any}(:attributes, Dict{String,Any}(Pair{String,Any}(\"height\", \"100%\"),Pair{String,Any}(\"scrolling\", \"no\"),Pair{String,Any}(\"src\", \"javascript:void(0)\"),Pair{String,Any}(\"frameborder\", 0))),Pair{Symbol,Any}(:id, \"ifr\"),Pair{Symbol,Any}(:style, Dict(\"width\"=>\"100%\",\"flexGrow\"=>\"1\"))), 0)], Dict{Symbol,Any}(Pair{Symbol,Any}(:style, Dict(\"flexDirection\"=>\"column\",\"height\"=>\"100%\",\"minHeight\"=>\"400px\",\"display\"=>\"flex\",\"width\"=>\"100%\",\"overflow\"=>\"hidden\"))), 1), Dict{String,Tuple{Observables.Observable,Union{Bool, Void}}}(), Set{String}(), nothing, Any[], Dict{Any,Any}(Pair{Any,Any}(\"_promises\", Dict{Any,Any}(Pair{Any,Any}(\"importsLoaded\", Any[WebIO.JSString(\"function () {\\n    var frame = this.dom.querySelector(\\\"#ifr\\\");\\n    var doc = frame.contentDocument\\n    var win = frame.contentWindow\\n\\n    // Determine if we're running on a Jupyter hosting service\\n    // that requires a base URL when retrieving assets\\n    var curMatch =\\n        window.location.href\\n        .match(/(.*?)\\\\/notebooks\\\\/.*\\\\.ipynb/);\\n    curMatch = curMatch ||\\n        window.location.href\\n        .match(/(.*?)\\\\/apps\\\\/.*\\\\.ipynb/);\\n    if (curMatch) {\\n        var base = doc.createElement(\\\"base\\\");\\n        base.setAttribute(\\\"href\\\", curMatch[1] + '/');\\n        doc.head.appendChild(base);\\n    }\\n\\n    var webio = doc.createElement(\\\"script\\\")\\n    webio.src = \\\"pkg/WebIO/webio/dist/bundle.js\\\"\\n    var parent = window\\n\\n    function resizeIframe() {\\n        doc.body.style.padding = '0'\\n        doc.body.style.margin = '0'\\n        doc.documentElement.height = '100%'\\n        doc.body.height = '100%'\\n    }\\n\\n    webio.onload = function () {\\n        win.WebIO.sendCallback = parent.WebIO.sendCallback; // Share stuff\\n        win.WebIO.scopes = parent.WebIO.scopes\\n        win.WebIO.obsscopes = parent.WebIO.obsscopes\\n        win.WebIO._connected = true\\n        doc.body.innerHTML = \\\"<html><body>\\\" + \\\"<div class='display:none'></div><unsafe-script style='display:none'>\\\\nWebIO.mount(this.previousSibling,{&quot;props&quot;:{},&quot;nodeType&quot;:&quot;Scope&quot;,&quot;type&quot;:&quot;node&quot;,&quot;instanceArgs&quot;:{&quot;imports&quot;:{&quot;data&quot;:[{&quot;name&quot;:null,&quot;type&quot;:&quot;js&quot;,&quot;url&quot;:&quot;pkg/MeshCat/meshcat/dist/main.min.js&quot;}],&quot;type&quot;:&quot;async_block&quot;},&quot;id&quot;:&quot;scope-f8c524dd-6896-4f8d-888d-e77169abc92a&quot;,&quot;handlers&quot;:{&quot;meshcat-command&quot;:[(function (val){return this.viewer.handle_command_message({&quot;data&quot;:val})})],&quot;_promises&quot;:{&quot;importsLoaded&quot;:[(function (mc){var element=this.dom.children[0]; this.viewer=new mc.Viewer(element); WebIO.setval({&quot;name&quot;:&quot;meshcat-request&quot;,&quot;scope&quot;:&quot;scope-f8c524dd-6896-4f8d-888d-e77169abc92a&quot;,&quot;id&quot;:&quot;ob_05&quot;,&quot;type&quot;:&quot;observable&quot;},String(Date.now())); return window.document.body.style.margin=&quot;0&quot;})]}},&quot;systemjs_options&quot;:null,&quot;observables&quot;:{&quot;meshcat-command&quot;:{&quot;sync&quot;:false,&quot;id&quot;:&quot;ob_04&quot;,&quot;value&quot;:[131,166,109,97,116,114,105,120,199,64,23,0,0,128,63,0,0,0,0,0,0,0,0,0,0,0,0,0,0,0,0,0,0,128,63,0,0,0,0,0,0,0,0,0,0,0,0,0,0,0,0,0,0,128,63,0,0,0,0,0,0,0,0,205,204,204,61,0,0,128,191,0,0,128,63,164,116,121,112,101,173,115,101,116,95,116,114,97,110,115,102,111,114,109,164,112,97,116,104,218,0,46,47,109,101,115,104,99,97,116,47,119,111,114,108,100,47,98,97,115,101,95,108,105,110,107,47,117,112,112,101,114,95,108,105,110,107,47,108,111,119,101,114,95,108,105,110,107]},&quot;meshcat-controls&quot;:{&quot;sync&quot;:true,&quot;id&quot;:&quot;ob_06&quot;,&quot;value&quot;:[]},&quot;meshcat-request&quot;:{&quot;sync&quot;:true,&quot;id&quot;:&quot;ob_05&quot;,&quot;value&quot;:&quot;&quot;}}},&quot;children&quot;:[{&quot;props&quot;:{&quot;className&quot;:&quot;meshcat-viewer&quot;,&quot;style&quot;:{&quot;left&quot;:0,&quot;right&quot;:0,&quot;overflow&quot;:&quot;hidden&quot;,&quot;position&quot;:&quot;absolute&quot;,&quot;height&quot;:&quot;100vh&quot;,&quot;margin&quot;:0,&quot;width&quot;:&quot;100vw&quot;}},&quot;nodeType&quot;:&quot;DOM&quot;,&quot;type&quot;:&quot;node&quot;,&quot;instanceArgs&quot;:{&quot;namespace&quot;:&quot;html&quot;,&quot;tag&quot;:&quot;div&quot;},&quot;children&quot;:[]}]})</unsafe-script>\\\" + \\\"</body></html>\\\";\\n        setTimeout(function () { resizeIframe() }, 0)\\n    }\\n\\n    doc.body.appendChild(webio)\\n}\"), WebIO.JSString(\"(function (){return this.dom.style.height=\\\"100%\\\"})\")])))), WebIO.ConnectionPool(Channel{Any}(sz_max:9223372036854775807,sz_curr:0), Set{WebIO.AbstractConnection}(), Channel{WebIO.AbstractConnection}(sz_max:32,sz_curr:0)))"
      ]
     },
     "execution_count": 9,
     "metadata": {},
     "output_type": "execute_result"
    }
   ],
   "source": [
    "MeshCat.IJuliaCell(vis)"
   ]
  },
  {
   "cell_type": "markdown",
   "metadata": {},
   "source": [
    "Let's first set the configurations and velocities of the joints:"
   ]
  },
  {
   "cell_type": "code",
   "execution_count": 10,
   "metadata": {},
   "outputs": [],
   "source": [
    "set_configuration!(state, randn(num_positions(state)))\n",
    "set_configuration!(vis, configuration(state))"
   ]
  },
  {
   "cell_type": "markdown",
   "metadata": {},
   "source": [
    "Basic simulation is easy:"
   ]
  },
  {
   "cell_type": "code",
   "execution_count": 11,
   "metadata": {},
   "outputs": [],
   "source": [
    "ts, qs, vs = simulate(state, 5., Δt = 1e-3);"
   ]
  },
  {
   "cell_type": "markdown",
   "metadata": {},
   "source": [
    "After which we can animate the results:"
   ]
  },
  {
   "cell_type": "code",
   "execution_count": 12,
   "metadata": {},
   "outputs": [],
   "source": [
    "MeshCatMechanisms.animate(vis, ts, qs)"
   ]
  },
  {
   "cell_type": "markdown",
   "metadata": {},
   "source": [
    "Or plot them using e.g. Plots.jl:"
   ]
  },
  {
   "cell_type": "code",
   "execution_count": 13,
   "metadata": {},
   "outputs": [
    {
     "data": {
      "image/svg+xml": [
       "<?xml version=\"1.0\" encoding=\"utf-8\"?>\n",
       "<svg xmlns=\"http://www.w3.org/2000/svg\" xmlns:xlink=\"http://www.w3.org/1999/xlink\" width=\"600\" height=\"400\" viewBox=\"0 0 600 400\">\n",
       "<defs>\n",
       "  <clipPath id=\"clip0000\">\n",
       "    <rect x=\"0\" y=\"0\" width=\"600\" height=\"400\"/>\n",
       "  </clipPath>\n",
       "</defs>\n",
       "<polygon clip-path=\"url(#clip0000)\" points=\"\n",
       "0,400 600,400 600,0 0,0 \n",
       "  \" fill=\"#ffffff\" fill-opacity=\"1\"/>\n",
       "<defs>\n",
       "  <clipPath id=\"clip0001\">\n",
       "    <rect x=\"120\" y=\"0\" width=\"421\" height=\"400\"/>\n",
       "  </clipPath>\n",
       "</defs>\n",
       "<polygon clip-path=\"url(#clip0000)\" points=\"\n",
       "55.25,360.121 580.315,360.121 580.315,11.811 55.25,11.811 \n",
       "  \" fill=\"#ffffff\" fill-opacity=\"1\"/>\n",
       "<defs>\n",
       "  <clipPath id=\"clip0002\">\n",
       "    <rect x=\"55\" y=\"11\" width=\"526\" height=\"349\"/>\n",
       "  </clipPath>\n",
       "</defs>\n",
       "<polyline clip-path=\"url(#clip0002)\" style=\"stroke:#000000; stroke-width:0.5; stroke-opacity:0.1; fill:none\" points=\"\n",
       "  55.25,360.121 55.25,11.811 \n",
       "  \"/>\n",
       "<polyline clip-path=\"url(#clip0002)\" style=\"stroke:#000000; stroke-width:0.5; stroke-opacity:0.1; fill:none\" points=\"\n",
       "  160.263,360.121 160.263,11.811 \n",
       "  \"/>\n",
       "<polyline clip-path=\"url(#clip0002)\" style=\"stroke:#000000; stroke-width:0.5; stroke-opacity:0.1; fill:none\" points=\"\n",
       "  265.276,360.121 265.276,11.811 \n",
       "  \"/>\n",
       "<polyline clip-path=\"url(#clip0002)\" style=\"stroke:#000000; stroke-width:0.5; stroke-opacity:0.1; fill:none\" points=\"\n",
       "  370.289,360.121 370.289,11.811 \n",
       "  \"/>\n",
       "<polyline clip-path=\"url(#clip0002)\" style=\"stroke:#000000; stroke-width:0.5; stroke-opacity:0.1; fill:none\" points=\"\n",
       "  475.302,360.121 475.302,11.811 \n",
       "  \"/>\n",
       "<polyline clip-path=\"url(#clip0002)\" style=\"stroke:#000000; stroke-width:0.5; stroke-opacity:0.1; fill:none\" points=\"\n",
       "  580.315,360.121 580.315,11.811 \n",
       "  \"/>\n",
       "<polyline clip-path=\"url(#clip0002)\" style=\"stroke:#000000; stroke-width:0.5; stroke-opacity:0.1; fill:none\" points=\"\n",
       "  55.25,307.637 580.315,307.637 \n",
       "  \"/>\n",
       "<polyline clip-path=\"url(#clip0002)\" style=\"stroke:#000000; stroke-width:0.5; stroke-opacity:0.1; fill:none\" points=\"\n",
       "  55.25,246.037 580.315,246.037 \n",
       "  \"/>\n",
       "<polyline clip-path=\"url(#clip0002)\" style=\"stroke:#000000; stroke-width:0.5; stroke-opacity:0.1; fill:none\" points=\"\n",
       "  55.25,184.438 580.315,184.438 \n",
       "  \"/>\n",
       "<polyline clip-path=\"url(#clip0002)\" style=\"stroke:#000000; stroke-width:0.5; stroke-opacity:0.1; fill:none\" points=\"\n",
       "  55.25,122.838 580.315,122.838 \n",
       "  \"/>\n",
       "<polyline clip-path=\"url(#clip0002)\" style=\"stroke:#000000; stroke-width:0.5; stroke-opacity:0.1; fill:none\" points=\"\n",
       "  55.25,61.239 580.315,61.239 \n",
       "  \"/>\n",
       "<polyline clip-path=\"url(#clip0000)\" style=\"stroke:#000000; stroke-width:1; stroke-opacity:1; fill:none\" points=\"\n",
       "  55.25,360.121 580.315,360.121 \n",
       "  \"/>\n",
       "<polyline clip-path=\"url(#clip0000)\" style=\"stroke:#000000; stroke-width:1; stroke-opacity:1; fill:none\" points=\"\n",
       "  55.25,360.121 55.25,11.811 \n",
       "  \"/>\n",
       "<polyline clip-path=\"url(#clip0000)\" style=\"stroke:#000000; stroke-width:1; stroke-opacity:1; fill:none\" points=\"\n",
       "  55.25,360.121 55.25,354.896 \n",
       "  \"/>\n",
       "<polyline clip-path=\"url(#clip0000)\" style=\"stroke:#000000; stroke-width:1; stroke-opacity:1; fill:none\" points=\"\n",
       "  160.263,360.121 160.263,354.896 \n",
       "  \"/>\n",
       "<polyline clip-path=\"url(#clip0000)\" style=\"stroke:#000000; stroke-width:1; stroke-opacity:1; fill:none\" points=\"\n",
       "  265.276,360.121 265.276,354.896 \n",
       "  \"/>\n",
       "<polyline clip-path=\"url(#clip0000)\" style=\"stroke:#000000; stroke-width:1; stroke-opacity:1; fill:none\" points=\"\n",
       "  370.289,360.121 370.289,354.896 \n",
       "  \"/>\n",
       "<polyline clip-path=\"url(#clip0000)\" style=\"stroke:#000000; stroke-width:1; stroke-opacity:1; fill:none\" points=\"\n",
       "  475.302,360.121 475.302,354.896 \n",
       "  \"/>\n",
       "<polyline clip-path=\"url(#clip0000)\" style=\"stroke:#000000; stroke-width:1; stroke-opacity:1; fill:none\" points=\"\n",
       "  580.315,360.121 580.315,354.896 \n",
       "  \"/>\n",
       "<polyline clip-path=\"url(#clip0000)\" style=\"stroke:#000000; stroke-width:1; stroke-opacity:1; fill:none\" points=\"\n",
       "  55.25,307.637 63.126,307.637 \n",
       "  \"/>\n",
       "<polyline clip-path=\"url(#clip0000)\" style=\"stroke:#000000; stroke-width:1; stroke-opacity:1; fill:none\" points=\"\n",
       "  55.25,246.037 63.126,246.037 \n",
       "  \"/>\n",
       "<polyline clip-path=\"url(#clip0000)\" style=\"stroke:#000000; stroke-width:1; stroke-opacity:1; fill:none\" points=\"\n",
       "  55.25,184.438 63.126,184.438 \n",
       "  \"/>\n",
       "<polyline clip-path=\"url(#clip0000)\" style=\"stroke:#000000; stroke-width:1; stroke-opacity:1; fill:none\" points=\"\n",
       "  55.25,122.838 63.126,122.838 \n",
       "  \"/>\n",
       "<polyline clip-path=\"url(#clip0000)\" style=\"stroke:#000000; stroke-width:1; stroke-opacity:1; fill:none\" points=\"\n",
       "  55.25,61.239 63.126,61.239 \n",
       "  \"/>\n",
       "<g clip-path=\"url(#clip0000)\">\n",
       "<text style=\"fill:#000000; fill-opacity:1; font-family:Arial,Helvetica Neue,Helvetica,sans-serif; font-size:12; text-anchor:middle;\" transform=\"rotate(0, 55.25, 373.921)\" x=\"55.25\" y=\"373.921\">0</text>\n",
       "</g>\n",
       "<g clip-path=\"url(#clip0000)\">\n",
       "<text style=\"fill:#000000; fill-opacity:1; font-family:Arial,Helvetica Neue,Helvetica,sans-serif; font-size:12; text-anchor:middle;\" transform=\"rotate(0, 160.263, 373.921)\" x=\"160.263\" y=\"373.921\">1</text>\n",
       "</g>\n",
       "<g clip-path=\"url(#clip0000)\">\n",
       "<text style=\"fill:#000000; fill-opacity:1; font-family:Arial,Helvetica Neue,Helvetica,sans-serif; font-size:12; text-anchor:middle;\" transform=\"rotate(0, 265.276, 373.921)\" x=\"265.276\" y=\"373.921\">2</text>\n",
       "</g>\n",
       "<g clip-path=\"url(#clip0000)\">\n",
       "<text style=\"fill:#000000; fill-opacity:1; font-family:Arial,Helvetica Neue,Helvetica,sans-serif; font-size:12; text-anchor:middle;\" transform=\"rotate(0, 370.289, 373.921)\" x=\"370.289\" y=\"373.921\">3</text>\n",
       "</g>\n",
       "<g clip-path=\"url(#clip0000)\">\n",
       "<text style=\"fill:#000000; fill-opacity:1; font-family:Arial,Helvetica Neue,Helvetica,sans-serif; font-size:12; text-anchor:middle;\" transform=\"rotate(0, 475.302, 373.921)\" x=\"475.302\" y=\"373.921\">4</text>\n",
       "</g>\n",
       "<g clip-path=\"url(#clip0000)\">\n",
       "<text style=\"fill:#000000; fill-opacity:1; font-family:Arial,Helvetica Neue,Helvetica,sans-serif; font-size:12; text-anchor:middle;\" transform=\"rotate(0, 580.315, 373.921)\" x=\"580.315\" y=\"373.921\">5</text>\n",
       "</g>\n",
       "<g clip-path=\"url(#clip0000)\">\n",
       "<text style=\"fill:#000000; fill-opacity:1; font-family:Arial,Helvetica Neue,Helvetica,sans-serif; font-size:12; text-anchor:end;\" transform=\"rotate(0, 49.25, 312.137)\" x=\"49.25\" y=\"312.137\">-0.2</text>\n",
       "</g>\n",
       "<g clip-path=\"url(#clip0000)\">\n",
       "<text style=\"fill:#000000; fill-opacity:1; font-family:Arial,Helvetica Neue,Helvetica,sans-serif; font-size:12; text-anchor:end;\" transform=\"rotate(0, 49.25, 250.537)\" x=\"49.25\" y=\"250.537\">-0.1</text>\n",
       "</g>\n",
       "<g clip-path=\"url(#clip0000)\">\n",
       "<text style=\"fill:#000000; fill-opacity:1; font-family:Arial,Helvetica Neue,Helvetica,sans-serif; font-size:12; text-anchor:end;\" transform=\"rotate(0, 49.25, 188.938)\" x=\"49.25\" y=\"188.938\">0.0</text>\n",
       "</g>\n",
       "<g clip-path=\"url(#clip0000)\">\n",
       "<text style=\"fill:#000000; fill-opacity:1; font-family:Arial,Helvetica Neue,Helvetica,sans-serif; font-size:12; text-anchor:end;\" transform=\"rotate(0, 49.25, 127.338)\" x=\"49.25\" y=\"127.338\">0.1</text>\n",
       "</g>\n",
       "<g clip-path=\"url(#clip0000)\">\n",
       "<text style=\"fill:#000000; fill-opacity:1; font-family:Arial,Helvetica Neue,Helvetica,sans-serif; font-size:12; text-anchor:end;\" transform=\"rotate(0, 49.25, 65.739)\" x=\"49.25\" y=\"65.739\">0.2</text>\n",
       "</g>\n",
       "<g clip-path=\"url(#clip0000)\">\n",
       "<text style=\"fill:#000000; fill-opacity:1; font-family:Arial,Helvetica Neue,Helvetica,sans-serif; font-size:16; text-anchor:middle;\" transform=\"rotate(0, 317.783, 397.6)\" x=\"317.783\" y=\"397.6\">Time [s]</text>\n",
       "</g>\n",
       "<g clip-path=\"url(#clip0000)\">\n",
       "<text style=\"fill:#000000; fill-opacity:1; font-family:Arial,Helvetica Neue,Helvetica,sans-serif; font-size:16; text-anchor:middle;\" transform=\"rotate(-90, 14.4, 185.966)\" x=\"14.4\" y=\"185.966\">Angle [rad]</text>\n",
       "</g>\n",
       "<polyline clip-path=\"url(#clip0002)\" style=\"stroke:#009af9; stroke-width:1; stroke-opacity:1; fill:none\" points=\"\n",
       "  55.25,87.4718 55.3551,87.4736 55.4601,87.4791 55.5651,87.4881 55.6701,87.5008 55.7751,87.5171 55.8801,87.537 55.9851,87.5605 56.0902,87.5877 56.1952,87.6185 \n",
       "  56.3002,87.6529 56.4052,87.6909 56.5102,87.7326 56.6152,87.7779 56.7202,87.8268 56.8252,87.8793 56.9303,87.9354 57.0353,87.9952 57.1403,88.0585 57.2453,88.1255 \n",
       "  57.3503,88.1962 57.4553,88.2704 57.5603,88.3483 57.6653,88.4297 57.7704,88.5148 57.8754,88.6035 57.9804,88.6959 58.0854,88.7918 58.1904,88.8914 58.2954,88.9946 \n",
       "  58.4004,89.1014 58.5054,89.2118 58.6105,89.3258 58.7155,89.4435 58.8205,89.5647 58.9255,89.6896 59.0305,89.8181 59.1355,89.9502 59.2405,90.086 59.3456,90.2253 \n",
       "  59.4506,90.3682 59.5556,90.5148 59.6606,90.665 59.7656,90.8187 59.8706,90.9761 59.9756,91.1371 60.0806,91.3017 60.1857,91.47 60.2907,91.6418 60.3957,91.8172 \n",
       "  60.5007,91.9962 60.6057,92.1789 60.7107,92.3651 60.8157,92.555 60.9207,92.7484 61.0258,92.9455 61.1308,93.1461 61.2358,93.3504 61.3408,93.5582 61.4458,93.7697 \n",
       "  61.5508,93.9847 61.6558,94.2033 61.7609,94.4256 61.8659,94.6514 61.9709,94.8808 62.0759,95.1138 62.1809,95.3504 62.2859,95.5906 62.3909,95.8344 62.4959,96.0817 \n",
       "  62.601,96.3327 62.706,96.5872 62.811,96.8453 62.916,97.107 63.021,97.3722 63.126,97.6411 63.231,97.9135 63.336,98.1894 63.4411,98.469 63.5461,98.7521 \n",
       "  63.6511,99.0388 63.7561,99.3291 63.8611,99.6229 63.9661,99.9202 64.0711,100.221 64.1761,100.526 64.2812,100.834 64.3862,101.145 64.4912,101.46 64.5962,101.779 \n",
       "  64.7012,102.101 64.8062,102.427 64.9112,102.757 65.0163,103.089 65.1213,103.426 65.2263,103.766 65.3313,104.109 65.4363,104.456 65.5413,104.807 65.6463,105.161 \n",
       "  65.7513,105.518 65.8564,105.879 65.9614,106.244 66.0664,106.612 66.1714,106.984 66.2764,107.359 66.3814,107.737 66.4864,108.119 66.5914,108.505 66.6965,108.894 \n",
       "  66.8015,109.286 66.9065,109.682 67.0115,110.082 67.1165,110.485 67.2215,110.891 67.3265,111.301 67.4316,111.714 67.5366,112.131 67.6416,112.551 67.7466,112.975 \n",
       "  67.8516,113.402 67.9566,113.833 68.0616,114.267 68.1666,114.704 68.2717,115.145 68.3767,115.589 68.4817,116.037 68.5867,116.488 68.6917,116.942 68.7967,117.4 \n",
       "  68.9017,117.861 69.0067,118.326 69.1118,118.794 69.2168,119.265 69.3218,119.739 69.4268,120.217 69.5318,120.699 69.6368,121.183 69.7418,121.671 69.8469,122.163 \n",
       "  69.9519,122.657 70.0569,123.155 70.1619,123.656 70.2669,124.161 70.3719,124.669 70.4769,125.18 70.5819,125.694 70.687,126.211 70.792,126.732 70.897,127.256 \n",
       "  71.002,127.784 71.107,128.314 71.212,128.848 71.317,129.385 71.422,129.925 71.5271,130.468 71.6321,131.014 71.7371,131.564 71.8421,132.117 71.9471,132.673 \n",
       "  72.0521,133.231 72.1571,133.794 72.2621,134.359 72.3672,134.927 72.4722,135.498 72.5772,136.073 72.6822,136.65 72.7872,137.231 72.8922,137.814 72.9972,138.401 \n",
       "  73.1023,138.991 73.2073,139.583 73.3123,140.179 73.4173,140.777 73.5223,141.379 73.6273,141.983 73.7323,142.59 73.8373,143.2 73.9424,143.813 74.0474,144.429 \n",
       "  74.1524,145.048 74.2574,145.67 74.3624,146.294 74.4674,146.922 74.5724,147.552 74.6774,148.185 74.7825,148.82 74.8875,149.458 74.9925,150.1 75.0975,150.743 \n",
       "  75.2025,151.39 75.3075,152.039 75.4125,152.691 75.5176,153.345 75.6226,154.002 75.7276,154.662 75.8326,155.324 75.9376,155.989 76.0426,156.656 76.1476,157.326 \n",
       "  76.2526,157.998 76.3577,158.673 76.4627,159.35 76.5677,160.029 76.6727,160.711 76.7777,161.396 76.8827,162.083 76.9877,162.772 77.0927,163.463 77.1978,164.157 \n",
       "  77.3028,164.853 77.4078,165.551 77.5128,166.251 77.6178,166.954 77.7228,167.659 77.8278,168.366 77.9329,169.075 78.0379,169.786 78.1429,170.499 78.2479,171.214 \n",
       "  78.3529,171.931 78.4579,172.651 78.5629,173.372 78.6679,174.095 78.773,174.82 78.878,175.547 78.983,176.276 79.088,177.006 79.193,177.738 79.298,178.472 \n",
       "  79.403,179.208 79.508,179.946 79.6131,180.685 79.7181,181.426 79.8231,182.168 79.9281,182.912 80.0331,183.658 80.1381,184.405 80.2431,185.153 80.3481,185.903 \n",
       "  80.4532,186.655 80.5582,187.407 80.6632,188.162 80.7682,188.917 80.8732,189.674 80.9782,190.432 81.0832,191.191 81.1883,191.951 81.2933,192.713 81.3983,193.475 \n",
       "  81.5033,194.239 81.6083,195.004 81.7133,195.77 81.8183,196.536 81.9233,197.304 82.0284,198.073 82.1334,198.842 82.2384,199.612 82.3434,200.383 82.4484,201.155 \n",
       "  82.5534,201.928 82.6584,202.701 82.7634,203.475 82.8685,204.249 82.9735,205.024 83.0785,205.8 83.1835,206.576 83.2885,207.352 83.3935,208.129 83.4985,208.907 \n",
       "  83.6036,209.684 83.7086,210.462 83.8136,211.241 83.9186,212.019 84.0236,212.798 84.1286,213.577 84.2336,214.355 84.3386,215.134 84.4437,215.913 84.5487,216.692 \n",
       "  84.6537,217.471 84.7587,218.25 84.8637,219.029 84.9687,219.808 85.0737,220.586 85.1787,221.364 85.2838,222.142 85.3888,222.92 85.4938,223.697 85.5988,224.474 \n",
       "  85.7038,225.25 85.8088,226.026 85.9138,226.801 86.0189,227.576 86.1239,228.35 86.2289,229.124 86.3339,229.897 86.4389,230.669 86.5439,231.441 86.6489,232.211 \n",
       "  86.7539,232.981 86.859,233.75 86.964,234.518 87.069,235.285 87.174,236.052 87.279,236.817 87.384,237.581 87.489,238.344 87.594,239.106 87.6991,239.866 \n",
       "  87.8041,240.626 87.9091,241.384 88.0141,242.141 88.1191,242.896 88.2241,243.651 88.3291,244.403 88.4341,245.155 88.5392,245.905 88.6442,246.653 88.7492,247.4 \n",
       "  88.8542,248.146 88.9592,248.889 89.0642,249.631 89.1692,250.372 89.2743,251.11 89.3793,251.847 89.4843,252.582 89.5893,253.316 89.6943,254.047 89.7993,254.777 \n",
       "  89.9043,255.504 90.0093,256.23 90.1144,256.954 90.2194,257.675 90.3244,258.395 90.4294,259.112 90.5344,259.828 90.6394,260.541 90.7444,261.252 90.8494,261.961 \n",
       "  90.9545,262.668 91.0595,263.372 91.1645,264.074 91.2695,264.774 91.3745,265.471 91.4795,266.166 91.5845,266.858 91.6896,267.548 91.7946,268.236 91.8996,268.921 \n",
       "  92.0046,269.603 92.1096,270.283 92.2146,270.961 92.3196,271.635 92.4246,272.307 92.5297,272.977 92.6347,273.643 92.7397,274.307 92.8447,274.969 92.9497,275.627 \n",
       "  93.0547,276.283 93.1597,276.935 93.2647,277.585 93.3698,278.232 93.4748,278.876 93.5798,279.518 93.6848,280.156 93.7898,280.791 93.8948,281.423 93.9998,282.053 \n",
       "  94.1048,282.679 94.2099,283.302 94.3149,283.922 94.4199,284.539 94.5249,285.153 94.6299,285.764 94.7349,286.371 94.8399,286.975 94.945,287.577 95.05,288.174 \n",
       "  95.155,288.769 95.26,289.36 95.365,289.949 95.47,290.533 95.575,291.115 95.68,291.693 95.7851,292.268 95.8901,292.839 95.9951,293.407 96.1001,293.972 \n",
       "  96.2051,294.533 96.3101,295.09 96.4151,295.645 96.5201,296.195 96.6252,296.743 96.7302,297.286 96.8352,297.827 96.9402,298.363 97.0452,298.896 97.1502,299.426 \n",
       "  97.2552,299.952 97.3603,300.474 97.4653,300.993 97.5703,301.508 97.6753,302.02 97.7803,302.528 97.8853,303.032 97.9903,303.533 98.0953,304.03 98.2004,304.523 \n",
       "  98.3054,305.012 98.4104,305.498 98.5154,305.98 98.6204,306.459 98.7254,306.933 98.8304,307.404 98.9354,307.871 99.0405,308.334 99.1455,308.794 99.2505,309.249 \n",
       "  99.3555,309.701 99.4605,310.149 99.5655,310.593 99.6705,311.033 99.7756,311.47 99.8806,311.903 99.9856,312.331 100.091,312.756 100.196,313.177 100.301,313.594 \n",
       "  100.406,314.007 100.511,314.417 100.616,314.822 100.721,315.224 100.826,315.621 100.931,316.015 101.036,316.404 101.141,316.79 101.246,317.172 101.351,317.549 \n",
       "  101.456,317.923 101.561,318.293 101.666,318.659 101.771,319.021 101.876,319.379 101.981,319.732 102.086,320.082 102.191,320.428 102.296,320.77 102.401,321.108 \n",
       "  102.506,321.442 102.611,321.771 102.716,322.097 102.821,322.419 102.926,322.736 103.031,323.05 103.136,323.359 103.241,323.665 103.346,323.966 103.451,324.264 \n",
       "  103.556,324.557 103.661,324.846 103.766,325.131 103.871,325.412 103.976,325.689 104.081,325.962 104.186,326.231 104.291,326.496 104.396,326.756 104.501,327.013 \n",
       "  104.606,327.265 104.711,327.513 104.816,327.758 104.921,327.998 105.026,328.234 105.131,328.465 105.236,328.693 105.341,328.917 105.446,329.136 105.551,329.352 \n",
       "  105.656,329.563 105.761,329.77 105.866,329.973 105.971,330.172 106.076,330.367 106.181,330.557 106.286,330.744 106.391,330.926 106.496,331.104 106.601,331.278 \n",
       "  106.706,331.448 106.811,331.614 106.916,331.776 107.021,331.933 107.126,332.087 107.231,332.236 107.336,332.381 107.441,332.522 107.547,332.659 107.652,332.791 \n",
       "  107.757,332.92 107.862,333.044 107.967,333.164 108.072,333.28 108.177,333.392 108.282,333.5 108.387,333.603 108.492,333.703 108.597,333.798 108.702,333.889 \n",
       "  108.807,333.976 108.912,334.059 109.017,334.137 109.122,334.212 109.227,334.282 109.332,334.348 109.437,334.411 109.542,334.468 109.647,334.522 109.752,334.572 \n",
       "  109.857,334.617 109.962,334.658 110.067,334.695 110.172,334.728 110.277,334.757 110.382,334.782 110.487,334.802 110.592,334.819 110.697,334.831 110.802,334.839 \n",
       "  110.907,334.843 111.012,334.843 111.117,334.838 111.222,334.83 111.327,334.817 111.432,334.8 111.537,334.779 111.642,334.754 111.747,334.725 111.852,334.691 \n",
       "  111.957,334.654 112.062,334.612 112.167,334.566 112.272,334.516 112.377,334.462 112.482,334.404 112.587,334.342 112.692,334.275 112.797,334.205 112.902,334.13 \n",
       "  113.007,334.051 113.112,333.968 113.217,333.881 113.322,333.789 113.427,333.694 113.532,333.594 113.637,333.491 113.742,333.383 113.847,333.271 113.952,333.155 \n",
       "  114.057,333.035 114.162,332.91 114.267,332.782 114.372,332.65 114.477,332.513 114.582,332.372 114.687,332.227 114.792,332.078 114.897,331.925 115.002,331.768 \n",
       "  115.107,331.607 115.212,331.442 115.317,331.272 115.422,331.099 115.527,330.921 115.633,330.739 115.738,330.553 115.843,330.363 115.948,330.169 116.053,329.971 \n",
       "  116.158,329.769 116.263,329.563 116.368,329.352 116.473,329.138 116.578,328.919 116.683,328.697 116.788,328.47 116.893,328.239 116.998,328.005 117.103,327.766 \n",
       "  117.208,327.523 117.313,327.276 117.418,327.025 117.523,326.77 117.628,326.511 117.733,326.247 117.838,325.98 117.943,325.709 118.048,325.434 118.153,325.154 \n",
       "  118.258,324.871 118.363,324.583 118.468,324.292 118.573,323.996 118.678,323.697 118.783,323.393 118.888,323.086 118.993,322.774 119.098,322.458 119.203,322.139 \n",
       "  119.308,321.815 119.413,321.487 119.518,321.156 119.623,320.82 119.728,320.48 119.833,320.137 119.938,319.789 120.043,319.437 120.148,319.082 120.253,318.722 \n",
       "  120.358,318.359 120.463,317.991 120.568,317.62 120.673,317.244 120.778,316.865 120.883,316.481 120.988,316.094 121.093,315.703 121.198,315.307 121.303,314.908 \n",
       "  121.408,314.505 121.513,314.098 121.618,313.687 121.723,313.272 121.828,312.853 121.933,312.431 122.038,312.004 122.143,311.573 122.248,311.139 122.353,310.7 \n",
       "  122.458,310.258 122.563,309.812 122.668,309.362 122.773,308.908 122.878,308.45 122.983,307.989 123.088,307.523 123.193,307.054 123.298,306.581 123.403,306.104 \n",
       "  123.508,305.623 123.613,305.138 123.719,304.649 123.824,304.157 123.929,303.661 124.034,303.161 124.139,302.657 124.244,302.149 124.349,301.638 124.454,301.123 \n",
       "  124.559,300.604 124.664,300.081 124.769,299.555 124.874,299.024 124.979,298.49 125.084,297.953 125.189,297.411 125.294,296.866 125.399,296.317 125.504,295.765 \n",
       "  125.609,295.208 125.714,294.648 125.819,294.085 125.924,293.517 126.029,292.946 126.134,292.371 126.239,291.793 126.344,291.211 126.449,290.625 126.554,290.036 \n",
       "  126.659,289.443 126.764,288.847 126.869,288.247 126.974,287.643 127.079,287.036 127.184,286.425 127.289,285.81 127.394,285.192 127.499,284.571 127.604,283.946 \n",
       "  127.709,283.317 127.814,282.685 127.919,282.05 128.024,281.411 128.129,280.768 128.234,280.122 128.339,279.473 128.444,278.82 128.549,278.164 128.654,277.504 \n",
       "  128.759,276.841 128.864,276.175 128.969,275.505 129.074,274.832 129.179,274.155 129.284,273.475 129.389,272.792 129.494,272.105 129.599,271.416 129.704,270.722 \n",
       "  129.809,270.026 129.914,269.327 130.019,268.624 130.124,267.918 130.229,267.208 130.334,266.496 130.439,265.78 130.544,265.062 130.649,264.34 130.754,263.615 \n",
       "  130.859,262.886 130.964,262.155 131.069,261.421 131.174,260.684 131.279,259.943 131.384,259.2 131.489,258.453 131.594,257.704 131.699,256.951 131.805,256.196 \n",
       "  131.91,255.438 132.015,254.677 132.12,253.913 132.225,253.146 132.33,252.376 132.435,251.603 132.54,250.828 132.645,250.05 132.75,249.269 132.855,248.485 \n",
       "  132.96,247.699 133.065,246.91 133.17,246.118 133.275,245.323 133.38,244.526 133.485,243.726 133.59,242.924 133.695,242.119 133.8,241.312 133.905,240.502 \n",
       "  134.01,239.69 134.115,238.875 134.22,238.057 134.325,237.238 134.43,236.415 134.535,235.591 134.64,234.764 134.745,233.935 134.85,233.104 134.955,232.27 \n",
       "  135.06,231.434 135.165,230.596 135.27,229.755 135.375,228.913 135.48,228.068 135.585,227.222 135.69,226.373 135.795,225.522 135.9,224.669 136.005,223.814 \n",
       "  136.11,222.957 136.215,222.099 136.32,221.238 136.425,220.376 136.53,219.511 136.635,218.645 136.74,217.777 136.845,216.908 136.95,216.037 137.055,215.164 \n",
       "  137.16,214.289 137.265,213.413 137.37,212.535 137.475,211.656 137.58,210.775 137.685,209.892 137.79,209.009 137.895,208.123 138,207.237 138.105,206.349 \n",
       "  138.21,205.46 138.315,204.569 138.42,203.677 138.525,202.784 138.63,201.89 138.735,200.995 138.84,200.098 138.945,199.201 139.05,198.302 139.155,197.403 \n",
       "  139.26,196.502 139.365,195.601 139.47,194.699 139.575,193.796 139.68,192.892 139.785,191.987 139.891,191.082 139.996,190.175 140.101,189.269 140.206,188.361 \n",
       "  140.311,187.453 140.416,186.545 140.521,185.635 140.626,184.726 140.731,183.816 140.836,182.905 140.941,181.995 141.046,181.083 141.151,180.172 141.256,179.26 \n",
       "  141.361,178.348 141.466,177.436 141.571,176.524 141.676,175.612 141.781,174.699 141.886,173.787 141.991,172.875 142.096,171.962 142.201,171.05 142.306,170.138 \n",
       "  142.411,169.226 142.516,168.314 142.621,167.403 142.726,166.492 142.831,165.581 142.936,164.67 143.041,163.76 143.146,162.851 143.251,161.941 143.356,161.033 \n",
       "  143.461,160.125 143.566,159.217 143.671,158.31 143.776,157.404 143.881,156.498 143.986,155.594 144.091,154.69 144.196,153.786 144.301,152.884 144.406,151.983 \n",
       "  144.511,151.082 144.616,150.183 144.721,149.284 144.826,148.386 144.931,147.49 145.036,146.595 145.141,145.7 145.246,144.807 145.351,143.916 145.456,143.025 \n",
       "  145.561,142.136 145.666,141.248 145.771,140.361 145.876,139.476 145.981,138.592 146.086,137.71 146.191,136.829 146.296,135.95 146.401,135.073 146.506,134.196 \n",
       "  146.611,133.322 146.716,132.449 146.821,131.578 146.926,130.709 147.031,129.841 147.136,128.976 147.241,128.112 147.346,127.25 147.451,126.39 147.556,125.531 \n",
       "  147.661,124.675 147.766,123.821 147.871,122.969 147.977,122.118 148.082,121.27 148.187,120.424 148.292,119.58 148.397,118.739 148.502,117.899 148.607,117.062 \n",
       "  148.712,116.227 148.817,115.394 148.922,114.564 149.027,113.736 149.132,112.91 149.237,112.087 149.342,111.266 149.447,110.448 149.552,109.632 149.657,108.818 \n",
       "  149.762,108.008 149.867,107.199 149.972,106.394 150.077,105.59 150.182,104.79 150.287,103.992 150.392,103.197 150.497,102.405 150.602,101.615 150.707,100.828 \n",
       "  150.812,100.044 150.917,99.2626 151.022,98.4841 151.127,97.7084 151.232,96.9356 151.337,96.1657 151.442,95.3988 151.547,94.6347 151.652,93.8737 151.757,93.1156 \n",
       "  151.862,92.3605 151.967,91.6084 152.072,90.8594 152.177,90.1134 152.282,89.3706 152.387,88.6308 152.492,87.8941 152.597,87.1606 152.702,86.4303 152.807,85.7031 \n",
       "  152.912,84.9791 153.017,84.2584 153.122,83.5408 153.227,82.8266 153.332,82.1155 153.437,81.4078 153.542,80.7034 153.647,80.0023 153.752,79.3045 153.857,78.6101 \n",
       "  153.962,77.919 154.067,77.2314 154.172,76.5471 154.277,75.8662 154.382,75.1888 154.487,74.5148 154.592,73.8443 154.697,73.1772 154.802,72.5137 154.907,71.8536 \n",
       "  155.012,71.1971 155.117,70.544 155.222,69.8946 155.327,69.2486 155.432,68.6063 155.537,67.9675 155.642,67.3323 155.747,66.7007 155.852,66.0728 155.957,65.4484 \n",
       "  156.063,64.8278 156.168,64.2107 156.273,63.5974 156.378,62.9877 156.483,62.3817 156.588,61.7794 156.693,61.1808 156.798,60.5859 156.903,59.9947 157.008,59.4073 \n",
       "  157.113,58.8237 157.218,58.2438 157.323,57.6677 157.428,57.0953 157.533,56.5268 157.638,55.962 157.743,55.4011 157.848,54.844 157.953,54.2907 158.058,53.7412 \n",
       "  158.163,53.1956 158.268,52.6538 158.373,52.1159 158.478,51.5819 158.583,51.0517 158.688,50.5255 158.793,50.0031 158.898,49.4846 159.003,48.97 159.108,48.4594 \n",
       "  159.213,47.9526 159.318,47.4498 159.423,46.951 159.528,46.456 159.633,45.9651 159.738,45.478 159.843,44.995 159.948,44.5159 160.053,44.0408 160.158,43.5697 \n",
       "  160.263,43.1025 160.368,42.6394 160.473,42.1802 160.578,41.7251 160.683,41.274 160.788,40.8269 160.893,40.3838 160.998,39.9447 161.103,39.5097 161.208,39.0787 \n",
       "  161.313,38.6518 161.418,38.2289 161.523,37.8101 161.628,37.3953 161.733,36.9846 161.838,36.578 161.943,36.1754 162.048,35.7769 162.153,35.3825 162.258,34.9922 \n",
       "  162.363,34.606 162.468,34.2238 162.573,33.8458 162.678,33.4719 162.783,33.1021 162.888,32.7364 162.993,32.3748 163.098,32.0173 163.203,31.6639 163.308,31.3147 \n",
       "  163.413,30.9696 163.518,30.6287 163.623,30.2919 163.728,29.9592 163.833,29.6307 163.938,29.3063 164.043,28.986 164.149,28.67 164.254,28.358 164.359,28.0503 \n",
       "  164.464,27.7467 164.569,27.4473 164.674,27.152 164.779,26.8609 164.884,26.574 164.989,26.2913 165.094,26.0127 165.199,25.7383 165.304,25.4682 165.409,25.2022 \n",
       "  165.514,24.9404 165.619,24.6827 165.724,24.4293 165.829,24.1801 165.934,23.9351 166.039,23.6943 166.144,23.4577 166.249,23.2253 166.354,22.9971 166.459,22.7731 \n",
       "  166.564,22.5533 166.669,22.3378 166.774,22.1264 166.879,21.9193 166.984,21.7164 167.089,21.5178 167.194,21.3233 167.299,21.1331 167.404,20.9471 167.509,20.7654 \n",
       "  167.614,20.5879 167.719,20.4146 167.824,20.2455 167.929,20.0807 168.034,19.9201 168.139,19.7638 168.244,19.6117 168.349,19.4638 168.454,19.3202 168.559,19.1809 \n",
       "  168.664,19.0458 168.769,18.9149 168.874,18.7883 168.979,18.6659 169.084,18.5478 169.189,18.434 169.294,18.3244 169.399,18.219 169.504,18.118 169.609,18.0211 \n",
       "  169.714,17.9286 169.819,17.8403 169.924,17.7562 170.029,17.6764 170.134,17.6009 170.239,17.5297 170.344,17.4627 170.449,17.4 170.554,17.3415 170.659,17.2873 \n",
       "  170.764,17.2374 170.869,17.1917 170.974,17.1504 171.079,17.1133 171.184,17.0804 171.289,17.0519 171.394,17.0276 171.499,17.0075 171.604,16.9918 171.709,16.9803 \n",
       "  171.814,16.9731 171.919,16.9702 172.024,16.9715 172.129,16.9772 172.235,16.987 172.34,17.0012 172.445,17.0197 172.55,17.0424 172.655,17.0694 172.76,17.1007 \n",
       "  172.865,17.1362 172.97,17.1761 173.075,17.2202 173.18,17.2686 173.285,17.3212 173.39,17.3781 173.495,17.4394 173.6,17.5048 173.705,17.5746 173.81,17.6486 \n",
       "  173.915,17.727 174.02,17.8095 174.125,17.8964 174.23,17.9875 174.335,18.083 174.44,18.1826 174.545,18.2866 174.65,18.3948 174.755,18.5073 174.86,18.6241 \n",
       "  174.965,18.7451 175.07,18.8704 175.175,19 175.28,19.1339 175.385,19.272 175.49,19.4143 175.595,19.561 175.7,19.7119 175.805,19.867 175.91,20.0265 \n",
       "  176.015,20.1902 176.12,20.3581 176.225,20.5303 176.33,20.7067 176.435,20.8875 176.54,21.0724 176.645,21.2616 176.75,21.4551 176.855,21.6528 176.96,21.8548 \n",
       "  177.065,22.061 177.17,22.2714 177.275,22.4861 177.38,22.705 177.485,22.9282 177.59,23.1556 177.695,23.3872 177.8,23.623 177.905,23.8631 178.01,24.1074 \n",
       "  178.115,24.356 178.22,24.6087 178.325,24.8657 178.43,25.1268 178.535,25.3922 178.64,25.6618 178.745,25.9356 178.85,26.2136 178.955,26.4958 179.06,26.7822 \n",
       "  179.165,27.0728 179.27,27.3676 179.375,27.6666 179.48,27.9697 179.585,28.277 179.69,28.5885 179.795,28.9042 179.9,29.224 180.005,29.548 180.11,29.8762 \n",
       "  180.215,30.2085 180.321,30.5449 180.426,30.8855 180.531,31.2303 180.636,31.5791 180.741,31.9321 180.846,32.2893 180.951,32.6505 181.056,33.0159 181.161,33.3853 \n",
       "  181.266,33.7589 181.371,34.1366 181.476,34.5184 181.581,34.9042 181.686,35.2941 181.791,35.6881 181.896,36.0862 182.001,36.4883 182.106,36.8945 182.211,37.3048 \n",
       "  182.316,37.719 182.421,38.1374 182.526,38.5597 182.631,38.986 182.736,39.4164 182.841,39.8508 182.946,40.2892 183.051,40.7315 183.156,41.1779 183.261,41.6282 \n",
       "  183.366,42.0824 183.471,42.5407 183.576,43.0029 183.681,43.469 183.786,43.939 183.891,44.413 183.996,44.8909 184.101,45.3726 184.206,45.8583 184.311,46.3478 \n",
       "  184.416,46.8413 184.521,47.3385 184.626,47.8397 184.731,48.3446 184.836,48.8534 184.941,49.366 185.046,49.8824 185.151,50.4026 185.256,50.9266 185.361,51.4544 \n",
       "  185.466,51.9859 185.571,52.5211 185.676,53.0601 185.781,53.6028 185.886,54.1492 185.991,54.6994 186.096,55.2531 186.201,55.8106 186.306,56.3717 186.411,56.9364 \n",
       "  186.516,57.5048 186.621,58.0768 186.726,58.6523 186.831,59.2315 186.936,59.8142 187.041,60.4004 187.146,60.9902 187.251,61.5835 187.356,62.1803 187.461,62.7806 \n",
       "  187.566,63.3843 187.671,63.9915 187.776,64.6021 187.881,65.2161 187.986,65.8336 188.091,66.4544 188.196,67.0785 188.301,67.706 188.407,68.3368 188.512,68.9709 \n",
       "  188.617,69.6083 188.722,70.249 188.827,70.8929 188.932,71.54 189.037,72.1903 189.142,72.8438 189.247,73.5005 189.352,74.1603 189.457,74.8232 189.562,75.4891 \n",
       "  189.667,76.1582 189.772,76.8303 189.877,77.5055 189.982,78.1836 190.087,78.8647 190.192,79.5488 190.297,80.2357 190.402,80.9256 190.507,81.6184 190.612,82.314 \n",
       "  190.717,83.0125 190.822,83.7138 190.927,84.4178 191.032,85.1246 191.137,85.8341 191.242,86.5464 191.347,87.2612 191.452,87.9788 191.557,88.6989 191.662,89.4217 \n",
       "  191.767,90.147 191.872,90.8748 191.977,91.6052 192.082,92.338 192.187,93.0732 192.292,93.8109 192.397,94.551 192.502,95.2934 192.607,96.0382 192.712,96.7852 \n",
       "  192.817,97.5345 192.922,98.2861 193.027,99.0398 193.132,99.7958 193.237,100.554 193.342,101.314 193.447,102.076 193.552,102.841 193.657,103.607 193.762,104.375 \n",
       "  193.867,105.145 193.972,105.917 194.077,106.691 194.182,107.467 194.287,108.245 194.392,109.024 194.497,109.806 194.602,110.588 194.707,111.373 194.812,112.159 \n",
       "  194.917,112.947 195.022,113.736 195.127,114.527 195.232,115.319 195.337,116.113 195.442,116.908 195.547,117.705 195.652,118.503 195.757,119.302 195.862,120.103 \n",
       "  195.967,120.904 196.072,121.707 196.177,122.511 196.282,123.317 196.387,124.123 196.493,124.93 196.598,125.739 196.703,126.548 196.808,127.358 196.913,128.17 \n",
       "  197.018,128.982 197.123,129.794 197.228,130.608 197.333,131.422 197.438,132.237 197.543,133.053 197.648,133.87 197.753,134.686 197.858,135.504 197.963,136.322 \n",
       "  198.068,137.14 198.173,137.959 198.278,138.779 198.383,139.598 198.488,140.418 198.593,141.238 198.698,142.059 198.803,142.88 198.908,143.7 199.013,144.521 \n",
       "  199.118,145.342 199.223,146.164 199.328,146.985 199.433,147.806 199.538,148.627 199.643,149.448 199.748,150.268 199.853,151.089 199.958,151.909 200.063,152.729 \n",
       "  200.168,153.549 200.273,154.368 200.378,155.188 200.483,156.006 200.588,156.824 200.693,157.642 200.798,158.459 200.903,159.276 201.008,160.092 201.113,160.907 \n",
       "  201.218,161.722 201.323,162.536 201.428,163.349 201.533,164.162 201.638,164.974 201.743,165.785 201.848,166.595 201.953,167.404 202.058,168.212 202.163,169.019 \n",
       "  202.268,169.825 202.373,170.63 202.478,171.434 202.583,172.237 202.688,173.038 202.793,173.839 202.898,174.638 203.003,175.436 203.108,176.233 203.213,177.028 \n",
       "  203.318,177.822 203.423,178.615 203.528,179.406 203.633,180.196 203.738,180.984 203.843,181.771 203.948,182.556 204.053,183.34 204.158,184.122 204.263,184.903 \n",
       "  204.368,185.681 204.473,186.459 204.579,187.234 204.684,188.008 204.789,188.779 204.894,189.549 204.999,190.318 205.104,191.084 205.209,191.848 205.314,192.611 \n",
       "  205.419,193.372 205.524,194.13 205.629,194.887 205.734,195.642 205.839,196.394 205.944,197.145 206.049,197.893 206.154,198.639 206.259,199.383 206.364,200.125 \n",
       "  206.469,200.865 206.574,201.603 206.679,202.338 206.784,203.071 206.889,203.802 206.994,204.53 207.099,205.256 207.204,205.98 207.309,206.701 207.414,207.42 \n",
       "  207.519,208.137 207.624,208.851 207.729,209.563 207.834,210.272 207.939,210.979 208.044,211.683 208.149,212.384 208.254,213.083 208.359,213.78 208.464,214.474 \n",
       "  208.569,215.165 208.674,215.854 208.779,216.54 208.884,217.223 208.989,217.903 209.094,218.581 209.199,219.256 209.304,219.929 209.409,220.598 209.514,221.265 \n",
       "  209.619,221.929 209.724,222.591 209.829,223.249 209.934,223.905 210.039,224.558 210.144,225.208 210.249,225.855 210.354,226.499 210.459,227.14 210.564,227.778 \n",
       "  210.669,228.414 210.774,229.046 210.879,229.675 210.984,230.302 211.089,230.925 211.194,231.546 211.299,232.163 211.404,232.778 211.509,233.389 211.614,233.997 \n",
       "  211.719,234.603 211.824,235.205 211.929,235.804 212.034,236.4 212.139,236.993 212.244,237.582 212.349,238.169 212.454,238.753 212.559,239.333 212.665,239.91 \n",
       "  212.77,240.484 212.875,241.055 212.98,241.622 213.085,242.187 213.19,242.748 213.295,243.306 213.4,243.861 213.505,244.412 213.61,244.961 213.715,245.506 \n",
       "  213.82,246.047 213.925,246.586 214.03,247.121 214.135,247.653 214.24,248.181 214.345,248.707 214.45,249.229 214.555,249.747 214.66,250.263 214.765,250.775 \n",
       "  214.87,251.283 214.975,251.789 215.08,252.291 215.185,252.789 215.29,253.285 215.395,253.776 215.5,254.265 215.605,254.75 215.71,255.232 215.815,255.71 \n",
       "  215.92,256.185 216.025,256.657 216.13,257.125 216.235,257.589 216.34,258.051 216.445,258.508 216.55,258.963 216.655,259.414 216.76,259.861 216.865,260.305 \n",
       "  216.97,260.746 217.075,261.183 217.18,261.617 217.285,262.047 217.39,262.474 217.495,262.897 217.6,263.317 217.705,263.733 217.81,264.146 217.915,264.555 \n",
       "  218.02,264.961 218.125,265.363 218.23,265.762 218.335,266.157 218.44,266.549 218.545,266.937 218.65,267.322 218.755,267.703 218.86,268.08 218.965,268.455 \n",
       "  219.07,268.825 219.175,269.192 219.28,269.556 219.385,269.916 219.49,270.272 219.595,270.625 219.7,270.974 219.805,271.32 219.91,271.662 220.015,272.001 \n",
       "  220.12,272.336 220.225,272.667 220.33,272.995 220.435,273.32 220.54,273.64 220.645,273.958 220.751,274.271 220.856,274.581 220.961,274.888 221.066,275.191 \n",
       "  221.171,275.49 221.276,275.786 221.381,276.078 221.486,276.366 221.591,276.651 221.696,276.932 221.801,277.21 221.906,277.484 222.011,277.754 222.116,278.021 \n",
       "  222.221,278.285 222.326,278.544 222.431,278.8 222.536,279.053 222.641,279.301 222.746,279.547 222.851,279.788 222.956,280.026 223.061,280.26 223.166,280.491 \n",
       "  223.271,280.718 223.376,280.941 223.481,281.161 223.586,281.377 223.691,281.59 223.796,281.799 223.901,282.004 224.006,282.205 224.111,282.403 224.216,282.598 \n",
       "  224.321,282.788 224.426,282.975 224.531,283.159 224.636,283.338 224.741,283.514 224.846,283.687 224.951,283.856 225.056,284.021 225.161,284.182 225.266,284.34 \n",
       "  225.371,284.494 225.476,284.644 225.581,284.791 225.686,284.934 225.791,285.074 225.896,285.21 226.001,285.342 226.106,285.47 226.211,285.595 226.316,285.716 \n",
       "  226.421,285.834 226.526,285.948 226.631,286.058 226.736,286.164 226.841,286.267 226.946,286.366 227.051,286.462 227.156,286.553 227.261,286.642 227.366,286.726 \n",
       "  227.471,286.807 227.576,286.884 227.681,286.957 227.786,287.027 227.891,287.093 227.996,287.155 228.101,287.214 228.206,287.269 228.311,287.32 228.416,287.368 \n",
       "  228.521,287.412 228.626,287.452 228.731,287.488 228.837,287.521 228.942,287.55 229.047,287.576 229.152,287.597 229.257,287.616 229.362,287.63 229.467,287.641 \n",
       "  229.572,287.648 229.677,287.651 229.782,287.65 229.887,287.646 229.992,287.639 230.097,287.627 230.202,287.612 230.307,287.593 230.412,287.57 230.517,287.544 \n",
       "  230.622,287.514 230.727,287.48 230.832,287.443 230.937,287.402 231.042,287.357 231.147,287.309 231.252,287.256 231.357,287.2 231.462,287.141 231.567,287.077 \n",
       "  231.672,287.01 231.777,286.94 231.882,286.865 231.987,286.787 232.092,286.705 232.197,286.62 232.302,286.53 232.407,286.437 232.512,286.341 232.617,286.24 \n",
       "  232.722,286.136 232.827,286.028 232.932,285.917 233.037,285.802 233.142,285.683 233.247,285.56 233.352,285.434 233.457,285.304 233.562,285.17 233.667,285.033 \n",
       "  233.772,284.891 233.877,284.747 233.982,284.598 234.087,284.446 234.192,284.29 234.297,284.13 234.402,283.967 234.507,283.799 234.612,283.629 234.717,283.454 \n",
       "  234.822,283.276 234.927,283.094 235.032,282.908 235.137,282.719 235.242,282.526 235.347,282.329 235.452,282.129 235.557,281.925 235.662,281.717 235.767,281.505 \n",
       "  235.872,281.29 235.977,281.071 236.082,280.849 236.187,280.623 236.292,280.393 236.397,280.159 236.502,279.922 236.607,279.68 236.712,279.436 236.817,279.187 \n",
       "  236.923,278.935 237.028,278.679 237.133,278.42 237.238,278.157 237.343,277.89 237.448,277.62 237.553,277.345 237.658,277.068 237.763,276.786 237.868,276.501 \n",
       "  237.973,276.212 238.078,275.92 238.183,275.623 238.288,275.324 238.393,275.02 238.498,274.713 238.603,274.402 238.708,274.088 238.813,273.77 238.918,273.448 \n",
       "  239.023,273.123 239.128,272.794 239.233,272.461 239.338,272.125 239.443,271.785 239.548,271.442 239.653,271.095 239.758,270.744 239.863,270.39 239.968,270.032 \n",
       "  240.073,269.67 240.178,269.305 240.283,268.936 240.388,268.564 240.493,268.188 240.598,267.809 240.703,267.425 240.808,267.039 240.913,266.649 241.018,266.255 \n",
       "  241.123,265.858 241.228,265.457 241.333,265.052 241.438,264.644 241.543,264.233 241.648,263.818 241.753,263.399 241.858,262.977 241.963,262.551 242.068,262.122 \n",
       "  242.173,261.69 242.278,261.254 242.383,260.814 242.488,260.371 242.593,259.925 242.698,259.475 242.803,259.021 242.908,258.564 243.013,258.104 243.118,257.64 \n",
       "  243.223,257.173 243.328,256.702 243.433,256.228 243.538,255.751 243.643,255.27 243.748,254.786 243.853,254.298 243.958,253.807 244.063,253.313 244.168,252.816 \n",
       "  244.273,252.315 244.378,251.81 244.483,251.303 244.588,250.792 244.693,250.278 244.798,249.76 244.903,249.239 245.009,248.715 245.114,248.188 245.219,247.658 \n",
       "  245.324,247.124 245.429,246.587 245.534,246.047 245.639,245.504 245.744,244.957 245.849,244.407 245.954,243.855 246.059,243.299 246.164,242.74 246.269,242.178 \n",
       "  246.374,241.612 246.479,241.044 246.584,240.473 246.689,239.898 246.794,239.321 246.899,238.74 247.004,238.157 247.109,237.571 247.214,236.981 247.319,236.389 \n",
       "  247.424,235.794 247.529,235.195 247.634,234.594 247.739,233.99 247.844,233.384 247.949,232.774 248.054,232.161 248.159,231.546 248.264,230.928 248.369,230.307 \n",
       "  248.474,229.684 248.579,229.057 248.684,228.428 248.789,227.797 248.894,227.162 248.999,226.525 249.104,225.886 249.209,225.243 249.314,224.599 249.419,223.951 \n",
       "  249.524,223.301 249.629,222.649 249.734,221.994 249.839,221.337 249.944,220.677 250.049,220.015 250.154,219.35 250.259,218.683 250.364,218.014 250.469,217.342 \n",
       "  250.574,216.669 250.679,215.993 250.784,215.314 250.889,214.634 250.994,213.951 251.099,213.266 251.204,212.579 251.309,211.89 251.414,211.199 251.519,210.505 \n",
       "  251.624,209.81 251.729,209.113 251.834,208.414 251.939,207.713 252.044,207.01 252.149,206.305 252.254,205.598 252.359,204.89 252.464,204.18 252.569,203.468 \n",
       "  252.674,202.754 252.779,202.039 252.884,201.322 252.989,200.603 253.095,199.883 253.2,199.161 253.305,198.438 253.41,197.714 253.515,196.987 253.62,196.26 \n",
       "  253.725,195.531 253.83,194.801 253.935,194.069 254.04,193.336 254.145,192.602 254.25,191.867 254.355,191.131 254.46,190.393 254.565,189.655 254.67,188.915 \n",
       "  254.775,188.174 254.88,187.433 254.985,186.69 255.09,185.947 255.195,185.202 255.3,184.457 255.405,183.711 255.51,182.964 255.615,182.217 255.72,181.469 \n",
       "  255.825,180.72 255.93,179.971 256.035,179.221 256.14,178.47 256.245,177.72 256.35,176.968 256.455,176.216 256.56,175.464 256.665,174.712 256.77,173.959 \n",
       "  256.875,173.206 256.98,172.453 257.085,171.7 257.19,170.946 257.295,170.193 257.4,169.439 257.505,168.685 257.61,167.932 257.715,167.178 257.82,166.425 \n",
       "  257.925,165.672 258.03,164.919 258.135,164.166 258.24,163.413 258.345,162.661 258.45,161.909 258.555,161.157 258.66,160.406 258.765,159.656 258.87,158.906 \n",
       "  258.975,158.156 259.08,157.407 259.185,156.659 259.29,155.911 259.395,155.164 259.5,154.418 259.605,153.672 259.71,152.928 259.815,152.184 259.92,151.441 \n",
       "  260.025,150.699 260.13,149.958 260.235,149.218 260.34,148.48 260.445,147.742 260.55,147.005 260.655,146.27 260.76,145.536 260.865,144.803 260.97,144.071 \n",
       "  261.075,143.34 261.181,142.611 261.286,141.884 261.391,141.157 261.496,140.433 261.601,139.709 261.706,138.988 261.811,138.267 261.916,137.549 262.021,136.832 \n",
       "  262.126,136.117 262.231,135.403 262.336,134.691 262.441,133.981 262.546,133.273 262.651,132.567 262.756,131.862 262.861,131.16 262.966,130.459 263.071,129.76 \n",
       "  263.176,129.064 263.281,128.369 263.386,127.677 263.491,126.986 263.596,126.298 263.701,125.612 263.806,124.928 263.911,124.246 264.016,123.567 264.121,122.889 \n",
       "  264.226,122.215 264.331,121.542 264.436,120.872 264.541,120.204 264.646,119.539 264.751,118.876 264.856,118.216 264.961,117.558 265.066,116.902 265.171,116.25 \n",
       "  265.276,115.599 265.381,114.952 265.486,114.307 265.591,113.665 265.696,113.025 265.801,112.388 265.906,111.754 266.011,111.123 266.116,110.494 266.221,109.869 \n",
       "  266.326,109.246 266.431,108.626 266.536,108.009 266.641,107.394 266.746,106.783 266.851,106.175 266.956,105.569 267.061,104.967 267.166,104.367 267.271,103.771 \n",
       "  267.376,103.178 267.481,102.587 267.586,102 267.691,101.416 267.796,100.835 267.901,100.258 268.006,99.6829 268.111,99.1115 268.216,98.5433 268.321,97.9783 \n",
       "  268.426,97.4165 268.531,96.858 268.636,96.3027 268.741,95.7507 268.846,95.2021 268.951,94.6567 269.056,94.1147 269.161,93.5761 269.267,93.0408 269.372,92.5088 \n",
       "  269.477,91.9803 269.582,91.4552 269.687,90.9335 269.792,90.4153 269.897,89.9004 270.002,89.3891 270.107,88.8812 270.212,88.3769 270.317,87.876 270.422,87.3786 \n",
       "  270.527,86.8848 270.632,86.3945 270.737,85.9078 270.842,85.4246 270.947,84.945 271.052,84.4689 271.157,83.9965 271.262,83.5277 271.367,83.0625 271.472,82.6009 \n",
       "  271.577,82.143 271.682,81.6887 271.787,81.238 271.892,80.791 271.997,80.3477 272.102,79.9081 272.207,79.4722 272.312,79.04 272.417,78.6115 272.522,78.1867 \n",
       "  272.627,77.7656 272.732,77.3483 272.837,76.9347 272.942,76.5248 273.047,76.1187 273.152,75.7164 273.257,75.3179 273.362,74.9231 273.467,74.5321 273.572,74.1449 \n",
       "  273.677,73.7615 273.782,73.3819 273.887,73.0061 273.992,72.6341 274.097,72.266 274.202,71.9017 274.307,71.5412 274.412,71.1845 274.517,70.8317 274.622,70.4828 \n",
       "  274.727,70.1377 274.832,69.7964 274.937,69.4591 275.042,69.1256 275.147,68.7959 275.252,68.4702 275.357,68.1483 275.462,67.8303 275.567,67.5162 275.672,67.206 \n",
       "  275.777,66.8997 275.882,66.5973 275.987,66.2988 276.092,66.0042 276.197,65.7135 276.302,65.4267 276.407,65.1439 276.512,64.8649 276.617,64.5899 276.722,64.3189 \n",
       "  276.827,64.0517 276.932,63.7885 277.037,63.5292 277.142,63.2739 277.247,63.0225 277.353,62.775 277.458,62.5315 277.563,62.2919 277.668,62.0563 277.773,61.8246 \n",
       "  277.878,61.5969 277.983,61.3731 278.088,61.1533 278.193,60.9374 278.298,60.7255 278.403,60.5176 278.508,60.3136 278.613,60.1136 278.718,59.9176 278.823,59.7255 \n",
       "  278.928,59.5374 279.033,59.3533 279.138,59.1731 279.243,58.9969 279.348,58.8247 279.453,58.6564 279.558,58.4921 279.663,58.3318 279.768,58.1755 279.873,58.0231 \n",
       "  279.978,57.8747 280.083,57.7303 280.188,57.5899 280.293,57.4534 280.398,57.3209 280.503,57.1924 280.608,57.0679 280.713,56.9474 280.818,56.8308 280.923,56.7182 \n",
       "  281.028,56.6096 281.133,56.505 281.238,56.4044 281.343,56.3077 281.448,56.215 281.553,56.1263 281.658,56.0416 281.763,55.9608 281.868,55.884 281.973,55.8112 \n",
       "  282.078,55.7424 282.183,55.6776 282.288,55.6167 282.393,55.5598 282.498,55.5069 282.603,55.458 282.708,55.413 282.813,55.3721 282.918,55.3351 283.023,55.302 \n",
       "  283.128,55.273 283.233,55.2479 283.338,55.2268 283.443,55.2096 283.548,55.1964 283.653,55.1872 283.758,55.182 283.863,55.1807 283.968,55.1834 284.073,55.1901 \n",
       "  284.178,55.2007 284.283,55.2153 284.388,55.2339 284.493,55.2564 284.598,55.2829 284.703,55.3134 284.808,55.3478 284.913,55.3861 285.018,55.4285 285.123,55.4747 \n",
       "  285.228,55.525 285.333,55.5792 285.439,55.6373 285.544,55.6994 285.649,55.7654 285.754,55.8354 285.859,55.9094 285.964,55.9873 286.069,56.0691 286.174,56.1549 \n",
       "  286.279,56.2446 286.384,56.3383 286.489,56.4359 286.594,56.5374 286.699,56.6429 286.804,56.7523 286.909,56.8656 287.014,56.9829 287.119,57.1041 287.224,57.2293 \n",
       "  287.329,57.3583 287.434,57.4913 287.539,57.6283 287.644,57.7691 287.749,57.9139 287.854,58.0626 287.959,58.2152 288.064,58.3717 288.169,58.5321 288.274,58.6965 \n",
       "  288.379,58.8647 288.484,59.0369 288.589,59.213 288.694,59.393 288.799,59.5768 288.904,59.7646 289.009,59.9563 289.114,60.1519 289.219,60.3514 289.324,60.5548 \n",
       "  289.429,60.762 289.534,60.9732 289.639,61.1882 289.744,61.4072 289.849,61.63 289.954,61.8567 290.059,62.0873 290.164,62.3217 290.269,62.5601 290.374,62.8023 \n",
       "  290.479,63.0484 290.584,63.2983 290.689,63.5521 290.794,63.8098 290.899,64.0713 291.004,64.3367 291.109,64.606 291.214,64.8791 291.319,65.1561 291.424,65.4369 \n",
       "  291.529,65.7215 291.634,66.0101 291.739,66.3024 291.844,66.5986 291.949,66.8986 292.054,67.2025 292.159,67.5101 292.264,67.8217 292.369,68.137 292.474,68.4562 \n",
       "  292.579,68.7791 292.684,69.1059 292.789,69.4365 292.894,69.771 292.999,70.1092 293.104,70.4512 293.209,70.7971 293.314,71.1467 293.419,71.5001 293.525,71.8573 \n",
       "  293.63,72.2183 293.735,72.5831 293.84,72.9517 293.945,73.324 294.05,73.7002 294.155,74.0801 294.26,74.4637 294.365,74.8511 294.47,75.2423 294.575,75.6373 \n",
       "  294.68,76.036 294.785,76.4384 294.89,76.8446 294.995,77.2545 295.1,77.6682 295.205,78.0855 295.31,78.5067 295.415,78.9315 295.52,79.3601 295.625,79.7923 \n",
       "  295.73,80.2283 295.835,80.668 295.94,81.1114 296.045,81.5585 296.15,82.0092 296.255,82.4637 296.36,82.9219 296.465,83.3837 296.57,83.8492 296.675,84.3183 \n",
       "  296.78,84.7911 296.885,85.2676 296.99,85.7477 297.095,86.2315 297.2,86.7189 297.305,87.2099 297.41,87.7046 297.515,88.2029 297.62,88.7048 297.725,89.2103 \n",
       "  297.83,89.7194 297.935,90.2321 298.04,90.7484 298.145,91.2683 298.25,91.7918 298.355,92.3188 298.46,92.8494 298.565,93.3836 298.67,93.9213 298.775,94.4626 \n",
       "  298.88,95.0073 298.985,95.5557 299.09,96.1075 299.195,96.6629 299.3,97.2217 299.405,97.7841 299.51,98.3499 299.615,98.9192 299.72,99.492 299.825,100.068 \n",
       "  299.93,100.648 300.035,101.231 300.14,101.818 300.245,102.408 300.35,103.001 300.455,103.598 300.56,104.199 300.665,104.802 300.77,105.409 300.875,106.02 \n",
       "  300.98,106.633 301.085,107.251 301.19,107.871 301.295,108.495 301.4,109.122 301.505,109.753 301.611,110.386 301.716,111.023 301.821,111.664 301.926,112.307 \n",
       "  302.031,112.954 302.136,113.604 302.241,114.258 302.346,114.914 302.451,115.574 302.556,116.237 302.661,116.903 302.766,117.572 302.871,118.245 302.976,118.921 \n",
       "  303.081,119.599 303.186,120.281 303.291,120.966 303.396,121.654 303.501,122.345 303.606,123.039 303.711,123.737 303.816,124.437 303.921,125.14 304.026,125.846 \n",
       "  304.131,126.556 304.236,127.268 304.341,127.983 304.446,128.701 304.551,129.422 304.656,130.146 304.761,130.873 304.866,131.603 304.971,132.335 305.076,133.071 \n",
       "  305.181,133.809 305.286,134.55 305.391,135.294 305.496,136.04 305.601,136.789 305.706,137.541 305.811,138.296 305.916,139.053 306.021,139.814 306.126,140.576 \n",
       "  306.231,141.342 306.336,142.109 306.441,142.88 306.546,143.653 306.651,144.429 306.756,145.207 306.861,145.987 306.966,146.77 307.071,147.556 307.176,148.344 \n",
       "  307.281,149.134 307.386,149.927 307.491,150.722 307.596,151.519 307.701,152.319 307.806,153.121 307.911,153.926 308.016,154.732 308.121,155.541 308.226,156.352 \n",
       "  308.331,157.165 308.436,157.98 308.541,158.797 308.646,159.617 308.751,160.438 308.856,161.262 308.961,162.087 309.066,162.915 309.171,163.744 309.276,164.576 \n",
       "  309.381,165.409 309.486,166.244 309.591,167.081 309.697,167.919 309.802,168.76 309.907,169.602 310.012,170.446 310.117,171.292 310.222,172.139 310.327,172.988 \n",
       "  310.432,173.838 310.537,174.691 310.642,175.544 310.747,176.399 310.852,177.256 310.957,178.114 311.062,178.973 311.167,179.834 311.272,180.696 311.377,181.559 \n",
       "  311.482,182.424 311.587,183.29 311.692,184.157 311.797,185.025 311.902,185.895 312.007,186.765 312.112,187.637 312.217,188.509 312.322,189.383 312.427,190.258 \n",
       "  312.532,191.133 312.637,192.009 312.742,192.887 312.847,193.765 312.952,194.644 313.057,195.523 313.162,196.403 313.267,197.284 313.372,198.166 313.477,199.048 \n",
       "  313.582,199.931 313.687,200.814 313.792,201.698 313.897,202.582 314.002,203.467 314.107,204.352 314.212,205.237 314.317,206.123 314.422,207.009 314.527,207.895 \n",
       "  314.632,208.782 314.737,209.668 314.842,210.555 314.947,211.442 315.052,212.328 315.157,213.215 315.262,214.102 315.367,214.988 315.472,215.875 315.577,216.761 \n",
       "  315.682,217.647 315.787,218.533 315.892,219.419 315.997,220.304 316.102,221.189 316.207,222.074 316.312,222.958 316.417,223.842 316.522,224.725 316.627,225.608 \n",
       "  316.732,226.49 316.837,227.371 316.942,228.252 317.047,229.132 317.152,230.012 317.257,230.891 317.362,231.768 317.467,232.645 317.572,233.522 317.677,234.397 \n",
       "  317.783,235.271 317.888,236.144 317.993,237.017 318.098,237.888 318.203,238.758 318.308,239.627 318.413,240.495 318.518,241.361 318.623,242.226 318.728,243.09 \n",
       "  318.833,243.953 318.938,244.814 319.043,245.674 319.148,246.533 319.253,247.39 319.358,248.245 319.463,249.099 319.568,249.952 319.673,250.802 319.778,251.652 \n",
       "  319.883,252.499 319.988,253.345 320.093,254.189 320.198,255.031 320.303,255.871 320.408,256.71 320.513,257.547 320.618,258.382 320.723,259.214 320.828,260.045 \n",
       "  320.933,260.874 321.038,261.701 321.143,262.526 321.248,263.348 321.353,264.169 321.458,264.987 321.563,265.803 321.668,266.617 321.773,267.429 321.878,268.238 \n",
       "  321.983,269.045 322.088,269.85 322.193,270.652 322.298,271.452 322.403,272.25 322.508,273.045 322.613,273.837 322.718,274.627 322.823,275.415 322.928,276.199 \n",
       "  323.033,276.982 323.138,277.761 323.243,278.538 323.348,279.313 323.453,280.084 323.558,280.853 323.663,281.619 323.768,282.383 323.873,283.143 323.978,283.901 \n",
       "  324.083,284.656 324.188,285.408 324.293,286.157 324.398,286.903 324.503,287.646 324.608,288.386 324.713,289.123 324.818,289.857 324.923,290.589 325.028,291.317 \n",
       "  325.133,292.042 325.238,292.763 325.343,293.482 325.448,294.198 325.553,294.91 325.658,295.619 325.763,296.325 325.869,297.028 325.974,297.728 326.079,298.424 \n",
       "  326.184,299.117 326.289,299.807 326.394,300.493 326.499,301.176 326.604,301.856 326.709,302.532 326.814,303.205 326.919,303.874 327.024,304.54 327.129,305.203 \n",
       "  327.234,305.862 327.339,306.518 327.444,307.17 327.549,307.818 327.654,308.463 327.759,309.105 327.864,309.743 327.969,310.377 328.074,311.008 328.179,311.635 \n",
       "  328.284,312.259 328.389,312.879 328.494,313.495 328.599,314.108 328.704,314.717 328.809,315.322 328.914,315.924 329.019,316.522 329.124,317.116 329.229,317.707 \n",
       "  329.334,318.293 329.439,318.876 329.544,319.455 329.649,320.031 329.754,320.602 329.859,321.17 329.964,321.734 330.069,322.294 330.174,322.851 330.279,323.403 \n",
       "  330.384,323.952 330.489,324.496 330.594,325.037 330.699,325.574 330.804,326.107 330.909,326.637 331.014,327.162 331.119,327.683 331.224,328.201 331.329,328.714 \n",
       "  331.434,329.223 331.539,329.729 331.644,330.231 331.749,330.728 331.854,331.222 331.959,331.711 332.064,332.197 332.169,332.679 332.274,333.156 332.379,333.63 \n",
       "  332.484,334.099 332.589,334.565 332.694,335.026 332.799,335.483 332.904,335.937 333.009,336.386 333.114,336.831 333.219,337.272 333.324,337.709 333.429,338.142 \n",
       "  333.534,338.571 333.639,338.996 333.744,339.417 333.849,339.833 333.955,340.246 334.06,340.654 334.165,341.058 334.27,341.458 334.375,341.854 334.48,342.246 \n",
       "  334.585,342.633 334.69,343.017 334.795,343.396 334.9,343.771 335.005,344.142 335.11,344.509 335.215,344.871 335.32,345.23 335.425,345.584 335.53,345.934 \n",
       "  335.635,346.28 335.74,346.621 335.845,346.959 335.95,347.292 336.055,347.621 336.16,347.946 336.265,348.266 336.37,348.583 336.475,348.895 336.58,349.203 \n",
       "  336.685,349.506 336.79,349.806 336.895,350.101 337,350.392 337.105,350.679 337.21,350.961 337.315,351.24 337.42,351.513 337.525,351.783 337.63,352.049 \n",
       "  337.735,352.31 337.84,352.567 337.945,352.82 338.05,353.068 338.155,353.312 338.26,353.552 338.365,353.788 338.47,354.019 338.575,354.246 338.68,354.469 \n",
       "  338.785,354.687 338.89,354.902 338.995,355.111 339.1,355.317 339.205,355.518 339.31,355.716 339.415,355.908 339.52,356.097 339.625,356.281 339.73,356.461 \n",
       "  339.835,356.636 339.94,356.808 340.045,356.975 340.15,357.137 340.255,357.296 340.36,357.45 340.465,357.599 340.57,357.745 340.675,357.886 340.78,358.023 \n",
       "  340.885,358.155 340.99,358.284 341.095,358.407 341.2,358.527 341.305,358.642 341.41,358.753 341.515,358.86 341.62,358.962 341.725,359.06 341.83,359.154 \n",
       "  341.935,359.243 342.041,359.328 342.146,359.409 342.251,359.485 342.356,359.557 342.461,359.625 342.566,359.688 342.671,359.747 342.776,359.802 342.881,359.852 \n",
       "  342.986,359.898 343.091,359.94 343.196,359.977 343.301,360.01 343.406,360.039 343.511,360.064 343.616,360.084 343.721,360.099 343.826,360.111 343.931,360.118 \n",
       "  344.036,360.121 344.141,360.119 344.246,360.113 344.351,360.103 344.456,360.088 344.561,360.069 344.666,360.046 344.771,360.019 344.876,359.987 344.981,359.951 \n",
       "  345.086,359.91 345.191,359.865 345.296,359.816 345.401,359.762 345.506,359.704 345.611,359.642 345.716,359.576 345.821,359.505 345.926,359.43 346.031,359.35 \n",
       "  346.136,359.266 346.241,359.178 346.346,359.086 346.451,358.989 346.556,358.888 346.661,358.782 346.766,358.672 346.871,358.558 346.976,358.44 347.081,358.317 \n",
       "  347.186,358.19 347.291,358.059 347.396,357.923 347.501,357.783 347.606,357.639 347.711,357.49 347.816,357.337 347.921,357.18 348.026,357.018 348.131,356.852 \n",
       "  348.236,356.682 348.341,356.508 348.446,356.329 348.551,356.146 348.656,355.958 348.761,355.767 348.866,355.571 348.971,355.37 349.076,355.166 349.181,354.957 \n",
       "  349.286,354.744 349.391,354.526 349.496,354.305 349.601,354.078 349.706,353.848 349.811,353.614 349.916,353.375 350.021,353.132 350.127,352.884 350.232,352.632 \n",
       "  350.337,352.377 350.442,352.116 350.547,351.852 350.652,351.583 350.757,351.31 350.862,351.033 350.967,350.751 351.072,350.466 351.177,350.176 351.282,349.881 \n",
       "  351.387,349.583 351.492,349.28 351.597,348.973 351.702,348.662 351.807,348.347 351.912,348.027 352.017,347.703 352.122,347.375 352.227,347.043 352.332,346.706 \n",
       "  352.437,346.366 352.542,346.021 352.647,345.672 352.752,345.318 352.857,344.961 352.962,344.599 353.067,344.233 353.172,343.863 353.277,343.489 353.382,343.111 \n",
       "  353.487,342.728 353.592,342.342 353.697,341.951 353.802,341.556 353.907,341.157 354.012,340.754 354.117,340.347 354.222,339.935 354.327,339.52 354.432,339.1 \n",
       "  354.537,338.676 354.642,338.248 354.747,337.816 354.852,337.38 354.957,336.94 355.062,336.496 355.167,336.048 355.272,335.595 355.377,335.139 355.482,334.679 \n",
       "  355.587,334.214 355.692,333.746 355.797,333.273 355.902,332.797 356.007,332.316 356.112,331.832 356.217,331.343 356.322,330.851 356.427,330.354 356.532,329.854 \n",
       "  356.637,329.35 356.742,328.841 356.847,328.329 356.952,327.813 357.057,327.293 357.162,326.769 357.267,326.241 357.372,325.71 357.477,325.174 357.582,324.634 \n",
       "  357.687,324.091 357.792,323.544 357.897,322.993 358.002,322.438 358.107,321.879 358.213,321.317 358.318,320.751 358.423,320.181 358.528,319.607 358.633,319.03 \n",
       "  358.738,318.448 358.843,317.863 358.948,317.275 359.053,316.682 359.158,316.086 359.263,315.486 359.368,314.883 359.473,314.276 359.578,313.665 359.683,313.051 \n",
       "  359.788,312.433 359.893,311.812 359.998,311.187 360.103,310.558 360.208,309.926 360.313,309.29 360.418,308.651 360.523,308.009 360.628,307.363 360.733,306.713 \n",
       "  360.838,306.06 360.943,305.404 361.048,304.744 361.153,304.081 361.258,303.414 361.363,302.744 361.468,302.071 361.573,301.394 361.678,300.714 361.783,300.031 \n",
       "  361.888,299.345 361.993,298.655 362.098,297.962 362.203,297.266 362.308,296.567 362.413,295.865 362.518,295.159 362.623,294.451 362.728,293.739 362.833,293.024 \n",
       "  362.938,292.307 363.043,291.586 363.148,290.862 363.253,290.135 363.358,289.406 363.463,288.673 363.568,287.938 363.673,287.199 363.778,286.458 363.883,285.714 \n",
       "  363.988,284.967 364.093,284.217 364.198,283.465 364.303,282.71 364.408,281.952 364.513,281.192 364.618,280.428 364.723,279.663 364.828,278.894 364.933,278.124 \n",
       "  365.038,277.35 365.143,276.574 365.248,275.796 365.353,275.015 365.458,274.232 365.563,273.446 365.668,272.658 365.773,271.868 365.878,271.075 365.983,270.28 \n",
       "  366.088,269.483 366.193,268.684 366.299,267.882 366.404,267.078 366.509,266.272 366.614,265.465 366.719,264.655 366.824,263.843 366.929,263.029 367.034,262.213 \n",
       "  367.139,261.395 367.244,260.575 367.349,259.754 367.454,258.93 367.559,258.105 367.664,257.278 367.769,256.45 367.874,255.619 367.979,254.788 368.084,253.954 \n",
       "  368.189,253.119 368.294,252.282 368.399,251.444 368.504,250.604 368.609,249.763 368.714,248.921 368.819,248.077 368.924,247.232 369.029,246.385 369.134,245.537 \n",
       "  369.239,244.689 369.344,243.838 369.449,242.987 369.554,242.135 369.659,241.281 369.764,240.427 369.869,239.571 369.974,238.715 370.079,237.858 370.184,236.999 \n",
       "  370.289,236.14 370.394,235.281 370.499,234.42 370.604,233.559 370.709,232.697 370.814,231.834 370.919,230.971 371.024,230.107 371.129,229.242 371.234,228.377 \n",
       "  371.339,227.512 371.444,226.646 371.549,225.78 371.654,224.914 371.759,224.047 371.864,223.18 371.969,222.312 372.074,221.445 372.179,220.577 372.284,219.709 \n",
       "  372.389,218.842 372.494,217.974 372.599,217.106 372.704,216.238 372.809,215.37 372.914,214.503 373.019,213.635 373.124,212.768 373.229,211.901 373.334,211.034 \n",
       "  373.439,210.167 373.544,209.301 373.649,208.435 373.754,207.57 373.859,206.705 373.964,205.841 374.069,204.977 374.174,204.113 374.279,203.251 374.385,202.389 \n",
       "  374.49,201.527 374.595,200.667 374.7,199.807 374.805,198.947 374.91,198.089 375.015,197.232 375.12,196.375 375.225,195.519 375.33,194.665 375.435,193.811 \n",
       "  375.54,192.958 375.645,192.106 375.75,191.256 375.855,190.406 375.96,189.558 376.065,188.711 376.17,187.865 376.275,187.021 376.38,186.178 376.485,185.336 \n",
       "  376.59,184.495 376.695,183.656 376.8,182.818 376.905,181.982 377.01,181.147 377.115,180.314 377.22,179.482 377.325,178.652 377.43,177.823 377.535,176.996 \n",
       "  377.64,176.171 377.745,175.348 377.85,174.526 377.955,173.706 378.06,172.888 378.165,172.071 378.27,171.257 378.375,170.444 378.48,169.633 378.585,168.824 \n",
       "  378.69,168.017 378.795,167.213 378.9,166.41 379.005,165.609 379.11,164.81 379.215,164.013 379.32,163.219 379.425,162.426 379.53,161.636 379.635,160.848 \n",
       "  379.74,160.062 379.845,159.278 379.95,158.497 380.055,157.718 380.16,156.941 380.265,156.167 380.37,155.395 380.475,154.625 380.58,153.858 380.685,153.093 \n",
       "  380.79,152.33 380.895,151.57 381,150.813 381.105,150.058 381.21,149.305 381.315,148.555 381.42,147.808 381.525,147.063 381.63,146.321 381.735,145.582 \n",
       "  381.84,144.845 381.945,144.111 382.05,143.379 382.155,142.651 382.26,141.925 382.365,141.201 382.471,140.481 382.576,139.763 382.681,139.048 382.786,138.336 \n",
       "  382.891,137.627 382.996,136.92 383.101,136.216 383.206,135.516 383.311,134.818 383.416,134.123 383.521,133.431 383.626,132.742 383.731,132.056 383.836,131.373 \n",
       "  383.941,130.693 384.046,130.016 384.151,129.341 384.256,128.67 384.361,128.002 384.466,127.337 384.571,126.675 384.676,126.017 384.781,125.361 384.886,124.708 \n",
       "  384.991,124.059 385.096,123.412 385.201,122.769 385.306,122.129 385.411,121.492 385.516,120.858 385.621,120.228 385.726,119.6 385.831,118.976 385.936,118.355 \n",
       "  386.041,117.738 386.146,117.123 386.251,116.512 386.356,115.904 386.461,115.3 386.566,114.698 386.671,114.1 386.776,113.506 386.881,112.914 386.986,112.326 \n",
       "  387.091,111.742 387.196,111.16 387.301,110.582 387.406,110.007 387.511,109.436 387.616,108.868 387.721,108.304 387.826,107.743 387.931,107.185 388.036,106.63 \n",
       "  388.141,106.08 388.246,105.532 388.351,104.988 388.456,104.447 388.561,103.91 388.666,103.377 388.771,102.846 388.876,102.32 388.981,101.796 389.086,101.277 \n",
       "  389.191,100.76 389.296,100.247 389.401,99.7381 389.506,99.2323 389.611,98.73 389.716,98.2313 389.821,97.736 389.926,97.2443 390.031,96.7562 390.136,96.2716 \n",
       "  390.241,95.7905 390.346,95.313 390.451,94.839 390.557,94.3687 390.662,93.9019 390.767,93.4386 390.872,92.979 390.977,92.5229 391.082,92.0705 391.187,91.6216 \n",
       "  391.292,91.1763 391.397,90.7347 391.502,90.2966 391.607,89.8622 391.712,89.4314 391.817,89.0042 391.922,88.5807 392.027,88.1608 392.132,87.7445 392.237,87.3318 \n",
       "  392.342,86.9228 392.447,86.5175 392.552,86.1158 392.657,85.7178 392.762,85.3234 392.867,84.9327 392.972,84.5457 393.077,84.1623 393.182,83.7826 393.287,83.4066 \n",
       "  393.392,83.0343 393.497,82.6657 393.602,82.3007 393.707,81.9395 393.812,81.5819 393.917,81.2281 394.022,80.8779 394.127,80.5315 394.232,80.1887 394.337,79.8497 \n",
       "  394.442,79.5144 394.547,79.1828 394.652,78.855 394.757,78.5308 394.862,78.2104 394.967,77.8937 395.072,77.5808 395.177,77.2715 395.282,76.9661 395.387,76.6643 \n",
       "  395.492,76.3663 395.597,76.0721 395.702,75.7816 395.807,75.4949 395.912,75.2119 396.017,74.9326 396.122,74.6571 396.227,74.3854 396.332,74.1175 396.437,73.8533 \n",
       "  396.542,73.5929 396.647,73.3362 396.752,73.0833 396.857,72.8342 396.962,72.5889 397.067,72.3474 397.172,72.1096 397.277,71.8756 397.382,71.6454 397.487,71.419 \n",
       "  397.592,71.1964 397.697,70.9776 397.802,70.7625 397.907,70.5513 398.012,70.3439 398.117,70.1402 398.222,69.9404 398.327,69.7443 398.432,69.5521 398.537,69.3637 \n",
       "  398.643,69.1791 398.748,68.9983 398.853,68.8213 398.958,68.6481 399.063,68.4787 399.168,68.3132 399.273,68.1515 399.378,67.9935 399.483,67.8395 399.588,67.6892 \n",
       "  399.693,67.5428 399.798,67.4002 399.903,67.2614 400.008,67.1264 400.113,66.9953 400.218,66.868 400.323,66.7446 400.428,66.625 400.533,66.5092 400.638,66.3973 \n",
       "  400.743,66.2892 400.848,66.1849 400.953,66.0845 401.058,65.988 401.163,65.8953 401.268,65.8064 401.373,65.7214 401.478,65.6402 401.583,65.5629 401.688,65.4894 \n",
       "  401.793,65.4198 401.898,65.3541 402.003,65.2922 402.108,65.2341 402.213,65.18 402.318,65.1296 402.423,65.0832 402.528,65.0406 402.633,65.0019 402.738,64.967 \n",
       "  402.843,64.936 402.948,64.9089 403.053,64.8856 403.158,64.8662 403.263,64.8507 403.368,64.839 403.473,64.8312 403.578,64.8273 403.683,64.8273 403.788,64.8311 \n",
       "  403.893,64.8388 403.998,64.8504 404.103,64.8659 404.208,64.8852 404.313,64.9084 404.418,64.9356 404.523,64.9665 404.628,65.0014 404.733,65.0401 404.838,65.0828 \n",
       "  404.943,65.1293 405.048,65.1797 405.153,65.2339 405.258,65.2921 405.363,65.3541 405.468,65.4201 405.573,65.4899 405.678,65.5636 405.783,65.6412 405.888,65.7226 \n",
       "  405.993,65.808 406.098,65.8972 406.203,65.9904 406.308,66.0874 406.413,66.1883 406.518,66.2931 406.623,66.4018 406.728,66.5144 406.834,66.6308 406.939,66.7512 \n",
       "  407.044,66.8754 407.149,67.0035 407.254,67.1355 407.359,67.2714 407.464,67.4112 407.569,67.5549 407.674,67.7025 407.779,67.8539 407.884,68.0092 407.989,68.1685 \n",
       "  408.094,68.3316 408.199,68.4985 408.304,68.6694 408.409,68.8442 408.514,69.0228 408.619,69.2053 408.724,69.3917 408.829,69.582 408.934,69.7761 409.039,69.9742 \n",
       "  409.144,70.1761 409.249,70.3819 409.354,70.5915 409.459,70.8051 409.564,71.0225 409.669,71.2437 409.774,71.4689 409.879,71.6979 409.984,71.9308 410.089,72.1675 \n",
       "  410.194,72.4081 410.299,72.6526 410.404,72.9009 410.509,73.1531 410.614,73.4091 410.719,73.669 410.824,73.9327 410.929,74.2003 411.034,74.4717 411.139,74.747 \n",
       "  411.244,75.0261 411.349,75.3091 411.454,75.5959 411.559,75.8865 411.664,76.1809 411.769,76.4792 411.874,76.7813 411.979,77.0872 412.084,77.3969 412.189,77.7105 \n",
       "  412.294,78.0278 412.399,78.349 412.504,78.674 412.609,79.0027 412.714,79.3353 412.819,79.6716 412.924,80.0117 413.029,80.3556 413.134,80.7033 413.239,81.0548 \n",
       "  413.344,81.41 413.449,81.769 413.554,82.1317 413.659,82.4982 413.764,82.8685 413.869,83.2425 413.974,83.6202 414.079,84.0017 414.184,84.3868 414.289,84.7757 \n",
       "  414.394,85.1683 414.499,85.5647 414.604,85.9647 414.709,86.3684 414.814,86.7758 414.92,87.1869 415.025,87.6016 415.13,88.02 415.235,88.4421 415.34,88.8678 \n",
       "  415.445,89.2972 415.55,89.7302 415.655,90.1668 415.76,90.6071 415.865,91.0509 415.97,91.4984 416.075,91.9494 416.18,92.4041 416.285,92.8623 416.39,93.3241 \n",
       "  416.495,93.7894 416.6,94.2583 416.705,94.7307 416.81,95.2066 416.915,95.6861 417.02,96.169 417.125,96.6555 417.23,97.1454 417.335,97.6388 417.44,98.1357 \n",
       "  417.545,98.636 417.65,99.1398 417.755,99.6469 417.86,100.158 417.965,100.671 418.07,101.189 418.175,101.71 418.28,102.234 418.385,102.761 418.49,103.292 \n",
       "  418.595,103.826 418.7,104.363 418.805,104.904 418.91,105.448 419.015,105.995 419.12,106.546 419.225,107.099 419.33,107.656 419.435,108.217 419.54,108.78 \n",
       "  419.645,109.346 419.75,109.916 419.855,110.489 419.96,111.064 420.065,111.643 420.17,112.225 420.275,112.81 420.38,113.398 420.485,113.99 420.59,114.584 \n",
       "  420.695,115.181 420.8,115.781 420.905,116.384 421.01,116.99 421.115,117.599 421.22,118.21 421.325,118.825 421.43,119.442 421.535,120.062 421.64,120.685 \n",
       "  421.745,121.311 421.85,121.94 421.955,122.571 422.06,123.205 422.165,123.841 422.27,124.481 422.375,125.123 422.48,125.767 422.585,126.414 422.69,127.064 \n",
       "  422.795,127.716 422.9,128.37 423.006,129.028 423.111,129.687 423.216,130.349 423.321,131.013 423.426,131.68 423.531,132.349 423.636,133.021 423.741,133.694 \n",
       "  423.846,134.37 423.951,135.048 424.056,135.729 424.161,136.411 424.266,137.096 424.371,137.783 424.476,138.471 424.581,139.162 424.686,139.855 424.791,140.55 \n",
       "  424.896,141.247 425.001,141.945 425.106,142.646 425.211,143.348 425.316,144.053 425.421,144.759 425.526,145.467 425.631,146.176 425.736,146.887 425.841,147.6 \n",
       "  425.946,148.315 426.051,149.031 426.156,149.748 426.261,150.467 426.366,151.188 426.471,151.91 426.576,152.634 426.681,153.358 426.786,154.085 426.891,154.812 \n",
       "  426.996,155.541 427.101,156.271 427.206,157.002 427.311,157.734 427.416,158.467 427.521,159.202 427.626,159.937 427.731,160.674 427.836,161.411 427.941,162.15 \n",
       "  428.046,162.889 428.151,163.629 428.256,164.37 428.361,165.112 428.466,165.854 428.571,166.597 428.676,167.341 428.781,168.085 428.886,168.83 428.991,169.576 \n",
       "  429.096,170.322 429.201,171.068 429.306,171.815 429.411,172.562 429.516,173.31 429.621,174.058 429.726,174.806 429.831,175.554 429.936,176.302 430.041,177.051 \n",
       "  430.146,177.8 430.251,178.548 430.356,179.297 430.461,180.046 430.566,180.795 430.671,181.543 430.776,182.292 430.881,183.04 430.986,183.788 431.092,184.536 \n",
       "  431.197,185.283 431.302,186.03 431.407,186.777 431.512,187.523 431.617,188.269 431.722,189.014 431.827,189.759 431.932,190.503 432.037,191.247 432.142,191.99 \n",
       "  432.247,192.732 432.352,193.473 432.457,194.214 432.562,194.954 432.667,195.693 432.772,196.431 432.877,197.168 432.982,197.904 433.087,198.64 433.192,199.374 \n",
       "  433.297,200.107 433.402,200.839 433.507,201.57 433.612,202.299 433.717,203.028 433.822,203.755 433.927,204.481 434.032,205.205 434.137,205.928 434.242,206.65 \n",
       "  434.347,207.37 434.452,208.089 434.557,208.807 434.662,209.522 434.767,210.237 434.872,210.949 434.977,211.66 435.082,212.369 435.187,213.077 435.292,213.783 \n",
       "  435.397,214.487 435.502,215.189 435.607,215.89 435.712,216.588 435.817,217.285 435.922,217.979 436.027,218.672 436.132,219.363 436.237,220.052 436.342,220.738 \n",
       "  436.447,221.423 436.552,222.105 436.657,222.786 436.762,223.464 436.867,224.14 436.972,224.813 437.077,225.485 437.182,226.154 437.287,226.821 437.392,227.485 \n",
       "  437.497,228.147 437.602,228.807 437.707,229.465 437.812,230.119 437.917,230.772 438.022,231.422 438.127,232.069 438.232,232.714 438.337,233.357 438.442,233.996 \n",
       "  438.547,234.633 438.652,235.268 438.757,235.9 438.862,236.529 438.967,237.155 439.072,237.779 439.178,238.4 439.283,239.018 439.388,239.634 439.493,240.246 \n",
       "  439.598,240.856 439.703,241.463 439.808,242.067 439.913,242.668 440.018,243.267 440.123,243.862 440.228,244.454 440.333,245.044 440.438,245.63 440.543,246.214 \n",
       "  440.648,246.794 440.753,247.372 440.858,247.946 440.963,248.517 441.068,249.085 441.173,249.65 441.278,250.212 441.383,250.771 441.488,251.327 441.593,251.88 \n",
       "  441.698,252.429 441.803,252.975 441.908,253.518 442.013,254.058 442.118,254.594 442.223,255.128 442.328,255.658 442.433,256.184 442.538,256.708 442.643,257.228 \n",
       "  442.748,257.745 442.853,258.258 442.958,258.768 443.063,259.275 443.168,259.779 443.273,260.279 443.378,260.775 443.483,261.269 443.588,261.759 443.693,262.245 \n",
       "  443.798,262.728 443.903,263.208 444.008,263.684 444.113,264.157 444.218,264.626 444.323,265.092 444.428,265.554 444.533,266.013 444.638,266.468 444.743,266.92 \n",
       "  444.848,267.368 444.953,267.813 445.058,268.254 445.163,268.692 445.268,269.126 445.373,269.557 445.478,269.984 445.583,270.407 445.688,270.827 445.793,271.243 \n",
       "  445.898,271.656 446.003,272.065 446.108,272.471 446.213,272.873 446.318,273.271 446.423,273.666 446.528,274.057 446.633,274.444 446.738,274.828 446.843,275.208 \n",
       "  446.948,275.585 447.053,275.957 447.158,276.327 447.264,276.692 447.369,277.054 447.474,277.412 447.579,277.767 447.684,278.117 447.789,278.465 447.894,278.808 \n",
       "  447.999,279.148 448.104,279.484 448.209,279.816 448.314,280.145 448.419,280.47 448.524,280.791 448.629,281.109 448.734,281.422 448.839,281.732 448.944,282.039 \n",
       "  449.049,282.341 449.154,282.64 449.259,282.935 449.364,283.227 449.469,283.515 449.574,283.799 449.679,284.079 449.784,284.355 449.889,284.628 449.994,284.897 \n",
       "  450.099,285.162 450.204,285.424 450.309,285.681 450.414,285.935 450.519,286.186 450.624,286.432 450.729,286.675 450.834,286.914 450.939,287.149 451.044,287.38 \n",
       "  451.149,287.608 451.254,287.831 451.359,288.052 451.464,288.268 451.569,288.48 451.674,288.689 451.779,288.894 451.884,289.095 451.989,289.293 452.094,289.486 \n",
       "  452.199,289.676 452.304,289.862 452.409,290.045 452.514,290.223 452.619,290.398 452.724,290.569 452.829,290.736 452.934,290.899 453.039,291.059 453.144,291.215 \n",
       "  453.249,291.367 453.354,291.515 453.459,291.66 453.564,291.8 453.669,291.937 453.774,292.07 453.879,292.2 453.984,292.325 454.089,292.447 454.194,292.565 \n",
       "  454.299,292.679 454.404,292.789 454.509,292.896 454.614,292.999 454.719,293.098 454.824,293.193 454.929,293.285 455.034,293.372 455.139,293.456 455.244,293.536 \n",
       "  455.35,293.613 455.455,293.685 455.56,293.754 455.665,293.819 455.77,293.88 455.875,293.938 455.98,293.991 456.085,294.041 456.19,294.087 456.295,294.129 \n",
       "  456.4,294.168 456.505,294.203 456.61,294.234 456.715,294.261 456.82,294.284 456.925,294.304 457.03,294.32 457.135,294.332 457.24,294.34 457.345,294.345 \n",
       "  457.45,294.345 457.555,294.342 457.66,294.336 457.765,294.325 457.87,294.311 457.975,294.293 458.08,294.271 458.185,294.245 458.29,294.216 458.395,294.183 \n",
       "  458.5,294.146 458.605,294.105 458.71,294.06 458.815,294.012 458.92,293.96 459.025,293.905 459.13,293.845 459.235,293.782 459.34,293.715 459.445,293.644 \n",
       "  459.55,293.57 459.655,293.491 459.76,293.409 459.865,293.324 459.97,293.234 460.075,293.141 460.18,293.044 460.285,292.943 460.39,292.839 460.495,292.73 \n",
       "  460.6,292.618 460.705,292.503 460.81,292.383 460.915,292.26 461.02,292.133 461.125,292.002 461.23,291.868 461.335,291.73 461.44,291.588 461.545,291.442 \n",
       "  461.65,291.293 461.755,291.14 461.86,290.983 461.965,290.823 462.07,290.659 462.175,290.491 462.28,290.319 462.385,290.144 462.49,289.964 462.595,289.782 \n",
       "  462.7,289.595 462.805,289.405 462.91,289.211 463.015,289.013 463.12,288.812 463.225,288.607 463.33,288.398 463.436,288.186 463.541,287.97 463.646,287.75 \n",
       "  463.751,287.526 463.856,287.299 463.961,287.068 464.066,286.833 464.171,286.595 464.276,286.353 464.381,286.107 464.486,285.858 464.591,285.605 464.696,285.348 \n",
       "  464.801,285.088 464.906,284.824 465.011,284.556 465.116,284.284 465.221,284.009 465.326,283.73 465.431,283.448 465.536,283.162 465.641,282.872 465.746,282.579 \n",
       "  465.851,282.282 465.956,281.981 466.061,281.677 466.166,281.369 466.271,281.057 466.376,280.742 466.481,280.423 466.586,280.1 466.691,279.774 466.796,279.444 \n",
       "  466.901,279.111 467.006,278.774 467.111,278.433 467.216,278.088 467.321,277.741 467.426,277.389 467.531,277.034 467.636,276.675 467.741,276.313 467.846,275.947 \n",
       "  467.951,275.577 468.056,275.204 468.161,274.827 468.266,274.447 468.371,274.063 468.476,273.675 468.581,273.284 468.686,272.889 468.791,272.491 468.896,272.089 \n",
       "  469.001,271.684 469.106,271.275 469.211,270.862 469.316,270.446 469.421,270.027 469.526,269.604 469.631,269.177 469.736,268.747 469.841,268.313 469.946,267.876 \n",
       "  470.051,267.435 470.156,266.991 470.261,266.543 470.366,266.091 470.471,265.637 470.576,265.178 470.681,264.716 470.786,264.251 470.891,263.782 470.996,263.31 \n",
       "  471.101,262.834 471.206,262.355 471.311,261.872 471.416,261.386 471.522,260.897 471.627,260.404 471.732,259.907 471.837,259.407 471.942,258.904 472.047,258.397 \n",
       "  472.152,257.887 472.257,257.374 472.362,256.857 472.467,256.336 472.572,255.813 472.677,255.286 472.782,254.755 472.887,254.221 472.992,253.684 473.097,253.144 \n",
       "  473.202,252.6 473.307,252.053 473.412,251.502 473.517,250.948 473.622,250.391 473.727,249.831 473.832,249.267 473.937,248.7 474.042,248.129 474.147,247.556 \n",
       "  474.252,246.979 474.357,246.399 474.462,245.816 474.567,245.229 474.672,244.639 474.777,244.046 474.882,243.45 474.987,242.851 475.092,242.248 475.197,241.643 \n",
       "  475.302,241.034 475.407,240.422 475.512,239.806 475.617,239.188 475.722,238.567 475.827,237.942 475.932,237.315 476.037,236.684 476.142,236.05 476.247,235.414 \n",
       "  476.352,234.774 476.457,234.131 476.562,233.485 476.667,232.836 476.772,232.184 476.877,231.529 476.982,230.872 477.087,230.211 477.192,229.547 477.297,228.881 \n",
       "  477.402,228.211 477.507,227.539 477.612,226.863 477.717,226.185 477.822,225.504 477.927,224.82 478.032,224.134 478.137,223.444 478.242,222.752 478.347,222.057 \n",
       "  478.452,221.36 478.557,220.659 478.662,219.956 478.767,219.25 478.872,218.542 478.977,217.831 479.082,217.117 479.187,216.4 479.292,215.681 479.397,214.96 \n",
       "  479.502,214.235 479.608,213.509 479.713,212.779 479.818,212.048 479.923,211.313 480.028,210.577 480.133,209.838 480.238,209.096 480.343,208.352 480.448,207.606 \n",
       "  480.553,206.857 480.658,206.106 480.763,205.353 480.868,204.597 480.973,203.839 481.078,203.079 481.183,202.317 481.288,201.552 481.393,200.785 481.498,200.017 \n",
       "  481.603,199.246 481.708,198.473 481.813,197.697 481.918,196.92 482.023,196.141 482.128,195.36 482.233,194.577 482.338,193.792 482.443,193.005 482.548,192.216 \n",
       "  482.653,191.425 482.758,190.632 482.863,189.838 482.968,189.042 483.073,188.244 483.178,187.444 483.283,186.643 483.388,185.84 483.493,185.036 483.598,184.229 \n",
       "  483.703,183.422 483.808,182.612 483.913,181.802 484.018,180.989 484.123,180.176 484.228,179.36 484.333,178.544 484.438,177.726 484.543,176.907 484.648,176.086 \n",
       "  484.753,175.265 484.858,174.442 484.963,173.618 485.068,172.792 485.173,171.966 485.278,171.139 485.383,170.31 485.488,169.481 485.593,168.65 485.698,167.819 \n",
       "  485.803,166.986 485.908,166.153 486.013,165.319 486.118,164.484 486.223,163.648 486.328,162.812 486.433,161.975 486.538,161.137 486.643,160.299 486.748,159.46 \n",
       "  486.853,158.62 486.958,157.78 487.063,156.94 487.168,156.099 487.273,155.257 487.378,154.416 487.483,153.574 487.588,152.731 487.694,151.889 487.799,151.046 \n",
       "  487.904,150.203 488.009,149.359 488.114,148.516 488.219,147.673 488.324,146.83 488.429,145.986 488.534,145.143 488.639,144.3 488.744,143.457 488.849,142.614 \n",
       "  488.954,141.771 489.059,140.928 489.164,140.086 489.269,139.244 489.374,138.403 489.479,137.562 489.584,136.721 489.689,135.881 489.794,135.041 489.899,134.202 \n",
       "  490.004,133.363 490.109,132.525 490.214,131.688 490.319,130.851 490.424,130.015 490.529,129.18 490.634,128.346 490.739,127.513 490.844,126.68 490.949,125.849 \n",
       "  491.054,125.018 491.159,124.188 491.264,123.36 491.369,122.532 491.474,121.706 491.579,120.881 491.684,120.057 491.789,119.234 491.894,118.412 491.999,117.592 \n",
       "  492.104,116.773 492.209,115.956 492.314,115.14 492.419,114.325 492.524,113.512 492.629,112.7 492.734,111.89 492.839,111.082 492.944,110.275 493.049,109.47 \n",
       "  493.154,108.666 493.259,107.865 493.364,107.065 493.469,106.267 493.574,105.47 493.679,104.676 493.784,103.883 493.889,103.093 493.994,102.304 494.099,101.517 \n",
       "  494.204,100.733 494.309,99.9504 494.414,99.17 494.519,98.3917 494.624,97.6155 494.729,96.8416 494.834,96.0699 494.939,95.3005 495.044,94.5334 495.149,93.7685 \n",
       "  495.254,93.0061 495.359,92.246 495.464,91.4883 495.569,90.733 495.674,89.9803 495.78,89.23 495.885,88.4823 495.99,87.7371 496.095,86.9945 496.2,86.2545 \n",
       "  496.305,85.5171 496.41,84.7824 496.515,84.0504 496.62,83.3211 496.725,82.5946 496.83,81.8708 496.935,81.1498 497.04,80.4317 497.145,79.7164 497.25,79.004 \n",
       "  497.355,78.2945 497.46,77.5879 497.565,76.8842 497.67,76.1835 497.775,75.4858 497.88,74.7912 497.985,74.0995 498.09,73.411 498.195,72.7255 498.3,72.0431 \n",
       "  498.405,71.3638 498.51,70.6878 498.615,70.0148 498.72,69.3451 498.825,68.6786 498.93,68.0153 499.035,67.3553 499.14,66.6985 499.245,66.0451 499.35,65.395 \n",
       "  499.455,64.7481 499.56,64.1047 499.665,63.4646 499.77,62.8279 499.875,62.1946 499.98,61.5648 500.085,60.9384 500.19,60.3154 500.295,59.6959 500.4,59.08 \n",
       "  500.505,58.4675 500.61,57.8585 500.715,57.2531 500.82,56.6513 500.925,56.053 501.03,55.4584 501.135,54.8673 501.24,54.2798 501.345,53.696 501.45,53.1158 \n",
       "  501.555,52.5393 501.66,51.9665 501.765,51.3974 501.87,50.832 501.975,50.2702 502.08,49.7123 502.185,49.158 502.29,48.6076 502.395,48.0608 502.5,47.5179 \n",
       "  502.605,46.9788 502.71,46.4435 502.815,45.9119 502.92,45.3843 503.025,44.8604 503.13,44.3404 503.235,43.8243 503.34,43.312 503.445,42.8037 503.55,42.2992 \n",
       "  503.655,41.7986 503.76,41.3019 503.866,40.8092 503.971,40.3204 504.076,39.8355 504.181,39.3546 504.286,38.8776 504.391,38.4046 504.496,37.9356 504.601,37.4706 \n",
       "  504.706,37.0095 504.811,36.5525 504.916,36.0995 505.021,35.6505 505.126,35.2055 505.231,34.7645 505.336,34.3276 505.441,33.8948 505.546,33.466 505.651,33.0412 \n",
       "  505.756,32.6205 505.861,32.2039 505.966,31.7914 506.071,31.383 506.176,30.9787 506.281,30.5784 506.386,30.1823 506.491,29.7903 506.596,29.4024 506.701,29.0187 \n",
       "  506.806,28.639 506.911,28.2635 507.016,27.8922 507.121,27.525 507.226,27.1619 507.331,26.803 507.436,26.4483 507.541,26.0977 507.646,25.7513 507.751,25.409 \n",
       "  507.856,25.071 507.961,24.7371 508.066,24.4075 508.171,24.082 508.276,23.7607 508.381,23.4436 508.486,23.1307 508.591,22.822 508.696,22.5176 508.801,22.2173 \n",
       "  508.906,21.9213 509.011,21.6295 509.116,21.3419 509.221,21.0585 509.326,20.7794 509.431,20.5045 509.536,20.2339 509.641,19.9675 509.746,19.7053 509.851,19.4474 \n",
       "  509.956,19.1937 510.061,18.9443 510.166,18.6991 510.271,18.4582 510.376,18.2216 510.481,17.9892 510.586,17.7611 510.691,17.5372 510.796,17.3176 510.901,17.1023 \n",
       "  511.006,16.8913 511.111,16.6845 511.216,16.482 511.321,16.2838 511.426,16.0899 511.531,15.9002 511.636,15.7148 511.741,15.5337 511.846,15.3569 511.952,15.1844 \n",
       "  512.057,15.0162 512.162,14.8523 512.267,14.6926 512.372,14.5373 512.477,14.3862 512.582,14.2395 512.687,14.097 512.792,13.9588 512.897,13.825 513.002,13.6954 \n",
       "  513.107,13.5701 513.212,13.4492 513.317,13.3325 513.422,13.2202 513.527,13.1121 513.632,13.0084 513.737,12.9089 513.842,12.8138 513.947,12.723 514.052,12.6364 \n",
       "  514.157,12.5542 514.262,12.4763 514.367,12.4027 514.472,12.3334 514.577,12.2684 514.682,12.2078 514.787,12.1514 514.892,12.0994 514.997,12.0516 515.102,12.0082 \n",
       "  515.207,11.9691 515.312,11.9343 515.417,11.9038 515.522,11.8776 515.627,11.8557 515.732,11.8382 515.837,11.8249 515.942,11.816 516.047,11.8113 516.152,11.811 \n",
       "  516.257,11.815 516.362,11.8233 516.467,11.8359 516.572,11.8529 516.677,11.8741 516.782,11.8996 516.887,11.9295 516.992,11.9636 517.097,12.0021 517.202,12.0449 \n",
       "  517.307,12.0919 517.412,12.1433 517.517,12.199 517.622,12.259 517.727,12.3233 517.832,12.3919 517.937,12.4648 518.042,12.542 518.147,12.6235 518.252,12.7093 \n",
       "  518.357,12.7995 518.462,12.8939 518.567,12.9926 518.672,13.0956 518.777,13.2029 518.882,13.3145 518.987,13.4303 519.092,13.5505 519.197,13.675 519.302,13.8038 \n",
       "  519.407,13.9368 519.512,14.0742 519.617,14.2158 519.722,14.3617 519.827,14.5119 519.932,14.6664 520.038,14.8251 520.143,14.9882 520.248,15.1555 520.353,15.3271 \n",
       "  520.458,15.5029 520.563,15.6831 520.668,15.8675 520.773,16.0562 520.878,16.2492 520.983,16.4464 521.088,16.6479 521.193,16.8536 521.298,17.0636 521.403,17.2779 \n",
       "  521.508,17.4964 521.613,17.7192 521.718,17.9463 521.823,18.1776 521.928,18.4131 522.033,18.6529 522.138,18.8969 522.243,19.1452 522.348,19.3977 522.453,19.6545 \n",
       "  522.558,19.9155 522.663,20.1807 522.768,20.4501 522.873,20.7238 522.978,21.0017 523.083,21.2839 523.188,21.5702 523.293,21.8608 523.398,22.1556 523.503,22.4546 \n",
       "  523.608,22.7578 523.713,23.0652 523.818,23.3768 523.923,23.6926 524.028,24.0126 524.133,24.3368 524.238,24.6652 524.343,24.9978 524.448,25.3345 524.553,25.6754 \n",
       "  524.658,26.0205 524.763,26.3698 524.868,26.7233 524.973,27.0809 525.078,27.4427 525.183,27.8086 525.288,28.1787 525.393,28.5529 525.498,28.9313 525.603,29.3138 \n",
       "  525.708,29.7004 525.813,30.0912 525.918,30.4861 526.023,30.8851 526.128,31.2882 526.233,31.6955 526.338,32.1068 526.443,32.5223 526.548,32.9418 526.653,33.3655 \n",
       "  526.758,33.7932 526.863,34.225 526.968,34.6609 527.073,35.1009 527.178,35.5449 527.283,35.993 527.388,36.4451 527.493,36.9013 527.598,37.3615 527.703,37.8257 \n",
       "  527.808,38.294 527.913,38.7663 528.018,39.2426 528.124,39.7229 528.229,40.2072 528.334,40.6956 528.439,41.1879 528.544,41.6841 528.649,42.1844 528.754,42.6886 \n",
       "  528.859,43.1968 528.964,43.7089 529.069,44.225 529.174,44.745 529.279,45.2689 529.384,45.7967 529.489,46.3285 529.594,46.8641 529.699,47.4037 529.804,47.9471 \n",
       "  529.909,48.4944 530.014,49.0456 530.119,49.6006 530.224,50.1595 530.329,50.7222 530.434,51.2887 530.539,51.859 530.644,52.4332 530.749,53.0111 530.854,53.5929 \n",
       "  530.959,54.1784 531.064,54.7677 531.169,55.3607 531.274,55.9575 531.379,56.558 531.484,57.1622 531.589,57.7701 531.694,58.3817 531.799,58.9971 531.904,59.616 \n",
       "  532.009,60.2387 532.114,60.865 532.219,61.4949 532.324,62.1284 532.429,62.7656 532.534,63.4063 532.639,64.0506 532.744,64.6985 532.849,65.3499 532.954,66.0049 \n",
       "  533.059,66.6634 533.164,67.3254 533.269,67.9909 533.374,68.6599 533.479,69.3323 533.584,70.0082 533.689,70.6876 533.794,71.3703 533.899,72.0564 534.004,72.7459 \n",
       "  534.109,73.4388 534.214,74.135 534.319,74.8346 534.424,75.5375 534.529,76.2436 534.634,76.9531 534.739,77.6658 534.844,78.3817 534.949,79.1009 535.054,79.8233 \n",
       "  535.159,80.5488 535.264,81.2776 535.369,82.0094 535.474,82.7444 535.579,83.4825 535.684,84.2237 535.789,84.9679 535.894,85.7152 535.999,86.4655 536.104,87.2188 \n",
       "  536.21,87.9751 536.315,88.7343 536.42,89.4965 536.525,90.2616 536.63,91.0296 536.735,91.8004 536.84,92.574 536.945,93.3505 537.05,94.1298 537.155,94.9119 \n",
       "  537.26,95.6967 537.365,96.4842 537.47,97.2744 537.575,98.0672 537.68,98.8628 537.785,99.6609 537.89,100.462 537.995,101.265 538.1,102.071 538.205,102.879 \n",
       "  538.31,103.69 538.415,104.503 538.52,105.319 538.625,106.137 538.73,106.957 538.835,107.78 538.94,108.605 539.045,109.433 539.15,110.262 539.255,111.094 \n",
       "  539.36,111.928 539.465,112.765 539.57,113.603 539.675,114.444 539.78,115.286 539.885,116.131 539.99,116.977 540.095,117.826 540.2,118.677 540.305,119.529 \n",
       "  540.41,120.383 540.515,121.24 540.62,122.098 540.725,122.958 540.83,123.819 540.935,124.682 541.04,125.547 541.145,126.414 541.25,127.282 541.355,128.152 \n",
       "  541.46,129.023 541.565,129.896 541.67,130.771 541.775,131.646 541.88,132.524 541.985,133.402 542.09,134.282 542.195,135.163 542.3,136.046 542.405,136.93 \n",
       "  542.51,137.814 542.615,138.701 542.72,139.588 542.825,140.476 542.93,141.365 543.035,142.256 543.14,143.147 543.245,144.039 543.35,144.932 543.455,145.826 \n",
       "  543.56,146.721 543.665,147.617 543.77,148.513 543.875,149.41 543.98,150.308 544.085,151.206 544.19,152.105 544.296,153.005 544.401,153.905 544.506,154.805 \n",
       "  544.611,155.706 544.716,156.608 544.821,157.509 544.926,158.411 545.031,159.314 545.136,160.216 545.241,161.119 545.346,162.022 545.451,162.925 545.556,163.829 \n",
       "  545.661,164.732 545.766,165.635 545.871,166.538 545.976,167.442 546.081,168.345 546.186,169.248 546.291,170.151 546.396,171.053 546.501,171.956 546.606,172.858 \n",
       "  546.711,173.76 546.816,174.661 546.921,175.562 547.026,176.463 547.131,177.363 547.236,178.262 547.341,179.161 547.446,180.06 547.551,180.958 547.656,181.855 \n",
       "  547.761,182.751 547.866,183.647 547.971,184.542 548.076,185.436 548.181,186.33 548.286,187.222 548.391,188.114 548.496,189.004 548.601,189.894 548.706,190.783 \n",
       "  548.811,191.67 548.916,192.557 549.021,193.442 549.126,194.326 549.231,195.209 549.336,196.091 549.441,196.971 549.546,197.85 549.651,198.728 549.756,199.605 \n",
       "  549.861,200.48 549.966,201.354 550.071,202.226 550.176,203.096 550.281,203.966 550.386,204.833 550.491,205.699 550.596,206.564 550.701,207.426 550.806,208.287 \n",
       "  550.911,209.147 551.016,210.004 551.121,210.86 551.226,211.714 551.331,212.566 551.436,213.417 551.541,214.265 551.646,215.112 551.751,215.956 551.856,216.799 \n",
       "  551.961,217.639 552.066,218.478 552.171,219.314 552.276,220.148 552.382,220.981 552.487,221.811 552.592,222.639 552.697,223.464 552.802,224.288 552.907,225.109 \n",
       "  553.012,225.928 553.117,226.744 553.222,227.559 553.327,228.37 553.432,229.18 553.537,229.987 553.642,230.792 553.747,231.594 553.852,232.394 553.957,233.191 \n",
       "  554.062,233.986 554.167,234.778 554.272,235.568 554.377,236.355 554.482,237.139 554.587,237.921 554.692,238.7 554.797,239.476 554.902,240.25 555.007,241.021 \n",
       "  555.112,241.789 555.217,242.555 555.322,243.318 555.427,244.078 555.532,244.835 555.637,245.589 555.742,246.34 555.847,247.089 555.952,247.835 556.057,248.577 \n",
       "  556.162,249.317 556.267,250.054 556.372,250.788 556.477,251.519 556.582,252.247 556.687,252.972 556.792,253.694 556.897,254.412 557.002,255.128 557.107,255.841 \n",
       "  557.212,256.55 557.317,257.257 557.422,257.96 557.527,258.66 557.632,259.357 557.737,260.051 557.842,260.742 557.947,261.429 558.052,262.114 558.157,262.795 \n",
       "  558.262,263.472 558.367,264.147 558.472,264.818 558.577,265.486 558.682,266.151 558.787,266.812 558.892,267.47 558.997,268.125 559.102,268.776 559.207,269.424 \n",
       "  559.312,270.069 559.417,270.71 559.522,271.348 559.627,271.982 559.732,272.613 559.837,273.241 559.942,273.865 560.047,274.486 560.152,275.103 560.257,275.717 \n",
       "  560.362,276.327 560.468,276.934 560.573,277.538 560.678,278.137 560.783,278.734 560.888,279.327 560.993,279.916 561.098,280.502 561.203,281.084 561.308,281.662 \n",
       "  561.413,282.238 561.518,282.809 561.623,283.377 561.728,283.941 561.833,284.502 561.938,285.059 562.043,285.612 562.148,286.162 562.253,286.709 562.358,287.251 \n",
       "  562.463,287.79 562.568,288.325 562.673,288.857 562.778,289.385 562.883,289.909 562.988,290.43 563.093,290.947 563.198,291.46 563.303,291.969 563.408,292.475 \n",
       "  563.513,292.977 563.618,293.476 563.723,293.97 563.828,294.461 563.933,294.948 564.038,295.432 564.143,295.911 564.248,296.387 564.353,296.859 564.458,297.328 \n",
       "  564.563,297.792 564.668,298.253 564.773,298.71 564.878,299.163 564.983,299.613 565.088,300.059 565.193,300.5 565.298,300.938 565.403,301.373 565.508,301.803 \n",
       "  565.613,302.23 565.718,302.653 565.823,303.071 565.928,303.487 566.033,303.898 566.138,304.305 566.243,304.709 566.348,305.109 566.453,305.505 566.558,305.897 \n",
       "  566.663,306.285 566.768,306.669 566.873,307.049 566.978,307.426 567.083,307.799 567.188,308.167 567.293,308.532 567.398,308.893 567.503,309.25 567.608,309.604 \n",
       "  567.713,309.953 567.818,310.298 567.923,310.64 568.028,310.977 568.133,311.311 568.238,311.641 568.343,311.967 568.448,312.289 568.554,312.607 568.659,312.921 \n",
       "  568.764,313.231 568.869,313.537 568.974,313.839 569.079,314.138 569.184,314.432 569.289,314.723 569.394,315.009 569.499,315.292 569.604,315.57 569.709,315.845 \n",
       "  569.814,316.115 569.919,316.382 570.024,316.645 570.129,316.904 570.234,317.159 570.339,317.409 570.444,317.656 570.549,317.899 570.654,318.138 570.759,318.373 \n",
       "  570.864,318.604 570.969,318.831 571.074,319.054 571.179,319.273 571.284,319.488 571.389,319.699 571.494,319.906 571.599,320.109 571.704,320.308 571.809,320.503 \n",
       "  571.914,320.694 572.019,320.881 572.124,321.064 572.229,321.243 572.334,321.418 572.439,321.589 572.544,321.756 572.649,321.919 572.754,322.078 572.859,322.233 \n",
       "  572.964,322.383 573.069,322.53 573.174,322.673 573.279,322.812 573.384,322.947 573.489,323.077 573.594,323.204 573.699,323.327 573.804,323.445 573.909,323.56 \n",
       "  574.014,323.671 574.119,323.777 574.224,323.88 574.329,323.978 574.434,324.072 574.539,324.163 574.644,324.249 574.749,324.331 574.854,324.41 574.959,324.484 \n",
       "  575.064,324.554 575.169,324.62 575.274,324.682 575.379,324.74 575.484,324.794 575.589,324.844 575.694,324.889 575.799,324.931 575.904,324.969 576.009,325.002 \n",
       "  576.114,325.032 576.219,325.057 576.324,325.079 576.429,325.096 576.534,325.109 576.64,325.118 576.745,325.124 576.85,325.125 576.955,325.122 577.06,325.115 \n",
       "  577.165,325.104 577.27,325.088 577.375,325.069 577.48,325.046 577.585,325.018 577.69,324.987 577.795,324.951 577.9,324.912 578.005,324.868 578.11,324.82 \n",
       "  578.215,324.768 578.32,324.712 578.425,324.652 578.53,324.588 578.635,324.52 578.74,324.448 578.845,324.371 578.95,324.291 579.055,324.206 579.16,324.118 \n",
       "  579.265,324.025 579.37,323.928 579.475,323.828 579.58,323.723 579.685,323.614 579.79,323.501 579.895,323.384 580,323.262 580.105,323.137 580.21,323.008 \n",
       "  580.315,322.874 \n",
       "  \"/>\n",
       "<polygon clip-path=\"url(#clip0000)\" points=\"\n",
       "454.157,62.931 562.315,62.931 562.315,32.691 454.157,32.691 \n",
       "  \" fill=\"#ffffff\" fill-opacity=\"1\"/>\n",
       "<polyline clip-path=\"url(#clip0000)\" style=\"stroke:#000000; stroke-width:1; stroke-opacity:1; fill:none\" points=\"\n",
       "  454.157,62.931 562.315,62.931 562.315,32.691 454.157,32.691 454.157,62.931 \n",
       "  \"/>\n",
       "<polyline clip-path=\"url(#clip0000)\" style=\"stroke:#009af9; stroke-width:1; stroke-opacity:1; fill:none\" points=\"\n",
       "  460.157,47.811 496.157,47.811 \n",
       "  \"/>\n",
       "<g clip-path=\"url(#clip0000)\">\n",
       "<text style=\"fill:#000000; fill-opacity:1; font-family:Arial,Helvetica Neue,Helvetica,sans-serif; font-size:12; text-anchor:start;\" transform=\"rotate(0, 502.157, 52.311)\" x=\"502.157\" y=\"52.311\">Shoulder</text>\n",
       "</g>\n",
       "</svg>\n"
      ]
     },
     "execution_count": 13,
     "metadata": {},
     "output_type": "execute_result"
    }
   ],
   "source": [
    "plot(ts, collect(q[1] for q in qs), xlabel = \"Time [s]\", ylabel = \"Angle [rad]\", lab = \"Shoulder\")"
   ]
  },
  {
   "cell_type": "markdown",
   "metadata": {},
   "source": [
    "# The basic design of  `Mechanism` and `MechanismState`"
   ]
  },
  {
   "cell_type": "markdown",
   "metadata": {},
   "source": [
    "A `Mechanism` is an interconnection of rigid bodies and joints, without any state information:"
   ]
  },
  {
   "cell_type": "code",
   "execution_count": null,
   "metadata": {},
   "outputs": [],
   "source": [
    "collect(bodies(doublependulum))"
   ]
  },
  {
   "cell_type": "code",
   "execution_count": null,
   "metadata": {},
   "outputs": [],
   "source": [
    "collect(joints(doublependulum))"
   ]
  },
  {
   "cell_type": "markdown",
   "metadata": {},
   "source": [
    "A `MechanismState` has all the state information, e.g. the configurations and velocities of all the joints:"
   ]
  },
  {
   "cell_type": "code",
   "execution_count": null,
   "metadata": {},
   "outputs": [],
   "source": [
    "configuration(state)"
   ]
  },
  {
   "cell_type": "code",
   "execution_count": null,
   "metadata": {},
   "outputs": [],
   "source": [
    "velocity(state)"
   ]
  },
  {
   "cell_type": "markdown",
   "metadata": {},
   "source": [
    "It also has various cached computation results meant to reduce double work while computing various kinematic/dynamic quantities."
   ]
  },
  {
   "cell_type": "markdown",
   "metadata": {},
   "source": [
    "# Kinematics"
   ]
  },
  {
   "cell_type": "markdown",
   "metadata": {},
   "source": [
    "Let's unpack the list of joints into separate variables:"
   ]
  },
  {
   "cell_type": "code",
   "execution_count": null,
   "metadata": {},
   "outputs": [],
   "source": [
    "fixedjoint, shoulder, elbow = (joints(doublependulum)...)"
   ]
  },
  {
   "cell_type": "markdown",
   "metadata": {},
   "source": [
    "Many objects have frame annotations in the form of `CartesianFrame3D` objects:"
   ]
  },
  {
   "cell_type": "code",
   "execution_count": null,
   "metadata": {},
   "outputs": [],
   "source": [
    "frame_after(shoulder)"
   ]
  },
  {
   "cell_type": "code",
   "execution_count": null,
   "metadata": {},
   "outputs": [],
   "source": [
    "frame_before(shoulder)"
   ]
  },
  {
   "cell_type": "markdown",
   "metadata": {},
   "source": [
    "Here's how you create a point in the frame after the elbow joint:"
   ]
  },
  {
   "cell_type": "code",
   "execution_count": null,
   "metadata": {},
   "outputs": [],
   "source": [
    "p = Point3D(frame_after(elbow), SVector(1., 2., 3.))"
   ]
  },
  {
   "cell_type": "markdown",
   "metadata": {},
   "source": [
    "Transform it to world frame in the current state:"
   ]
  },
  {
   "cell_type": "code",
   "execution_count": null,
   "metadata": {},
   "outputs": [],
   "source": [
    "p = transform(state, p, root_frame(doublependulum))"
   ]
  },
  {
   "cell_type": "markdown",
   "metadata": {},
   "source": [
    "Now suppose we have a displacement we defined in `elbow.frameAfter`:"
   ]
  },
  {
   "cell_type": "code",
   "execution_count": null,
   "metadata": {},
   "outputs": [],
   "source": [
    "displacement = FreeVector3D(frame_after(elbow), SVector(2., 3., 4.))"
   ]
  },
  {
   "cell_type": "markdown",
   "metadata": {},
   "source": [
    "and we want to add it to `p`:"
   ]
  },
  {
   "cell_type": "code",
   "execution_count": null,
   "metadata": {},
   "outputs": [],
   "source": [
    "try\n",
    "    p + displacement\n",
    "catch err\n",
    "    println(\"failed!\")\n",
    "    err\n",
    "end"
   ]
  },
  {
   "cell_type": "markdown",
   "metadata": {},
   "source": [
    "Excercise: how to fix?"
   ]
  },
  {
   "cell_type": "markdown",
   "metadata": {},
   "source": [
    "You can also ask for the homogeneous transform to world:"
   ]
  },
  {
   "cell_type": "code",
   "execution_count": null,
   "metadata": {},
   "outputs": [],
   "source": [
    "transform_to_root(state, frame_after(elbow))"
   ]
  },
  {
   "cell_type": "markdown",
   "metadata": {},
   "source": [
    "Or a relative transform:"
   ]
  },
  {
   "cell_type": "code",
   "execution_count": null,
   "metadata": {},
   "outputs": [],
   "source": [
    "relative_transform(state, frame_after(elbow), frame_after(shoulder))"
   ]
  },
  {
   "cell_type": "markdown",
   "metadata": {},
   "source": [
    "Here's the center of mass of the double pendulum in the given state:"
   ]
  },
  {
   "cell_type": "code",
   "execution_count": null,
   "metadata": {},
   "outputs": [],
   "source": [
    "center_of_mass(state)"
   ]
  },
  {
   "cell_type": "markdown",
   "metadata": {},
   "source": [
    "Motion between bodies is represented using `Twist`s:"
   ]
  },
  {
   "cell_type": "code",
   "execution_count": null,
   "metadata": {},
   "outputs": [],
   "source": [
    "twist = relative_twist(state, frame_after(elbow), frame_before(shoulder))"
   ]
  },
  {
   "cell_type": "code",
   "execution_count": null,
   "metadata": {},
   "outputs": [],
   "source": [
    "transform(state, twist, frame_after(elbow))"
   ]
  },
  {
   "cell_type": "markdown",
   "metadata": {},
   "source": [
    "# Dynamics"
   ]
  },
  {
   "cell_type": "markdown",
   "metadata": {},
   "source": [
    "A `MechanismState` can also be used to compute quantities related to the dynamics of the `Mechanism`. Here we compute the mass matrix:"
   ]
  },
  {
   "cell_type": "code",
   "execution_count": null,
   "metadata": {
    "scrolled": true
   },
   "outputs": [],
   "source": [
    "mass_matrix(state)"
   ]
  },
  {
   "cell_type": "markdown",
   "metadata": {},
   "source": [
    "Here's the documentation for `mass_matrix` by the way:"
   ]
  },
  {
   "cell_type": "code",
   "execution_count": null,
   "metadata": {},
   "outputs": [],
   "source": [
    "?mass_matrix"
   ]
  },
  {
   "cell_type": "markdown",
   "metadata": {},
   "source": [
    "Note that there is also a zero-allocation version, `mass_matrix!` (the `!` at the end of a method is a Julia convention signifying that the function is 'in-place', i.e. modifies its input data)."
   ]
  },
  {
   "cell_type": "markdown",
   "metadata": {},
   "source": [
    "We can do inverse dynamics as follows (note again that there is a non-allocating version of this method as well):"
   ]
  },
  {
   "cell_type": "code",
   "execution_count": null,
   "metadata": {},
   "outputs": [],
   "source": [
    "v̇ = [2.; 3.] # the joint acceleration vector, i.e., the time derivative of the joint velocity vector v\n",
    "inverse_dynamics(state, v̇)"
   ]
  },
  {
   "cell_type": "markdown",
   "metadata": {},
   "source": [
    "For forward dynamics, one first creates a `DynamicsResult` object, which preallocates a bunch of stuff:"
   ]
  },
  {
   "cell_type": "code",
   "execution_count": null,
   "metadata": {},
   "outputs": [],
   "source": [
    "result = DynamicsResult{Float64}(doublependulum);"
   ]
  },
  {
   "cell_type": "code",
   "execution_count": null,
   "metadata": {},
   "outputs": [],
   "source": [
    "dynamics!(result, state)"
   ]
  },
  {
   "cell_type": "code",
   "execution_count": null,
   "metadata": {},
   "outputs": [],
   "source": [
    "result.v̇"
   ]
  },
  {
   "cell_type": "markdown",
   "metadata": {},
   "source": [
    "# Symbolic dynamics"
   ]
  },
  {
   "cell_type": "markdown",
   "metadata": {},
   "source": [
    "## Setup"
   ]
  },
  {
   "cell_type": "code",
   "execution_count": null,
   "metadata": {},
   "outputs": [],
   "source": [
    "# Make SymPy use version of Python downloaded through Julia's package system instead of system Python\n",
    "ENV[\"PYTHON\"]=\"\"\n",
    "Pkg.build(\"SymPy\")"
   ]
  },
  {
   "cell_type": "code",
   "execution_count": null,
   "metadata": {},
   "outputs": [],
   "source": [
    "using SymPy"
   ]
  },
  {
   "cell_type": "code",
   "execution_count": null,
   "metadata": {},
   "outputs": [],
   "source": [
    "doublependulumsym = parse_urdf(Sym, urdf)\n",
    "remove_fixed_tree_joints!(doublependulumsym);"
   ]
  },
  {
   "cell_type": "markdown",
   "metadata": {},
   "source": [
    "## Create symbolic parameters\n",
    "* Masses: $m_1, m_2$\n",
    "* Mass moments of inertia (about center of mass): $I_1, I_2$\n",
    "* Link lengths: $l_1, l_2$\n",
    "* Center of mass locations (w.r.t. preceding joint axis): $c_1, c_2$\n",
    "* Gravitational acceleration: $g$"
   ]
  },
  {
   "cell_type": "code",
   "execution_count": null,
   "metadata": {},
   "outputs": [],
   "source": [
    "inertias = @syms m_1 m_2 I_1 I_2 positive = true\n",
    "lengths = @syms l_1 l_2 c_1 c_2 real = true\n",
    "gravitationalAcceleration = @syms g real = true\n",
    "[inertias..., lengths..., gravitationalAcceleration...]'"
   ]
  },
  {
   "cell_type": "markdown",
   "metadata": {},
   "source": [
    "Unpack bodies and joints:"
   ]
  },
  {
   "cell_type": "code",
   "execution_count": null,
   "metadata": {},
   "outputs": [],
   "source": [
    "world, upperlink, lowerlink = (bodies(doublependulumsym)...)\n",
    "shoulder, elbow = (joints(doublependulumsym)...);"
   ]
  },
  {
   "cell_type": "markdown",
   "metadata": {},
   "source": [
    "Set symbolic parameters:"
   ]
  },
  {
   "cell_type": "code",
   "execution_count": null,
   "metadata": {},
   "outputs": [],
   "source": [
    "axis = joint_type(shoulder).axis\n",
    "spatial_inertia!(upperlink, SpatialInertia(frame_after(shoulder), I_1 * axis * axis.', SVector(0, 0, -c_1), m_1))\n",
    "spatial_inertia!(lowerlink, SpatialInertia(frame_after(elbow), I_2 * axis * axis.', SVector(0, 0, -c_2), m_2))\n",
    "add_frame!(upperlink, Transform3D(frame_before(elbow), frame_after(shoulder), SVector(0, 0, l_1)));"
   ]
  },
  {
   "cell_type": "markdown",
   "metadata": {},
   "source": [
    "Create a symbolic `MechanismState`:"
   ]
  },
  {
   "cell_type": "code",
   "execution_count": null,
   "metadata": {},
   "outputs": [],
   "source": [
    "statesym = MechanismState{Sym}(doublependulumsym);"
   ]
  },
  {
   "cell_type": "markdown",
   "metadata": {},
   "source": [
    "Set the joint configuration and joint velocity vectors of the `MechanismState` to new vectors of symbolic variables:"
   ]
  },
  {
   "cell_type": "code",
   "execution_count": null,
   "metadata": {},
   "outputs": [],
   "source": [
    "configuration(statesym)[:] = [symbols(\"q_$i\", real = true) for i = 1 : num_positions(statesym)]"
   ]
  },
  {
   "cell_type": "code",
   "execution_count": null,
   "metadata": {},
   "outputs": [],
   "source": [
    "velocity(statesym)[:] = [symbols(\"v_$i\", real = true) for i = 1 : num_positions(statesym)]"
   ]
  },
  {
   "cell_type": "markdown",
   "metadata": {},
   "source": [
    "Compute the mass matrix in symbolic form:"
   ]
  },
  {
   "cell_type": "code",
   "execution_count": null,
   "metadata": {},
   "outputs": [],
   "source": [
    "Msym = mass_matrix(statesym)\n",
    "map!(simplify, Msym.data, Msym.data) # Note: M is a Symmetric matrix type; need to simplify the underlying data\n",
    "Msym"
   ]
  },
  {
   "cell_type": "markdown",
   "metadata": {},
   "source": [
    "Kinetic energy:"
   ]
  },
  {
   "cell_type": "code",
   "execution_count": null,
   "metadata": {},
   "outputs": [],
   "source": [
    "simplify(kinetic_energy(statesym))"
   ]
  },
  {
   "cell_type": "markdown",
   "metadata": {},
   "source": [
    "# Modifying `Mechanism`s"
   ]
  },
  {
   "cell_type": "markdown",
   "metadata": {},
   "source": [
    "`Mechanism`s can be modified in various ways. Here's our original double pendulum:"
   ]
  },
  {
   "cell_type": "code",
   "execution_count": null,
   "metadata": {},
   "outputs": [],
   "source": [
    "doublependulum"
   ]
  },
  {
   "cell_type": "markdown",
   "metadata": {},
   "source": [
    "Removing fixed joints:"
   ]
  },
  {
   "cell_type": "code",
   "execution_count": null,
   "metadata": {},
   "outputs": [],
   "source": [
    "nofixedjoints = deepcopy(doublependulum)\n",
    "remove_fixed_tree_joints!(nofixedjoints)"
   ]
  },
  {
   "cell_type": "markdown",
   "metadata": {},
   "source": [
    "Converting to maximal coordinates:"
   ]
  },
  {
   "cell_type": "code",
   "execution_count": null,
   "metadata": {},
   "outputs": [],
   "source": [
    "dp_maxcoord, _ = maximal_coordinates(nofixedjoints)\n",
    "dp_maxcoord"
   ]
  },
  {
   "cell_type": "code",
   "execution_count": null,
   "metadata": {},
   "outputs": [],
   "source": [
    "collect(joints(dp_maxcoord)) # really just the `tree' joints"
   ]
  },
  {
   "cell_type": "code",
   "execution_count": null,
   "metadata": {},
   "outputs": [],
   "source": [
    "RigidBodyDynamics.non_tree_joints(dp_maxcoord) # the original joints become non-tree joints"
   ]
  },
  {
   "cell_type": "code",
   "execution_count": null,
   "metadata": {},
   "outputs": [],
   "source": [
    "num_positions(dp_maxcoord)"
   ]
  },
  {
   "cell_type": "code",
   "execution_count": null,
   "metadata": {},
   "outputs": [],
   "source": [
    "num_velocities(dp_maxcoord)"
   ]
  },
  {
   "cell_type": "markdown",
   "metadata": {},
   "source": [
    "Creating a new mechanism from a subtree:"
   ]
  },
  {
   "cell_type": "code",
   "execution_count": null,
   "metadata": {},
   "outputs": [],
   "source": [
    "upperlink = collect(bodies(doublependulum))[3]\n",
    "submechanism(doublependulum, upperlink)"
   ]
  },
  {
   "cell_type": "markdown",
   "metadata": {},
   "source": [
    "Also available: attaching one `Mechanism` to another, rerooting."
   ]
  }
 ],
 "metadata": {
  "kernelspec": {
   "display_name": "Julia 0.6.2",
   "language": "julia",
   "name": "julia-0.6"
  },
  "language_info": {
   "file_extension": ".jl",
   "mimetype": "application/julia",
   "name": "julia",
   "version": "0.6.2"
  }
 },
 "nbformat": 4,
 "nbformat_minor": 1
}
