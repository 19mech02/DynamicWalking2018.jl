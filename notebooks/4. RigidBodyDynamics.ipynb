{
 "cells": [
  {
   "cell_type": "markdown",
   "metadata": {},
   "source": [
    "# Setup"
   ]
  },
  {
   "cell_type": "code",
   "execution_count": 1,
   "metadata": {},
   "outputs": [
    {
     "name": "stdout",
     "output_type": "stream",
     "text": [
      "\u001b[32m\u001b[1m  Updating\u001b[22m\u001b[39m registry at `~/.julia/registries/General`\n",
      "\u001b[32m\u001b[1m  Updating\u001b[22m\u001b[39m git-repo `git@github.com:JuliaRegistries/General.git`\n",
      "\u001b[?25l\u001b[2K\u001b[?25h"
     ]
    }
   ],
   "source": [
    "# Tell Julia to use the packages specified in the Project.toml\n",
    "# and Manifest.toml files contained in the DynamicWalking2018.jl\n",
    "# repository. This ensures that you will have the same packages\n",
    "# that were used to create this tutorial. \n",
    "using Pkg\n",
    "pkg\"activate ..\"\n",
    "pkg\"instantiate\"\n",
    "\n",
    "# Seed the random number generator so that it will\n",
    "# produce the same set of random numbers. \n",
    "#\n",
    "# You don't generally need to do this, but it ensures\n",
    "# that you'll see exactly the same results we do for\n",
    "# this demo. \n",
    "using Random\n",
    "Random.seed!(42);"
   ]
  },
  {
   "cell_type": "code",
   "execution_count": 2,
   "metadata": {
    "scrolled": true
   },
   "outputs": [
    {
     "data": {
      "text/html": [
       "    <script class='js-collapse-script'>\n",
       "        var curMatch =\n",
       "            window.location.href\n",
       "            .match(/(.*?)\\/notebooks\\/.*\\.ipynb/);\n",
       "\n",
       "        curMatch = curMatch ||\n",
       "            window.location.href\n",
       "            .match(/(.*?)\\/apps\\/.*\\.ipynb/);\n",
       "\n",
       "        if ( curMatch ) {\n",
       "            $('head').append('<base href=\"' + curMatch[1] + '/\">');\n",
       "        }\n",
       "    </script>\n"
      ],
      "text/plain": [
       "HTML{String}(\"    <script class='js-collapse-script'>\\n        var curMatch =\\n            window.location.href\\n            .match(/(.*?)\\\\/notebooks\\\\/.*\\\\.ipynb/);\\n\\n        curMatch = curMatch ||\\n            window.location.href\\n            .match(/(.*?)\\\\/apps\\\\/.*\\\\.ipynb/);\\n\\n        if ( curMatch ) {\\n            \\$('head').append('<base href=\\\"' + curMatch[1] + '/\\\">');\\n        }\\n    </script>\\n\")"
      ]
     },
     "metadata": {},
     "output_type": "display_data"
    },
    {
     "data": {
      "text/html": [
       "<script class='js-collapse-script' src='/assetserver/41f396c72270c88d4098c6aff59a013a05364eb9-assets/webio/dist/bundle.js'></script>"
      ],
      "text/plain": [
       "HTML{String}(\"<script class='js-collapse-script' src='/assetserver/41f396c72270c88d4098c6aff59a013a05364eb9-assets/webio/dist/bundle.js'></script>\")"
      ]
     },
     "metadata": {},
     "output_type": "display_data"
    },
    {
     "data": {
      "text/html": [
       "<script class='js-collapse-script' src='/assetserver/41f396c72270c88d4098c6aff59a013a05364eb9-assets/providers/ijulia_setup.js'></script>"
      ],
      "text/plain": [
       "HTML{String}(\"<script class='js-collapse-script' src='/assetserver/41f396c72270c88d4098c6aff59a013a05364eb9-assets/providers/ijulia_setup.js'></script>\")"
      ]
     },
     "metadata": {},
     "output_type": "display_data"
    },
    {
     "data": {
      "text/html": [
       "  <script class='js-collapse-script'>\n",
       "    $('.js-collapse-script').parent('.output_subarea').css('padding', '0');\n",
       "  </script>\n"
      ],
      "text/plain": [
       "HTML{String}(\"  <script class='js-collapse-script'>\\n    \\$('.js-collapse-script').parent('.output_subarea').css('padding', '0');\\n  </script>\\n\")"
      ]
     },
     "metadata": {},
     "output_type": "display_data"
    }
   ],
   "source": [
    "using RigidBodyDynamics\n",
    "using Plots\n",
    "using MeshCatMechanisms\n",
    "using Test"
   ]
  },
  {
   "cell_type": "markdown",
   "metadata": {},
   "source": [
    "# Creating, simulating, and visualizing a double pendulum `Mechanism`\n",
    "\n",
    "We're going to create a simple `Mechanism` that represents a [double pendulum](https://en.wikipedia.org/wiki/Double_pendulum).\n",
    "One way of creating a `Mechanism` is by parsing a [URDF](http://wiki.ros.org/urdf) file:"
   ]
  },
  {
   "cell_type": "code",
   "execution_count": 3,
   "metadata": {},
   "outputs": [
    {
     "data": {
      "text/plain": [
       "Spanning tree:\n",
       "Vertex: world (root)\n",
       "  Vertex: base_link, Edge: base_link_to_world\n",
       "    Vertex: upper_link, Edge: shoulder\n",
       "      Vertex: lower_link, Edge: elbow\n",
       "No non-tree joints."
      ]
     },
     "execution_count": 3,
     "metadata": {},
     "output_type": "execute_result"
    }
   ],
   "source": [
    "urdf = \"data/doublependulum.urdf\"\n",
    "doublependulum = parse_urdf(Float64, urdf)"
   ]
  },
  {
   "cell_type": "markdown",
   "metadata": {},
   "source": [
    "A `Mechanism` stores the joint/rigid body layout, but no state information. State information is separated out into a `MechanismState` object:"
   ]
  },
  {
   "cell_type": "code",
   "execution_count": 4,
   "metadata": {},
   "outputs": [
    {
     "data": {
      "text/plain": [
       "MechanismState{Float64, Float64, Float64, …}(…)"
      ]
     },
     "execution_count": 4,
     "metadata": {},
     "output_type": "execute_result"
    }
   ],
   "source": [
    "const state = MechanismState(doublependulum)"
   ]
  },
  {
   "cell_type": "markdown",
   "metadata": {},
   "source": [
    "Next, we'll visualize the double pendulum using MeshCat (a web-enabled 3D viewer): "
   ]
  },
  {
   "cell_type": "code",
   "execution_count": 5,
   "metadata": {},
   "outputs": [],
   "source": [
    "vis = MechanismVisualizer(doublependulum, URDFVisuals(urdf));"
   ]
  },
  {
   "cell_type": "markdown",
   "metadata": {},
   "source": [
    "To open the visualizer in a new tab, just do: "
   ]
  },
  {
   "cell_type": "code",
   "execution_count": 6,
   "metadata": {},
   "outputs": [],
   "source": [
    "# open(vis)"
   ]
  },
  {
   "cell_type": "markdown",
   "metadata": {},
   "source": [
    "MeshCat even allows us to embed a visualizer inside the jupyter notebook: "
   ]
  },
  {
   "cell_type": "code",
   "execution_count": 7,
   "metadata": {
    "scrolled": false
   },
   "outputs": [
    {
     "data": {
      "text/html": [
       "<div class='display:none'></div><unsafe-script style='display:none'>\n",
       "WebIO.mount(this.previousSibling,{&quot;props&quot;:{},&quot;nodeType&quot;:&quot;Scope&quot;,&quot;type&quot;:&quot;node&quot;,&quot;instanceArgs&quot;:{&quot;imports&quot;:{&quot;data&quot;:[],&quot;type&quot;:&quot;async_block&quot;},&quot;id&quot;:&quot;scope-026a6a50-3271-4c7f-b46d-2c6b9662d574&quot;,&quot;handlers&quot;:{&quot;_promises&quot;:{&quot;importsLoaded&quot;:[function () {\n",
       "    var frame = this.dom.querySelector(&quot;#ifr&quot;);\n",
       "    var doc = frame.contentDocument\n",
       "    var win = frame.contentWindow\n",
       "\n",
       "    // Ensure that the iframe&#39;s baseURI matches the baseURI of the\n",
       "    // outer document. This is necessary to resolve\n",
       "    // https://github.com/JuliaGizmos/WebIO.jl/issues/167\n",
       "    var base = doc.createElement(&quot;base&quot;);\n",
       "    base.setAttribute(&quot;href&quot;, document.baseURI);\n",
       "    doc.head.appendChild(base);\n",
       "\n",
       "    var webio = doc.createElement(&quot;script&quot;)\n",
       "    webio.src = &quot;/assetserver/41f396c72270c88d4098c6aff59a013a05364eb9-assets/webio/dist/bundle.js&quot;\n",
       "    var parent = window\n",
       "\n",
       "    function resizeIframe() {\n",
       "        doc.body.style.padding = &#39;0&#39;\n",
       "        doc.body.style.margin = &#39;0&#39;\n",
       "        doc.documentElement.height = &#39;100%&#39;\n",
       "        doc.body.height = &#39;100%&#39;\n",
       "    }\n",
       "\n",
       "    webio.onload = function () {\n",
       "        win.WebIO.sendCallback = parent.WebIO.sendCallback; // Share stuff\n",
       "        win.WebIO.scopes = parent.WebIO.scopes\n",
       "        win.WebIO.obsscopes = parent.WebIO.obsscopes\n",
       "        win.WebIO._connected = true\n",
       "        doc.body.innerHTML = &quot;&lt;html&gt;&lt;body&gt;&quot; + &quot;&lt;div class=&#39;display:none&#39;&gt;&lt;/div&gt;&lt;unsafe-script style=&#39;display:none&#39;&gt;\\nWebIO.mount(this.previousSibling,{&amp;quot;props&amp;quot;:{},&amp;quot;nodeType&amp;quot;:&amp;quot;Scope&amp;quot;,&amp;quot;type&amp;quot;:&amp;quot;node&amp;quot;,&amp;quot;instanceArgs&amp;quot;:{&amp;quot;imports&amp;quot;:{&amp;quot;data&amp;quot;:[{&amp;quot;name&amp;quot;:null,&amp;quot;type&amp;quot;:&amp;quot;js&amp;quot;,&amp;quot;url&amp;quot;:&amp;quot;/assetserver/3268bf5fd400a2624c6da8726edb2535276b48a7-main.min.js&amp;quot;}],&amp;quot;type&amp;quot;:&amp;quot;async_block&amp;quot;},&amp;quot;id&amp;quot;:&amp;quot;scope-c8e83594-c9bb-47ab-8e56-262e7efc6ba8&amp;quot;,&amp;quot;handlers&amp;quot;:{&amp;quot;meshcat-command&amp;quot;:[(function (val){return this.viewer.handle_command_message({&amp;quot;data&amp;quot;:val})})],&amp;quot;_promises&amp;quot;:{&amp;quot;importsLoaded&amp;quot;:[(function (mc){var element=this.dom.children[0]; this.viewer=new mc.Viewer(element); WebIO.setval({&amp;quot;name&amp;quot;:&amp;quot;meshcat-request&amp;quot;,&amp;quot;scope&amp;quot;:&amp;quot;scope-c8e83594-c9bb-47ab-8e56-262e7efc6ba8&amp;quot;,&amp;quot;id&amp;quot;:&amp;quot;ob_02&amp;quot;,&amp;quot;type&amp;quot;:&amp;quot;observable&amp;quot;},String(Date.now())); return window.document.body.style.margin=&amp;quot;0&amp;quot;})]}},&amp;quot;systemjs_options&amp;quot;:null,&amp;quot;observables&amp;quot;:{&amp;quot;meshcat-command&amp;quot;:{&amp;quot;sync&amp;quot;:false,&amp;quot;id&amp;quot;:&amp;quot;ob_01&amp;quot;,&amp;quot;value&amp;quot;:[131,166,109,97,116,114,105,120,199,64,23,0,0,128,63,0,0,0,0,0,0,0,0,0,0,0,0,0,0,0,0,0,0,128,63,0,0,0,0,0,0,0,0,0,0,0,0,0,0,0,0,0,0,128,63,0,0,0,0,0,0,0,0,205,204,204,61,0,0,128,191,0,0,128,63,164,116,121,112,101,173,115,101,116,95,116,114,97,110,115,102,111,114,109,164,112,97,116,104,218,0,46,47,109,101,115,104,99,97,116,47,119,111,114,108,100,47,98,97,115,101,95,108,105,110,107,47,117,112,112,101,114,95,108,105,110,107,47,108,111,119,101,114,95,108,105,110,107]},&amp;quot;meshcat-controls&amp;quot;:{&amp;quot;sync&amp;quot;:true,&amp;quot;id&amp;quot;:&amp;quot;ob_03&amp;quot;,&amp;quot;value&amp;quot;:[]},&amp;quot;meshcat-request&amp;quot;:{&amp;quot;sync&amp;quot;:true,&amp;quot;id&amp;quot;:&amp;quot;ob_02&amp;quot;,&amp;quot;value&amp;quot;:&amp;quot;&amp;quot;}}},&amp;quot;children&amp;quot;:[{&amp;quot;props&amp;quot;:{&amp;quot;className&amp;quot;:&amp;quot;meshcat-viewer&amp;quot;,&amp;quot;style&amp;quot;:{&amp;quot;left&amp;quot;:0,&amp;quot;right&amp;quot;:0,&amp;quot;overflow&amp;quot;:&amp;quot;hidden&amp;quot;,&amp;quot;position&amp;quot;:&amp;quot;absolute&amp;quot;,&amp;quot;height&amp;quot;:&amp;quot;100vh&amp;quot;,&amp;quot;margin&amp;quot;:0,&amp;quot;width&amp;quot;:&amp;quot;100vw&amp;quot;}},&amp;quot;nodeType&amp;quot;:&amp;quot;DOM&amp;quot;,&amp;quot;type&amp;quot;:&amp;quot;node&amp;quot;,&amp;quot;instanceArgs&amp;quot;:{&amp;quot;namespace&amp;quot;:&amp;quot;html&amp;quot;,&amp;quot;tag&amp;quot;:&amp;quot;div&amp;quot;},&amp;quot;children&amp;quot;:[]}]})&lt;/unsafe-script&gt;&quot; + &quot;&lt;/body&gt;&lt;/html&gt;&quot;;\n",
       "        setTimeout(function () { resizeIframe() }, 0)\n",
       "    }\n",
       "\n",
       "    doc.body.appendChild(webio)\n",
       "},(function (){return this.dom.style.height=&quot;100%&quot;})]}},&quot;systemjs_options&quot;:null,&quot;observables&quot;:{}},&quot;children&quot;:[{&quot;props&quot;:{&quot;style&quot;:{&quot;flexDirection&quot;:&quot;column&quot;,&quot;height&quot;:&quot;100%&quot;,&quot;minHeight&quot;:&quot;400px&quot;,&quot;display&quot;:&quot;flex&quot;,&quot;width&quot;:&quot;100%&quot;,&quot;overflow&quot;:&quot;hidden&quot;}},&quot;nodeType&quot;:&quot;DOM&quot;,&quot;type&quot;:&quot;node&quot;,&quot;instanceArgs&quot;:{&quot;namespace&quot;:&quot;html&quot;,&quot;tag&quot;:&quot;div&quot;},&quot;children&quot;:[{&quot;props&quot;:{&quot;attributes&quot;:{&quot;height&quot;:&quot;100%&quot;,&quot;scrolling&quot;:&quot;no&quot;,&quot;src&quot;:&quot;javascript:void(0)&quot;,&quot;frameborder&quot;:0},&quot;id&quot;:&quot;ifr&quot;,&quot;style&quot;:{&quot;width&quot;:&quot;100%&quot;,&quot;flexGrow&quot;:&quot;1&quot;}},&quot;nodeType&quot;:&quot;DOM&quot;,&quot;type&quot;:&quot;node&quot;,&quot;instanceArgs&quot;:{&quot;namespace&quot;:&quot;html&quot;,&quot;tag&quot;:&quot;iframe&quot;},&quot;children&quot;:[]}]}]})</unsafe-script>"
      ],
      "text/plain": [
       "WebIO.Scope(\"scope-026a6a50-3271-4c7f-b46d-2c6b9662d574\", WebIO.Node{WebIO.DOM}(WebIO.DOM(:html, :div), Any[Node{DOM}(DOM(:html, :iframe), Any[], Dict{Symbol,Any}(:attributes=>Dict{String,Any}(\"height\"=>\"100%\",\"scrolling\"=>\"no\",\"src\"=>\"javascript:void(0)\",\"frameborder\"=>0),:id=>\"ifr\",:style=>Dict(\"width\"=>\"100%\",\"flexGrow\"=>\"1\")), 0)], Dict{Symbol,Any}(:style=>Dict(\"flexDirection\"=>\"column\",\"height\"=>\"100%\",\"minHeight\"=>\"400px\",\"display\"=>\"flex\",\"width\"=>\"100%\",\"overflow\"=>\"hidden\")), 1), Dict{String,Tuple{Observables.AbstractObservable,Union{Nothing, Bool}}}(), Set(String[]), nothing, Any[], Dict{Any,Any}(\"_promises\"=>Dict{Any,Any}(\"importsLoaded\"=>Any[JSString(\"function () {\\n    var frame = this.dom.querySelector(\\\"#ifr\\\");\\n    var doc = frame.contentDocument\\n    var win = frame.contentWindow\\n\\n    // Ensure that the iframe's baseURI matches the baseURI of the\\n    // outer document. This is necessary to resolve\\n    // https://github.com/JuliaGizmos/WebIO.jl/issues/167\\n    var base = doc.createElement(\\\"base\\\");\\n    base.setAttribute(\\\"href\\\", document.baseURI);\\n    doc.head.appendChild(base);\\n\\n    var webio = doc.createElement(\\\"script\\\")\\n    webio.src = \\\"/assetserver/41f396c72270c88d4098c6aff59a013a05364eb9-assets/webio/dist/bundle.js\\\"\\n    var parent = window\\n\\n    function resizeIframe() {\\n        doc.body.style.padding = '0'\\n        doc.body.style.margin = '0'\\n        doc.documentElement.height = '100%'\\n        doc.body.height = '100%'\\n    }\\n\\n    webio.onload = function () {\\n        win.WebIO.sendCallback = parent.WebIO.sendCallback; // Share stuff\\n        win.WebIO.scopes = parent.WebIO.scopes\\n        win.WebIO.obsscopes = parent.WebIO.obsscopes\\n        win.WebIO._connected = true\\n        doc.body.innerHTML = \\\"<html><body>\\\" + \\\"<div class='display:none'></div><unsafe-script style='display:none'>\\\\nWebIO.mount(this.previousSibling,{&quot;props&quot;:{},&quot;nodeType&quot;:&quot;Scope&quot;,&quot;type&quot;:&quot;node&quot;,&quot;instanceArgs&quot;:{&quot;imports&quot;:{&quot;data&quot;:[{&quot;name&quot;:null,&quot;type&quot;:&quot;js&quot;,&quot;url&quot;:&quot;/assetserver/3268bf5fd400a2624c6da8726edb2535276b48a7-main.min.js&quot;}],&quot;type&quot;:&quot;async_block&quot;},&quot;id&quot;:&quot;scope-c8e83594-c9bb-47ab-8e56-262e7efc6ba8&quot;,&quot;handlers&quot;:{&quot;meshcat-command&quot;:[(function (val){return this.viewer.handle_command_message({&quot;data&quot;:val})})],&quot;_promises&quot;:{&quot;importsLoaded&quot;:[(function (mc){var element=this.dom.children[0]; this.viewer=new mc.Viewer(element); WebIO.setval({&quot;name&quot;:&quot;meshcat-request&quot;,&quot;scope&quot;:&quot;scope-c8e83594-c9bb-47ab-8e56-262e7efc6ba8&quot;,&quot;id&quot;:&quot;ob_02&quot;,&quot;type&quot;:&quot;observable&quot;},String(Date.now())); return window.document.body.style.margin=&quot;0&quot;})]}},&quot;systemjs_options&quot;:null,&quot;observables&quot;:{&quot;meshcat-command&quot;:{&quot;sync&quot;:false,&quot;id&quot;:&quot;ob_01&quot;,&quot;value&quot;:[131,166,109,97,116,114,105,120,199,64,23,0,0,128,63,0,0,0,0,0,0,0,0,0,0,0,0,0,0,0,0,0,0,128,63,0,0,0,0,0,0,0,0,0,0,0,0,0,0,0,0,0,0,128,63,0,0,0,0,0,0,0,0,205,204,204,61,0,0,128,191,0,0,128,63,164,116,121,112,101,173,115,101,116,95,116,114,97,110,115,102,111,114,109,164,112,97,116,104,218,0,46,47,109,101,115,104,99,97,116,47,119,111,114,108,100,47,98,97,115,101,95,108,105,110,107,47,117,112,112,101,114,95,108,105,110,107,47,108,111,119,101,114,95,108,105,110,107]},&quot;meshcat-controls&quot;:{&quot;sync&quot;:true,&quot;id&quot;:&quot;ob_03&quot;,&quot;value&quot;:[]},&quot;meshcat-request&quot;:{&quot;sync&quot;:true,&quot;id&quot;:&quot;ob_02&quot;,&quot;value&quot;:&quot;&quot;}}},&quot;children&quot;:[{&quot;props&quot;:{&quot;className&quot;:&quot;meshcat-viewer&quot;,&quot;style&quot;:{&quot;left&quot;:0,&quot;right&quot;:0,&quot;overflow&quot;:&quot;hidden&quot;,&quot;position&quot;:&quot;absolute&quot;,&quot;height&quot;:&quot;100vh&quot;,&quot;margin&quot;:0,&quot;width&quot;:&quot;100vw&quot;}},&quot;nodeType&quot;:&quot;DOM&quot;,&quot;type&quot;:&quot;node&quot;,&quot;instanceArgs&quot;:{&quot;namespace&quot;:&quot;html&quot;,&quot;tag&quot;:&quot;div&quot;},&quot;children&quot;:[]}]})</unsafe-script>\\\" + \\\"</body></html>\\\";\\n        setTimeout(function () { resizeIframe() }, 0)\\n    }\\n\\n    doc.body.appendChild(webio)\\n}\"), JSString(\"(function (){return this.dom.style.height=\\\"100%\\\"})\")])), WebIO.ConnectionPool(Channel{Any}(sz_max:9223372036854775807,sz_curr:0), Set(WebIO.AbstractConnection[]), Channel{WebIO.AbstractConnection}(sz_max:32,sz_curr:0)))"
      ]
     },
     "execution_count": 7,
     "metadata": {},
     "output_type": "execute_result"
    }
   ],
   "source": [
    "IJuliaCell(vis)"
   ]
  },
  {
   "cell_type": "markdown",
   "metadata": {},
   "source": [
    "Let's first set the configurations and velocities of the joints:"
   ]
  },
  {
   "cell_type": "code",
   "execution_count": 8,
   "metadata": {},
   "outputs": [],
   "source": [
    "set_configuration!(state, [1.0, -1.5])\n",
    "set_configuration!(vis, configuration(state))"
   ]
  },
  {
   "cell_type": "markdown",
   "metadata": {},
   "source": [
    "Basic simulation is easy (but see RigidBodySim.jl for a more featureful simulator):"
   ]
  },
  {
   "cell_type": "code",
   "execution_count": 9,
   "metadata": {},
   "outputs": [],
   "source": [
    "ts, qs, vs = simulate(state, 5., Δt = 1e-3);"
   ]
  },
  {
   "cell_type": "markdown",
   "metadata": {},
   "source": [
    "After which we can animate the results:"
   ]
  },
  {
   "cell_type": "code",
   "execution_count": 58,
   "metadata": {},
   "outputs": [],
   "source": [
    "MeshCatMechanisms.animate(vis, ts, qs)"
   ]
  },
  {
   "cell_type": "markdown",
   "metadata": {},
   "source": [
    "Or plot them using e.g. Plots.jl:"
   ]
  },
  {
   "cell_type": "code",
   "execution_count": 11,
   "metadata": {
    "scrolled": false
   },
   "outputs": [
    {
     "data": {
      "image/svg+xml": [
       "<?xml version=\"1.0\" encoding=\"utf-8\"?>\n",
       "<svg xmlns=\"http://www.w3.org/2000/svg\" xmlns:xlink=\"http://www.w3.org/1999/xlink\" width=\"600\" height=\"400\" viewBox=\"0 0 2400 1600\">\n",
       "<defs>\n",
       "  <clipPath id=\"clip5100\">\n",
       "    <rect x=\"0\" y=\"0\" width=\"2000\" height=\"2000\"/>\n",
       "  </clipPath>\n",
       "</defs>\n",
       "<defs>\n",
       "  <clipPath id=\"clip5101\">\n",
       "    <rect x=\"0\" y=\"0\" width=\"2400\" height=\"1600\"/>\n",
       "  </clipPath>\n",
       "</defs>\n",
       "<polygon clip-path=\"url(#clip5101)\" points=\"\n",
       "0,1600 2400,1600 2400,0 0,0 \n",
       "  \" fill=\"#ffffff\" fill-rule=\"evenodd\" fill-opacity=\"1\"/>\n",
       "<defs>\n",
       "  <clipPath id=\"clip5102\">\n",
       "    <rect x=\"480\" y=\"0\" width=\"1681\" height=\"1600\"/>\n",
       "  </clipPath>\n",
       "</defs>\n",
       "<polygon clip-path=\"url(#clip5101)\" points=\"\n",
       "252.496,1440.48 2321.26,1440.48 2321.26,47.2441 252.496,47.2441 \n",
       "  \" fill=\"#ffffff\" fill-rule=\"evenodd\" fill-opacity=\"1\"/>\n",
       "<defs>\n",
       "  <clipPath id=\"clip5103\">\n",
       "    <rect x=\"252\" y=\"47\" width=\"2070\" height=\"1394\"/>\n",
       "  </clipPath>\n",
       "</defs>\n",
       "<polyline clip-path=\"url(#clip5103)\" style=\"stroke:#000000; stroke-width:2; stroke-opacity:0.1; fill:none\" points=\"\n",
       "  311.046,1440.48 311.046,47.2441 \n",
       "  \"/>\n",
       "<polyline clip-path=\"url(#clip5103)\" style=\"stroke:#000000; stroke-width:2; stroke-opacity:0.1; fill:none\" points=\"\n",
       "  701.379,1440.48 701.379,47.2441 \n",
       "  \"/>\n",
       "<polyline clip-path=\"url(#clip5103)\" style=\"stroke:#000000; stroke-width:2; stroke-opacity:0.1; fill:none\" points=\"\n",
       "  1091.71,1440.48 1091.71,47.2441 \n",
       "  \"/>\n",
       "<polyline clip-path=\"url(#clip5103)\" style=\"stroke:#000000; stroke-width:2; stroke-opacity:0.1; fill:none\" points=\"\n",
       "  1482.04,1440.48 1482.04,47.2441 \n",
       "  \"/>\n",
       "<polyline clip-path=\"url(#clip5103)\" style=\"stroke:#000000; stroke-width:2; stroke-opacity:0.1; fill:none\" points=\"\n",
       "  1872.38,1440.48 1872.38,47.2441 \n",
       "  \"/>\n",
       "<polyline clip-path=\"url(#clip5103)\" style=\"stroke:#000000; stroke-width:2; stroke-opacity:0.1; fill:none\" points=\"\n",
       "  2262.71,1440.48 2262.71,47.2441 \n",
       "  \"/>\n",
       "<polyline clip-path=\"url(#clip5103)\" style=\"stroke:#000000; stroke-width:2; stroke-opacity:0.1; fill:none\" points=\"\n",
       "  252.496,1407.7 2321.26,1407.7 \n",
       "  \"/>\n",
       "<polyline clip-path=\"url(#clip5103)\" style=\"stroke:#000000; stroke-width:2; stroke-opacity:0.1; fill:none\" points=\"\n",
       "  252.496,1077.45 2321.26,1077.45 \n",
       "  \"/>\n",
       "<polyline clip-path=\"url(#clip5103)\" style=\"stroke:#000000; stroke-width:2; stroke-opacity:0.1; fill:none\" points=\"\n",
       "  252.496,747.189 2321.26,747.189 \n",
       "  \"/>\n",
       "<polyline clip-path=\"url(#clip5103)\" style=\"stroke:#000000; stroke-width:2; stroke-opacity:0.1; fill:none\" points=\"\n",
       "  252.496,416.932 2321.26,416.932 \n",
       "  \"/>\n",
       "<polyline clip-path=\"url(#clip5103)\" style=\"stroke:#000000; stroke-width:2; stroke-opacity:0.1; fill:none\" points=\"\n",
       "  252.496,86.6754 2321.26,86.6754 \n",
       "  \"/>\n",
       "<polyline clip-path=\"url(#clip5101)\" style=\"stroke:#000000; stroke-width:4; stroke-opacity:1; fill:none\" points=\"\n",
       "  252.496,1440.48 2321.26,1440.48 \n",
       "  \"/>\n",
       "<polyline clip-path=\"url(#clip5101)\" style=\"stroke:#000000; stroke-width:4; stroke-opacity:1; fill:none\" points=\"\n",
       "  252.496,1440.48 252.496,47.2441 \n",
       "  \"/>\n",
       "<polyline clip-path=\"url(#clip5101)\" style=\"stroke:#000000; stroke-width:4; stroke-opacity:1; fill:none\" points=\"\n",
       "  311.046,1440.48 311.046,1419.58 \n",
       "  \"/>\n",
       "<polyline clip-path=\"url(#clip5101)\" style=\"stroke:#000000; stroke-width:4; stroke-opacity:1; fill:none\" points=\"\n",
       "  701.379,1440.48 701.379,1419.58 \n",
       "  \"/>\n",
       "<polyline clip-path=\"url(#clip5101)\" style=\"stroke:#000000; stroke-width:4; stroke-opacity:1; fill:none\" points=\"\n",
       "  1091.71,1440.48 1091.71,1419.58 \n",
       "  \"/>\n",
       "<polyline clip-path=\"url(#clip5101)\" style=\"stroke:#000000; stroke-width:4; stroke-opacity:1; fill:none\" points=\"\n",
       "  1482.04,1440.48 1482.04,1419.58 \n",
       "  \"/>\n",
       "<polyline clip-path=\"url(#clip5101)\" style=\"stroke:#000000; stroke-width:4; stroke-opacity:1; fill:none\" points=\"\n",
       "  1872.38,1440.48 1872.38,1419.58 \n",
       "  \"/>\n",
       "<polyline clip-path=\"url(#clip5101)\" style=\"stroke:#000000; stroke-width:4; stroke-opacity:1; fill:none\" points=\"\n",
       "  2262.71,1440.48 2262.71,1419.58 \n",
       "  \"/>\n",
       "<polyline clip-path=\"url(#clip5101)\" style=\"stroke:#000000; stroke-width:4; stroke-opacity:1; fill:none\" points=\"\n",
       "  252.496,1407.7 283.528,1407.7 \n",
       "  \"/>\n",
       "<polyline clip-path=\"url(#clip5101)\" style=\"stroke:#000000; stroke-width:4; stroke-opacity:1; fill:none\" points=\"\n",
       "  252.496,1077.45 283.528,1077.45 \n",
       "  \"/>\n",
       "<polyline clip-path=\"url(#clip5101)\" style=\"stroke:#000000; stroke-width:4; stroke-opacity:1; fill:none\" points=\"\n",
       "  252.496,747.189 283.528,747.189 \n",
       "  \"/>\n",
       "<polyline clip-path=\"url(#clip5101)\" style=\"stroke:#000000; stroke-width:4; stroke-opacity:1; fill:none\" points=\"\n",
       "  252.496,416.932 283.528,416.932 \n",
       "  \"/>\n",
       "<polyline clip-path=\"url(#clip5101)\" style=\"stroke:#000000; stroke-width:4; stroke-opacity:1; fill:none\" points=\"\n",
       "  252.496,86.6754 283.528,86.6754 \n",
       "  \"/>\n",
       "<g clip-path=\"url(#clip5101)\">\n",
       "<text style=\"fill:#000000; fill-opacity:1; font-family:Arial,Helvetica Neue,Helvetica,sans-serif; font-size:48px; text-anchor:middle;\" transform=\"rotate(0, 311.046, 1494.48)\" x=\"311.046\" y=\"1494.48\">0</text>\n",
       "</g>\n",
       "<g clip-path=\"url(#clip5101)\">\n",
       "<text style=\"fill:#000000; fill-opacity:1; font-family:Arial,Helvetica Neue,Helvetica,sans-serif; font-size:48px; text-anchor:middle;\" transform=\"rotate(0, 701.379, 1494.48)\" x=\"701.379\" y=\"1494.48\">1</text>\n",
       "</g>\n",
       "<g clip-path=\"url(#clip5101)\">\n",
       "<text style=\"fill:#000000; fill-opacity:1; font-family:Arial,Helvetica Neue,Helvetica,sans-serif; font-size:48px; text-anchor:middle;\" transform=\"rotate(0, 1091.71, 1494.48)\" x=\"1091.71\" y=\"1494.48\">2</text>\n",
       "</g>\n",
       "<g clip-path=\"url(#clip5101)\">\n",
       "<text style=\"fill:#000000; fill-opacity:1; font-family:Arial,Helvetica Neue,Helvetica,sans-serif; font-size:48px; text-anchor:middle;\" transform=\"rotate(0, 1482.04, 1494.48)\" x=\"1482.04\" y=\"1494.48\">3</text>\n",
       "</g>\n",
       "<g clip-path=\"url(#clip5101)\">\n",
       "<text style=\"fill:#000000; fill-opacity:1; font-family:Arial,Helvetica Neue,Helvetica,sans-serif; font-size:48px; text-anchor:middle;\" transform=\"rotate(0, 1872.38, 1494.48)\" x=\"1872.38\" y=\"1494.48\">4</text>\n",
       "</g>\n",
       "<g clip-path=\"url(#clip5101)\">\n",
       "<text style=\"fill:#000000; fill-opacity:1; font-family:Arial,Helvetica Neue,Helvetica,sans-serif; font-size:48px; text-anchor:middle;\" transform=\"rotate(0, 2262.71, 1494.48)\" x=\"2262.71\" y=\"1494.48\">5</text>\n",
       "</g>\n",
       "<g clip-path=\"url(#clip5101)\">\n",
       "<text style=\"fill:#000000; fill-opacity:1; font-family:Arial,Helvetica Neue,Helvetica,sans-serif; font-size:48px; text-anchor:end;\" transform=\"rotate(0, 228.496, 1425.2)\" x=\"228.496\" y=\"1425.2\">-1.0</text>\n",
       "</g>\n",
       "<g clip-path=\"url(#clip5101)\">\n",
       "<text style=\"fill:#000000; fill-opacity:1; font-family:Arial,Helvetica Neue,Helvetica,sans-serif; font-size:48px; text-anchor:end;\" transform=\"rotate(0, 228.496, 1094.95)\" x=\"228.496\" y=\"1094.95\">-0.5</text>\n",
       "</g>\n",
       "<g clip-path=\"url(#clip5101)\">\n",
       "<text style=\"fill:#000000; fill-opacity:1; font-family:Arial,Helvetica Neue,Helvetica,sans-serif; font-size:48px; text-anchor:end;\" transform=\"rotate(0, 228.496, 764.689)\" x=\"228.496\" y=\"764.689\">0.0</text>\n",
       "</g>\n",
       "<g clip-path=\"url(#clip5101)\">\n",
       "<text style=\"fill:#000000; fill-opacity:1; font-family:Arial,Helvetica Neue,Helvetica,sans-serif; font-size:48px; text-anchor:end;\" transform=\"rotate(0, 228.496, 434.432)\" x=\"228.496\" y=\"434.432\">0.5</text>\n",
       "</g>\n",
       "<g clip-path=\"url(#clip5101)\">\n",
       "<text style=\"fill:#000000; fill-opacity:1; font-family:Arial,Helvetica Neue,Helvetica,sans-serif; font-size:48px; text-anchor:end;\" transform=\"rotate(0, 228.496, 104.175)\" x=\"228.496\" y=\"104.175\">1.0</text>\n",
       "</g>\n",
       "<g clip-path=\"url(#clip5101)\">\n",
       "<text style=\"fill:#000000; fill-opacity:1; font-family:Arial,Helvetica Neue,Helvetica,sans-serif; font-size:66px; text-anchor:middle;\" transform=\"rotate(0, 1286.88, 1590.4)\" x=\"1286.88\" y=\"1590.4\">Time [s]</text>\n",
       "</g>\n",
       "<g clip-path=\"url(#clip5101)\">\n",
       "<text style=\"fill:#000000; fill-opacity:1; font-family:Arial,Helvetica Neue,Helvetica,sans-serif; font-size:66px; text-anchor:middle;\" transform=\"rotate(-90, 57.6, 743.863)\" x=\"57.6\" y=\"743.863\">Angle [rad]</text>\n",
       "</g>\n",
       "<polyline clip-path=\"url(#clip5103)\" style=\"stroke:#009af9; stroke-width:4; stroke-opacity:1; fill:none\" points=\"\n",
       "  311.046,86.6754 311.436,86.6785 311.827,86.6879 312.217,86.7036 312.607,86.7256 312.998,86.7538 313.388,86.7884 313.778,86.8292 314.169,86.8762 314.559,86.9296 \n",
       "  314.949,86.9892 315.34,87.0552 315.73,87.1273 316.12,87.2058 316.511,87.2906 316.901,87.3816 317.291,87.4789 317.682,87.5825 318.072,87.6923 318.462,87.8085 \n",
       "  318.853,87.9309 319.243,88.0596 319.633,88.1946 320.024,88.3358 320.414,88.4834 320.804,88.6372 321.195,88.7973 321.585,88.9637 321.975,89.1364 322.366,89.3153 \n",
       "  322.756,89.5006 323.146,89.6921 323.537,89.8899 323.927,90.094 324.317,90.3043 324.708,90.521 325.098,90.7439 325.488,90.9732 325.879,91.2087 326.269,91.4505 \n",
       "  326.659,91.6986 327.05,91.9529 327.44,92.2136 327.83,92.4806 328.221,92.7538 328.611,93.0334 329.001,93.3192 329.392,93.6113 329.782,93.9097 330.172,94.2144 \n",
       "  330.563,94.5255 330.953,94.8428 331.343,95.1664 331.734,95.4963 332.124,95.8325 332.514,96.175 332.905,96.5238 333.295,96.8789 333.685,97.2403 334.076,97.608 \n",
       "  334.466,97.982 334.856,98.3623 335.247,98.7489 335.637,99.1419 336.027,99.5411 336.418,99.9467 336.808,100.359 337.198,100.777 337.589,101.201 337.979,101.632 \n",
       "  338.369,102.069 338.76,102.513 339.15,102.962 339.54,103.418 339.931,103.881 340.321,104.35 340.711,104.825 341.102,105.306 341.492,105.794 341.882,106.288 \n",
       "  342.273,106.788 342.663,107.295 343.053,107.808 343.444,108.328 343.834,108.853 344.224,109.385 344.615,109.924 345.005,110.469 345.395,111.02 345.786,111.577 \n",
       "  346.176,112.141 346.566,112.711 346.957,113.288 347.347,113.871 347.737,114.46 348.128,115.056 348.518,115.658 348.908,116.266 349.299,116.881 349.689,117.502 \n",
       "  350.079,118.13 350.47,118.764 350.86,119.404 351.25,120.051 351.641,120.704 352.031,121.364 352.421,122.03 352.812,122.702 353.202,123.381 353.592,124.066 \n",
       "  353.983,124.757 354.373,125.455 354.763,126.16 355.154,126.871 355.544,127.588 355.934,128.312 356.325,129.042 356.715,129.778 357.105,130.521 357.496,131.271 \n",
       "  357.886,132.027 358.276,132.789 358.667,133.558 359.057,134.334 359.447,135.115 359.838,135.904 360.228,136.699 360.618,137.5 361.009,138.308 361.399,139.122 \n",
       "  361.789,139.943 362.18,140.77 362.57,141.604 362.96,142.444 363.351,143.291 363.741,144.145 364.131,145.005 364.522,145.871 364.912,146.744 365.302,147.624 \n",
       "  365.693,148.51 366.083,149.403 366.473,150.303 366.864,151.209 367.254,152.121 367.644,153.04 368.035,153.966 368.425,154.899 368.815,155.838 369.206,156.783 \n",
       "  369.596,157.736 369.986,158.695 370.377,159.661 370.767,160.633 371.157,161.612 371.548,162.598 371.938,163.59 372.328,164.589 372.719,165.595 373.109,166.608 \n",
       "  373.499,167.627 373.89,168.653 374.28,169.686 374.67,170.725 375.061,171.772 375.451,172.825 375.841,173.885 376.232,174.952 376.622,176.025 377.012,177.105 \n",
       "  377.403,178.193 377.793,179.287 378.183,180.388 378.574,181.496 378.964,182.61 379.354,183.732 379.745,184.861 380.135,185.996 380.525,187.138 380.916,188.288 \n",
       "  381.306,189.444 381.696,190.608 382.087,191.778 382.477,192.955 382.867,194.14 383.258,195.331 383.648,196.529 384.038,197.735 384.429,198.948 384.819,200.167 \n",
       "  385.209,201.394 385.6,202.628 385.99,203.869 386.38,205.118 386.771,206.373 387.161,207.636 387.551,208.906 387.942,210.183 388.332,211.467 388.722,212.759 \n",
       "  389.113,214.058 389.503,215.364 389.893,216.678 390.284,217.999 390.674,219.327 391.064,220.663 391.455,222.006 391.845,223.357 392.235,224.715 392.626,226.081 \n",
       "  393.016,227.454 393.406,228.834 393.797,230.222 394.187,231.618 394.577,233.021 394.968,234.432 395.358,235.851 395.748,237.277 396.139,238.711 396.529,240.153 \n",
       "  396.919,241.602 397.31,243.059 397.7,244.524 398.09,245.997 398.481,247.477 398.871,248.966 399.261,250.462 399.652,251.967 400.042,253.479 400.432,254.999 \n",
       "  400.823,256.527 401.213,258.064 401.603,259.608 401.994,261.161 402.384,262.722 402.774,264.29 403.165,265.867 403.555,267.453 403.945,269.046 404.336,270.648 \n",
       "  404.726,272.259 405.116,273.877 405.507,275.504 405.897,277.14 406.287,278.784 406.678,280.436 407.068,282.098 407.458,283.767 407.849,285.446 408.239,287.133 \n",
       "  408.629,288.828 409.02,290.533 409.41,292.246 409.8,293.968 410.191,295.7 410.581,297.44 410.971,299.188 411.362,300.946 411.752,302.714 412.142,304.49 \n",
       "  412.533,306.275 412.923,308.07 413.313,309.873 413.704,311.686 414.094,313.509 414.484,315.341 414.875,317.182 415.265,319.032 415.655,320.893 416.046,322.763 \n",
       "  416.436,324.642 416.826,326.531 417.217,328.43 417.607,330.339 417.997,332.258 418.388,334.186 418.778,336.125 419.168,338.073 419.559,340.032 419.949,342.001 \n",
       "  420.339,343.98 420.73,345.969 421.12,347.969 421.51,349.979 421.901,351.999 422.291,354.03 422.681,356.072 423.072,358.124 423.462,360.187 423.852,362.261 \n",
       "  424.243,364.345 424.633,366.441 425.023,368.547 425.414,370.665 425.804,372.793 426.194,374.933 426.585,377.084 426.975,379.246 427.365,381.42 427.756,383.605 \n",
       "  428.146,385.802 428.536,388.011 428.927,390.231 429.317,392.462 429.707,394.706 430.098,396.962 430.488,399.229 430.878,401.509 431.269,403.801 431.659,406.105 \n",
       "  432.049,408.421 432.44,410.75 432.83,413.091 433.22,415.445 433.611,417.811 434.001,420.19 434.391,422.582 434.782,424.986 435.172,427.404 435.562,429.834 \n",
       "  435.953,432.278 436.343,434.735 436.733,437.205 437.124,439.688 437.514,442.185 437.904,444.695 438.295,447.219 438.685,449.756 439.075,452.307 439.466,454.872 \n",
       "  439.856,457.451 440.246,460.043 440.637,462.65 441.027,465.27 441.417,467.905 441.808,470.554 442.198,473.217 442.588,475.895 442.979,478.586 443.369,481.293 \n",
       "  443.759,484.013 444.15,486.748 444.54,489.498 444.93,492.262 445.321,495.041 445.711,497.835 446.101,500.643 446.492,503.466 446.882,506.304 447.272,509.157 \n",
       "  447.663,512.024 448.053,514.907 448.443,517.804 448.834,520.715 449.224,523.642 449.614,526.583 450.005,529.539 450.395,532.51 450.785,535.495 451.176,538.495 \n",
       "  451.566,541.51 451.956,544.539 452.347,547.582 452.737,550.64 453.127,553.712 453.518,556.798 453.908,559.898 454.298,563.012 454.689,566.14 455.079,569.281 \n",
       "  455.469,572.436 455.86,575.604 456.25,578.785 456.64,581.98 457.031,585.186 457.421,588.405 457.811,591.637 458.202,594.88 458.592,598.135 458.982,601.402 \n",
       "  459.373,604.679 459.763,607.967 460.153,611.266 460.544,614.575 460.934,617.894 461.324,621.223 461.715,624.56 462.105,627.906 462.495,631.261 462.886,634.623 \n",
       "  463.276,637.993 463.666,641.37 464.057,644.754 464.447,648.143 464.837,651.539 465.228,654.939 465.618,658.345 466.008,661.754 466.399,665.168 466.789,668.584 \n",
       "  467.179,672.004 467.57,675.426 467.96,678.849 468.35,682.274 468.741,685.699 469.131,689.125 469.521,692.55 469.912,695.975 470.302,699.398 470.692,702.819 \n",
       "  471.083,706.238 471.473,709.654 471.863,713.067 472.254,716.476 472.644,719.881 473.034,723.281 473.425,726.676 473.815,730.065 474.205,733.448 474.596,736.825 \n",
       "  474.986,740.195 475.376,743.557 475.767,746.911 476.157,750.258 476.547,753.596 476.938,756.925 477.328,760.245 477.718,763.556 478.109,766.856 478.499,770.147 \n",
       "  478.889,773.427 479.28,776.697 479.67,779.955 480.06,783.203 480.451,786.439 480.841,789.663 481.231,792.875 481.622,796.076 482.012,799.264 482.402,802.44 \n",
       "  482.793,805.603 483.183,808.754 483.573,811.892 483.964,815.017 484.354,818.128 484.744,821.227 485.135,824.312 485.525,827.384 485.915,830.443 486.306,833.488 \n",
       "  486.696,836.52 487.086,839.538 487.477,842.542 487.867,845.533 488.257,848.51 488.648,851.473 489.038,854.423 489.428,857.359 489.819,860.281 490.209,863.19 \n",
       "  490.599,866.084 490.99,868.966 491.38,871.833 491.77,874.687 492.161,877.527 492.551,880.354 492.941,883.167 493.332,885.967 493.722,888.753 494.112,891.526 \n",
       "  494.503,894.285 494.893,897.031 495.283,899.764 495.674,902.484 496.064,905.191 496.454,907.884 496.845,910.565 497.235,913.233 497.625,915.888 498.016,918.53 \n",
       "  498.406,921.159 498.796,923.776 499.187,926.38 499.577,928.972 499.967,931.551 500.358,934.118 500.748,936.672 501.138,939.215 501.529,941.745 501.919,944.263 \n",
       "  502.309,946.77 502.7,949.264 503.09,951.747 503.48,954.218 503.871,956.677 504.261,959.125 504.651,961.561 505.042,963.985 505.432,966.399 505.822,968.801 \n",
       "  506.213,971.192 506.603,973.571 506.993,975.94 507.384,978.298 507.774,980.645 508.164,982.981 508.555,985.306 508.945,987.621 509.335,989.925 509.726,992.218 \n",
       "  510.116,994.501 510.506,996.774 510.897,999.036 511.287,1001.29 511.677,1003.53 512.068,1005.76 512.458,1007.98 512.848,1010.2 513.239,1012.4 513.629,1014.59 \n",
       "  514.019,1016.77 514.41,1018.94 514.8,1021.11 515.19,1023.26 515.581,1025.4 515.971,1027.54 516.361,1029.66 516.752,1031.78 517.142,1033.89 517.532,1035.98 \n",
       "  517.923,1038.07 518.313,1040.15 518.703,1042.22 519.094,1044.28 519.484,1046.33 519.874,1048.37 520.265,1050.41 520.655,1052.43 521.045,1054.45 521.436,1056.46 \n",
       "  521.826,1058.46 522.216,1060.45 522.607,1062.43 522.997,1064.41 523.387,1066.37 523.778,1068.33 524.168,1070.28 524.558,1072.22 524.949,1074.15 525.339,1076.07 \n",
       "  525.729,1077.99 526.12,1079.9 526.51,1081.8 526.9,1083.69 527.291,1085.57 527.681,1087.45 528.071,1089.32 528.462,1091.18 528.852,1093.03 529.242,1094.87 \n",
       "  529.633,1096.71 530.023,1098.54 530.413,1100.36 530.804,1102.18 531.194,1103.98 531.584,1105.78 531.974,1107.57 532.365,1109.36 532.755,1111.13 533.145,1112.9 \n",
       "  533.536,1114.67 533.926,1116.42 534.316,1118.17 534.707,1119.91 535.097,1121.64 535.487,1123.37 535.878,1125.08 536.268,1126.8 536.658,1128.5 537.049,1130.2 \n",
       "  537.439,1131.89 537.829,1133.57 538.22,1135.25 538.61,1136.92 539,1138.58 539.391,1140.23 539.781,1141.88 540.171,1143.52 540.562,1145.16 540.952,1146.79 \n",
       "  541.342,1148.41 541.733,1150.02 542.123,1151.63 542.513,1153.23 542.904,1154.82 543.294,1156.41 543.684,1157.99 544.075,1159.57 544.465,1161.13 544.855,1162.69 \n",
       "  545.246,1164.25 545.636,1165.8 546.026,1167.34 546.417,1168.87 546.807,1170.4 547.197,1171.92 547.588,1173.44 547.978,1174.95 548.368,1176.45 548.759,1177.95 \n",
       "  549.149,1179.44 549.539,1180.92 549.93,1182.4 550.32,1183.87 550.71,1185.34 551.101,1186.79 551.491,1188.25 551.881,1189.69 552.272,1191.13 552.662,1192.57 \n",
       "  553.052,1193.99 553.443,1195.41 553.833,1196.83 554.223,1198.24 554.614,1199.64 555.004,1201.04 555.394,1202.43 555.785,1203.81 556.175,1205.19 556.565,1206.56 \n",
       "  556.956,1207.93 557.346,1209.29 557.736,1210.64 558.127,1211.99 558.517,1213.33 558.907,1214.67 559.298,1216 559.688,1217.32 560.078,1218.64 560.469,1219.95 \n",
       "  560.859,1221.25 561.249,1222.55 561.64,1223.85 562.03,1225.14 562.42,1226.42 562.811,1227.69 563.201,1228.96 563.591,1230.23 563.982,1231.49 564.372,1232.74 \n",
       "  564.762,1233.99 565.153,1235.23 565.543,1236.46 565.933,1237.69 566.324,1238.91 566.714,1240.13 567.104,1241.34 567.495,1242.55 567.885,1243.75 568.275,1244.94 \n",
       "  568.666,1246.13 569.056,1247.31 569.446,1248.49 569.837,1249.66 570.227,1250.82 570.617,1251.98 571.008,1253.13 571.398,1254.28 571.788,1255.42 572.179,1256.56 \n",
       "  572.569,1257.69 572.959,1258.81 573.35,1259.93 573.74,1261.04 574.13,1262.15 574.521,1263.25 574.911,1264.34 575.301,1265.43 575.692,1266.52 576.082,1267.6 \n",
       "  576.472,1268.67 576.863,1269.73 577.253,1270.79 577.643,1271.85 578.034,1272.9 578.424,1273.94 578.814,1274.98 579.205,1276.01 579.595,1277.04 579.985,1278.06 \n",
       "  580.376,1279.07 580.766,1280.08 581.156,1281.09 581.547,1282.08 581.937,1283.08 582.327,1284.06 582.718,1285.04 583.108,1286.02 583.498,1286.99 583.889,1287.95 \n",
       "  584.279,1288.91 584.669,1289.86 585.06,1290.8 585.45,1291.74 585.84,1292.68 586.231,1293.61 586.621,1294.53 587.011,1295.45 587.402,1296.36 587.792,1297.27 \n",
       "  588.182,1298.17 588.573,1299.06 588.963,1299.95 589.353,1300.83 589.744,1301.71 590.134,1302.58 590.524,1303.45 590.915,1304.31 591.305,1305.16 591.695,1306.01 \n",
       "  592.086,1306.86 592.476,1307.69 592.866,1308.52 593.257,1309.35 593.647,1310.17 594.037,1310.98 594.428,1311.79 594.818,1312.6 595.208,1313.39 595.599,1314.18 \n",
       "  595.989,1314.97 596.379,1315.75 596.77,1316.52 597.16,1317.29 597.55,1318.05 597.941,1318.81 598.331,1319.56 598.721,1320.31 599.112,1321.05 599.502,1321.78 \n",
       "  599.892,1322.51 600.283,1323.23 600.673,1323.95 601.063,1324.66 601.454,1325.36 601.844,1326.06 602.234,1326.75 602.625,1327.44 603.015,1328.12 603.405,1328.8 \n",
       "  603.796,1329.47 604.186,1330.13 604.576,1330.79 604.967,1331.44 605.357,1332.09 605.747,1332.73 606.138,1333.37 606.528,1334 606.918,1334.62 607.309,1335.24 \n",
       "  607.699,1335.85 608.089,1336.46 608.48,1337.06 608.87,1337.65 609.26,1338.24 609.651,1338.82 610.041,1339.4 610.431,1339.97 610.822,1340.53 611.212,1341.09 \n",
       "  611.602,1341.65 611.993,1342.19 612.383,1342.74 612.773,1343.27 613.164,1343.8 613.554,1344.33 613.944,1344.84 614.335,1345.36 614.725,1345.86 615.115,1346.36 \n",
       "  615.506,1346.86 615.896,1347.35 616.286,1347.83 616.677,1348.31 617.067,1348.78 617.457,1349.24 617.848,1349.7 618.238,1350.15 618.628,1350.6 619.019,1351.04 \n",
       "  619.409,1351.48 619.799,1351.91 620.19,1352.33 620.58,1352.75 620.97,1353.16 621.361,1353.56 621.751,1353.96 622.141,1354.36 622.532,1354.74 622.922,1355.13 \n",
       "  623.312,1355.5 623.703,1355.87 624.093,1356.23 624.483,1356.59 624.874,1356.94 625.264,1357.29 625.654,1357.63 626.045,1357.96 626.435,1358.29 626.825,1358.61 \n",
       "  627.216,1358.93 627.606,1359.24 627.996,1359.54 628.387,1359.84 628.777,1360.13 629.167,1360.41 629.558,1360.69 629.948,1360.97 630.338,1361.23 630.729,1361.49 \n",
       "  631.119,1361.75 631.509,1362 631.9,1362.24 632.29,1362.48 632.68,1362.71 633.071,1362.93 633.461,1363.15 633.851,1363.36 634.242,1363.57 634.632,1363.77 \n",
       "  635.022,1363.96 635.413,1364.15 635.803,1364.33 636.193,1364.51 636.584,1364.68 636.974,1364.84 637.364,1365 637.755,1365.15 638.145,1365.3 638.535,1365.43 \n",
       "  638.926,1365.57 639.316,1365.69 639.706,1365.81 640.097,1365.93 640.487,1366.04 640.877,1366.14 641.268,1366.23 641.658,1366.32 642.048,1366.41 642.439,1366.48 \n",
       "  642.829,1366.55 643.219,1366.62 643.61,1366.68 644,1366.73 644.39,1366.78 644.781,1366.82 645.171,1366.85 645.561,1366.88 645.952,1366.9 646.342,1366.91 \n",
       "  646.732,1366.92 647.123,1366.92 647.513,1366.92 647.903,1366.91 648.294,1366.89 648.684,1366.87 649.074,1366.84 649.465,1366.8 649.855,1366.76 650.245,1366.72 \n",
       "  650.636,1366.66 651.026,1366.6 651.416,1366.53 651.807,1366.46 652.197,1366.38 652.587,1366.29 652.978,1366.2 653.368,1366.1 653.758,1366 654.149,1365.89 \n",
       "  654.539,1365.77 654.929,1365.65 655.32,1365.52 655.71,1365.38 656.1,1365.24 656.491,1365.09 656.881,1364.93 657.271,1364.77 657.662,1364.6 658.052,1364.43 \n",
       "  658.442,1364.25 658.833,1364.06 659.223,1363.86 659.613,1363.66 660.004,1363.46 660.394,1363.24 660.784,1363.02 661.175,1362.8 661.565,1362.56 661.955,1362.33 \n",
       "  662.346,1362.08 662.736,1361.83 663.126,1361.57 663.517,1361.3 663.907,1361.03 664.297,1360.75 664.688,1360.47 665.078,1360.18 665.468,1359.88 665.859,1359.58 \n",
       "  666.249,1359.27 666.639,1358.95 667.03,1358.63 667.42,1358.3 667.81,1357.96 668.201,1357.62 668.591,1357.27 668.981,1356.91 669.372,1356.55 669.762,1356.18 \n",
       "  670.152,1355.8 670.543,1355.42 670.933,1355.03 671.323,1354.63 671.714,1354.23 672.104,1353.82 672.494,1353.41 672.885,1352.98 673.275,1352.56 673.665,1352.12 \n",
       "  674.056,1351.68 674.446,1351.23 674.836,1350.77 675.227,1350.31 675.617,1349.84 676.007,1349.37 676.398,1348.88 676.788,1348.4 677.178,1347.9 677.569,1347.4 \n",
       "  677.959,1346.89 678.349,1346.37 678.74,1345.85 679.13,1345.32 679.52,1344.78 679.911,1344.24 680.301,1343.69 680.691,1343.13 681.082,1342.57 681.472,1342 \n",
       "  681.862,1341.42 682.253,1340.84 682.643,1340.25 683.033,1339.65 683.424,1339.05 683.814,1338.44 684.204,1337.82 684.595,1337.19 684.985,1336.56 685.375,1335.92 \n",
       "  685.766,1335.28 686.156,1334.62 686.546,1333.97 686.937,1333.3 687.327,1332.63 687.717,1331.94 688.108,1331.26 688.498,1330.56 688.888,1329.86 689.279,1329.15 \n",
       "  689.669,1328.44 690.059,1327.72 690.45,1326.99 690.84,1326.25 691.23,1325.51 691.621,1324.76 692.011,1324 692.401,1323.23 692.792,1322.46 693.182,1321.68 \n",
       "  693.572,1320.89 693.963,1320.1 694.353,1319.3 694.743,1318.49 695.134,1317.68 695.524,1316.86 695.914,1316.03 696.305,1315.19 696.695,1314.35 697.085,1313.49 \n",
       "  697.476,1312.64 697.866,1311.77 698.256,1310.9 698.647,1310.02 699.037,1309.13 699.427,1308.23 699.818,1307.33 700.208,1306.42 700.598,1305.5 700.989,1304.58 \n",
       "  701.379,1303.64 701.769,1302.71 702.16,1301.76 702.55,1300.8 702.94,1299.84 703.331,1298.87 703.721,1297.89 704.111,1296.91 704.502,1295.92 704.892,1294.92 \n",
       "  705.282,1293.91 705.673,1292.89 706.063,1291.87 706.453,1290.84 706.844,1289.8 707.234,1288.75 707.624,1287.7 708.015,1286.64 708.405,1285.57 708.795,1284.49 \n",
       "  709.186,1283.4 709.576,1282.31 709.966,1281.21 710.357,1280.1 710.747,1278.98 711.137,1277.86 711.528,1276.73 711.918,1275.58 712.308,1274.44 712.699,1273.28 \n",
       "  713.089,1272.11 713.479,1270.94 713.87,1269.76 714.26,1268.57 714.65,1267.37 715.041,1266.17 715.431,1264.95 715.821,1263.73 716.212,1262.5 716.602,1261.26 \n",
       "  716.992,1260.01 717.383,1258.76 717.773,1257.49 718.163,1256.22 718.554,1254.94 718.944,1253.65 719.334,1252.35 719.725,1251.04 720.115,1249.73 720.505,1248.4 \n",
       "  720.896,1247.07 721.286,1245.73 721.676,1244.38 722.067,1243.02 722.457,1241.65 722.847,1240.27 723.238,1238.89 723.628,1237.49 724.018,1236.09 724.409,1234.67 \n",
       "  724.799,1233.25 725.189,1231.82 725.58,1230.38 725.97,1228.93 726.36,1227.47 726.751,1226.01 727.141,1224.53 727.531,1223.04 727.922,1221.55 728.312,1220.04 \n",
       "  728.702,1218.53 729.093,1217 729.483,1215.47 729.873,1213.93 730.264,1212.37 730.654,1210.81 731.044,1209.24 731.435,1207.66 731.825,1206.06 732.215,1204.46 \n",
       "  732.606,1202.85 732.996,1201.23 733.386,1199.6 733.777,1197.95 734.167,1196.3 734.557,1194.64 734.948,1192.97 735.338,1191.28 735.728,1189.59 736.119,1187.88 \n",
       "  736.509,1186.17 736.899,1184.44 737.29,1182.71 737.68,1180.96 738.07,1179.21 738.461,1177.44 738.851,1175.66 739.241,1173.87 739.632,1172.07 740.022,1170.26 \n",
       "  740.412,1168.43 740.803,1166.6 741.193,1164.75 741.583,1162.9 741.974,1161.03 742.364,1159.15 742.754,1157.26 743.145,1155.36 743.535,1153.44 743.925,1151.52 \n",
       "  744.316,1149.58 744.706,1147.63 745.096,1145.67 745.487,1143.69 745.877,1141.71 746.267,1139.71 746.658,1137.7 747.048,1135.68 747.438,1133.64 747.829,1131.59 \n",
       "  748.219,1129.53 748.609,1127.46 749,1125.38 749.39,1123.28 749.78,1121.17 750.171,1119.04 750.561,1116.91 750.951,1114.76 751.342,1112.59 751.732,1110.42 \n",
       "  752.122,1108.23 752.513,1106.02 752.903,1103.8 753.293,1101.57 753.684,1099.33 754.074,1097.07 754.464,1094.8 754.855,1092.51 755.245,1090.21 755.635,1087.9 \n",
       "  756.026,1085.57 756.416,1083.23 756.806,1080.87 757.196,1078.5 757.587,1076.11 757.977,1073.71 758.367,1071.3 758.758,1068.87 759.148,1066.42 759.538,1063.96 \n",
       "  759.929,1061.49 760.319,1059 760.709,1056.49 761.1,1053.97 761.49,1051.44 761.88,1048.89 762.271,1046.32 762.661,1043.74 763.051,1041.15 763.442,1038.53 \n",
       "  763.832,1035.91 764.222,1033.26 764.613,1030.61 765.003,1027.93 765.393,1025.24 765.784,1022.54 766.174,1019.82 766.564,1017.08 766.955,1014.33 767.345,1011.56 \n",
       "  767.735,1008.78 768.126,1005.98 768.516,1003.16 768.906,1000.33 769.297,997.487 769.687,994.626 770.077,991.75 770.468,988.859 770.858,985.952 771.248,983.03 \n",
       "  771.639,980.093 772.029,977.141 772.419,974.174 772.81,971.193 773.2,968.197 773.59,965.187 773.981,962.163 774.371,959.125 774.761,956.073 775.152,953.008 \n",
       "  775.542,949.929 775.932,946.838 776.323,943.733 776.713,940.616 777.103,937.487 777.494,934.345 777.884,931.192 778.274,928.028 778.665,924.853 779.055,921.667 \n",
       "  779.445,918.471 779.836,915.265 780.226,912.05 780.616,908.826 781.007,905.593 781.397,902.352 781.787,899.103 782.178,895.847 782.568,892.584 782.958,889.315 \n",
       "  783.349,886.04 783.739,882.759 784.129,879.474 784.52,876.185 784.91,872.892 785.3,869.595 785.691,866.296 786.081,862.995 786.471,859.692 786.862,856.388 \n",
       "  787.252,853.084 787.642,849.779 788.033,846.475 788.423,843.172 788.813,839.87 789.204,836.571 789.594,833.274 789.984,829.98 790.375,826.69 790.765,823.404 \n",
       "  791.155,820.122 791.546,816.846 791.936,813.575 792.326,810.31 792.717,807.051 793.107,803.8 793.497,800.555 793.888,797.319 794.278,794.09 794.668,790.87 \n",
       "  795.059,787.659 795.449,784.456 795.839,781.264 796.23,778.081 796.62,774.908 797.01,771.746 797.401,768.595 797.791,765.454 798.181,762.325 798.572,759.207 \n",
       "  798.962,756.101 799.352,753.006 799.743,749.924 800.133,746.854 800.523,743.797 800.914,740.752 801.304,737.72 801.694,734.7 802.085,731.694 802.475,728.701 \n",
       "  802.865,725.721 803.256,722.754 803.646,719.801 804.036,716.861 804.427,713.935 804.817,711.023 805.207,708.124 805.598,705.238 805.988,702.366 806.378,699.508 \n",
       "  806.769,696.664 807.159,693.834 807.549,691.017 807.94,688.214 808.33,685.424 808.72,682.649 809.111,679.887 809.501,677.138 809.891,674.403 810.282,671.682 \n",
       "  810.672,668.975 811.062,666.281 811.453,663.6 811.843,660.933 812.233,658.279 812.624,655.638 813.014,653.011 813.404,650.397 813.795,647.796 814.185,645.208 \n",
       "  814.575,642.633 814.966,640.07 815.356,637.521 815.746,634.985 816.137,632.461 816.527,629.95 816.917,627.451 817.308,624.965 817.698,622.491 818.088,620.03 \n",
       "  818.479,617.58 818.869,615.143 819.259,612.718 819.65,610.305 820.04,607.904 820.43,605.515 820.821,603.138 821.211,600.772 821.601,598.418 821.992,596.075 \n",
       "  822.382,593.744 822.772,591.424 823.163,589.115 823.553,586.818 823.943,584.531 824.334,582.256 824.724,579.992 825.114,577.738 825.505,575.496 825.895,573.264 \n",
       "  826.285,571.042 826.676,568.832 827.066,566.631 827.456,564.441 827.847,562.262 828.237,560.093 828.627,557.934 829.018,555.785 829.408,553.646 829.798,551.517 \n",
       "  830.189,549.398 830.579,547.288 830.969,545.189 831.36,543.099 831.75,541.019 832.14,538.948 832.531,536.887 832.921,534.835 833.311,532.793 833.702,530.76 \n",
       "  834.092,528.736 834.482,526.721 834.873,524.715 835.263,522.718 835.653,520.731 836.044,518.752 836.434,516.782 836.824,514.821 837.215,512.868 837.605,510.924 \n",
       "  837.995,508.989 838.386,507.063 838.776,505.144 839.166,503.235 839.557,501.333 839.947,499.44 840.337,497.556 840.728,495.679 841.118,493.811 841.508,491.95 \n",
       "  841.899,490.098 842.289,488.254 842.679,486.418 843.07,484.59 843.46,482.769 843.85,480.957 844.241,479.152 844.631,477.355 845.021,475.565 845.412,473.783 \n",
       "  845.802,472.009 846.192,470.243 846.583,468.483 846.973,466.732 847.363,464.987 847.754,463.251 848.144,461.521 848.534,459.799 848.925,458.084 849.315,456.376 \n",
       "  849.705,454.675 850.096,452.982 850.486,451.295 850.876,449.616 851.267,447.944 851.657,446.278 852.047,444.62 852.438,442.968 852.828,441.324 853.218,439.686 \n",
       "  853.609,438.055 853.999,436.431 854.389,434.814 854.78,433.203 855.17,431.599 855.56,430.001 855.951,428.411 856.341,426.827 856.731,425.249 857.122,423.678 \n",
       "  857.512,422.113 857.902,420.555 858.293,419.003 858.683,417.458 859.073,415.919 859.464,414.387 859.854,412.86 860.244,411.341 860.635,409.827 861.025,408.32 \n",
       "  861.415,406.818 861.806,405.323 862.196,403.835 862.586,402.352 862.977,400.875 863.367,399.405 863.757,397.941 864.148,396.482 864.538,395.03 864.928,393.584 \n",
       "  865.319,392.144 865.709,390.709 866.099,389.281 866.49,387.859 866.88,386.442 867.27,385.032 867.661,383.627 868.051,382.228 868.441,380.835 868.832,379.448 \n",
       "  869.222,378.066 869.612,376.691 870.003,375.321 870.393,373.957 870.783,372.598 871.174,371.245 871.564,369.898 871.954,368.557 872.345,367.221 872.735,365.891 \n",
       "  873.125,364.566 873.516,363.247 873.906,361.934 874.296,360.626 874.687,359.324 875.077,358.028 875.467,356.737 875.858,355.451 876.248,354.171 876.638,352.896 \n",
       "  877.029,351.627 877.419,350.364 877.809,349.105 878.2,347.853 878.59,346.605 878.98,345.363 879.371,344.127 879.761,342.896 880.151,341.67 880.542,340.45 \n",
       "  880.932,339.235 881.322,338.025 881.713,336.821 882.103,335.622 882.493,334.428 882.884,333.239 883.274,332.056 883.664,330.879 884.055,329.706 884.445,328.539 \n",
       "  884.835,327.377 885.226,326.22 885.616,325.069 886.006,323.922 886.397,322.781 886.787,321.645 887.177,320.515 887.568,319.389 887.958,318.269 888.348,317.154 \n",
       "  888.739,316.044 889.129,314.94 889.519,313.84 889.91,312.746 890.3,311.656 890.69,310.572 891.081,309.493 891.471,308.42 891.861,307.351 892.252,306.287 \n",
       "  892.642,305.229 893.032,304.176 893.423,303.127 893.813,302.084 894.203,301.046 894.594,300.013 894.984,298.985 895.374,297.963 895.765,296.945 896.155,295.932 \n",
       "  896.545,294.925 896.936,293.922 897.326,292.925 897.716,291.932 898.107,290.945 898.497,289.963 898.887,288.986 899.278,288.013 899.668,287.046 900.058,286.084 \n",
       "  900.449,285.127 900.839,284.175 901.229,283.228 901.62,282.286 902.01,281.349 902.4,280.417 902.791,279.49 903.181,278.568 903.571,277.651 903.962,276.739 \n",
       "  904.352,275.832 904.742,274.931 905.133,274.034 905.523,273.142 905.913,272.255 906.304,271.373 906.694,270.496 907.084,269.624 907.475,268.757 907.865,267.895 \n",
       "  908.255,267.038 908.646,266.187 909.036,265.34 909.426,264.498 909.817,263.661 910.207,262.829 910.597,262.002 910.988,261.18 911.378,260.363 911.768,259.551 \n",
       "  912.159,258.744 912.549,257.942 912.939,257.145 913.33,256.353 913.72,255.566 914.11,254.784 914.501,254.007 914.891,253.235 915.281,252.468 915.672,251.706 \n",
       "  916.062,250.949 916.452,250.197 916.843,249.449 917.233,248.707 917.623,247.97 918.014,247.238 918.404,246.511 918.794,245.789 919.185,245.072 919.575,244.36 \n",
       "  919.965,243.653 920.356,242.951 920.746,242.254 921.136,241.561 921.527,240.874 921.917,240.192 922.307,239.515 922.698,238.843 923.088,238.176 923.478,237.514 \n",
       "  923.869,236.857 924.259,236.205 924.649,235.558 925.04,234.917 925.43,234.28 925.82,233.648 926.211,233.021 926.601,232.399 926.991,231.782 927.382,231.171 \n",
       "  927.772,230.564 928.162,229.962 928.553,229.366 928.943,228.774 929.333,228.188 929.724,227.606 930.114,227.03 930.504,226.459 930.895,225.893 931.285,225.331 \n",
       "  931.675,224.775 932.066,224.224 932.456,223.678 932.846,223.137 933.237,222.601 933.627,222.071 934.017,221.545 934.408,221.024 934.798,220.509 935.188,219.998 \n",
       "  935.579,219.493 935.969,218.993 936.359,218.498 936.75,218.008 937.14,217.523 937.53,217.043 937.921,216.568 938.311,216.099 938.701,215.634 939.092,215.175 \n",
       "  939.482,214.721 939.872,214.272 940.263,213.828 940.653,213.389 941.043,212.955 941.434,212.527 941.824,212.103 942.214,211.685 942.605,211.272 942.995,210.864 \n",
       "  943.385,210.461 943.776,210.064 944.166,209.671 944.556,209.284 944.947,208.902 945.337,208.525 945.727,208.153 946.118,207.787 946.508,207.425 946.898,207.069 \n",
       "  947.289,206.718 947.679,206.372 948.069,206.032 948.46,205.696 948.85,205.366 949.24,205.041 949.631,204.722 950.021,204.407 950.411,204.098 950.802,203.794 \n",
       "  951.192,203.495 951.582,203.201 951.973,202.913 952.363,202.63 952.753,202.352 953.144,202.08 953.534,201.812 953.924,201.55 954.315,201.293 954.705,201.042 \n",
       "  955.095,200.795 955.486,200.554 955.876,200.319 956.266,200.088 956.657,199.863 957.047,199.643 957.437,199.429 957.828,199.219 958.218,199.015 958.608,198.817 \n",
       "  958.999,198.623 959.389,198.435 959.779,198.253 960.17,198.075 960.56,197.903 960.95,197.736 961.341,197.575 961.731,197.419 962.121,197.268 962.512,197.123 \n",
       "  962.902,196.983 963.292,196.848 963.683,196.719 964.073,196.595 964.463,196.476 964.854,196.363 965.244,196.255 965.634,196.153 966.025,196.056 966.415,195.964 \n",
       "  966.805,195.878 967.196,195.797 967.586,195.722 967.976,195.652 968.367,195.587 968.757,195.528 969.147,195.474 969.538,195.426 969.928,195.383 970.318,195.345 \n",
       "  970.709,195.313 971.099,195.286 971.489,195.265 971.88,195.249 972.27,195.239 972.66,195.234 973.051,195.235 973.441,195.241 973.831,195.252 974.222,195.269 \n",
       "  974.612,195.292 975.002,195.32 975.393,195.353 975.783,195.392 976.173,195.437 976.564,195.487 976.954,195.542 977.344,195.603 977.735,195.67 978.125,195.742 \n",
       "  978.515,195.819 978.906,195.902 979.296,195.991 979.686,196.085 980.077,196.185 980.467,196.29 980.857,196.401 981.247,196.517 981.638,196.639 982.028,196.767 \n",
       "  982.418,196.9 982.809,197.038 983.199,197.183 983.589,197.332 983.98,197.488 984.37,197.649 984.76,197.815 985.151,197.987 985.541,198.165 985.931,198.349 \n",
       "  986.322,198.538 986.712,198.732 987.102,198.933 987.493,199.139 987.883,199.35 988.273,199.567 988.664,199.79 989.054,200.019 989.444,200.253 989.835,200.493 \n",
       "  990.225,200.738 990.615,200.989 991.006,201.246 991.396,201.509 991.786,201.777 992.177,202.051 992.567,202.331 992.957,202.616 993.348,202.907 993.738,203.204 \n",
       "  994.128,203.506 994.519,203.815 994.909,204.129 995.299,204.448 995.69,204.774 996.08,205.105 996.47,205.442 996.861,205.785 997.251,206.133 997.641,206.487 \n",
       "  998.032,206.848 998.422,207.213 998.812,207.585 999.203,207.963 999.593,208.346 999.983,208.735 1000.37,209.13 1000.76,209.53 1001.15,209.937 1001.54,210.349 \n",
       "  1001.94,210.768 1002.33,211.192 1002.72,211.622 1003.11,212.058 1003.5,212.499 1003.89,212.947 1004.28,213.4 1004.67,213.86 1005.06,214.325 1005.45,214.796 \n",
       "  1005.84,215.273 1006.23,215.756 1006.62,216.245 1007.01,216.74 1007.4,217.241 1007.79,217.748 1008.18,218.26 1008.57,218.779 1008.96,219.304 1009.35,219.834 \n",
       "  1009.74,220.371 1010.13,220.913 1010.52,221.462 1010.91,222.017 1011.3,222.577 1011.69,223.144 1012.08,223.717 1012.47,224.296 1012.86,224.881 1013.25,225.471 \n",
       "  1013.65,226.068 1014.04,226.671 1014.43,227.281 1014.82,227.896 1015.21,228.517 1015.6,229.145 1015.99,229.778 1016.38,230.418 1016.77,231.064 1017.16,231.716 \n",
       "  1017.55,232.374 1017.94,233.039 1018.33,233.709 1018.72,234.386 1019.11,235.069 1019.5,235.758 1019.89,236.454 1020.28,237.155 1020.67,237.863 1021.06,238.577 \n",
       "  1021.45,239.298 1021.84,240.025 1022.23,240.758 1022.62,241.497 1023.01,242.243 1023.4,242.994 1023.79,243.753 1024.18,244.517 1024.57,245.288 1024.96,246.066 \n",
       "  1025.36,246.85 1025.75,247.64 1026.14,248.436 1026.53,249.24 1026.92,250.049 1027.31,250.865 1027.7,251.687 1028.09,252.516 1028.48,253.352 1028.87,254.193 \n",
       "  1029.26,255.042 1029.65,255.897 1030.04,256.758 1030.43,257.626 1030.82,258.501 1031.21,259.382 1031.6,260.27 1031.99,261.164 1032.38,262.066 1032.77,262.973 \n",
       "  1033.16,263.888 1033.55,264.809 1033.94,265.737 1034.33,266.671 1034.72,267.612 1035.11,268.561 1035.5,269.515 1035.89,270.477 1036.28,271.445 1036.67,272.421 \n",
       "  1037.07,273.403 1037.46,274.392 1037.85,275.387 1038.24,276.39 1038.63,277.4 1039.02,278.416 1039.41,279.44 1039.8,280.471 1040.19,281.508 1040.58,282.553 \n",
       "  1040.97,283.604 1041.36,284.663 1041.75,285.729 1042.14,286.801 1042.53,287.881 1042.92,288.968 1043.31,290.063 1043.7,291.164 1044.09,292.273 1044.48,293.389 \n",
       "  1044.87,294.512 1045.26,295.643 1045.65,296.78 1046.04,297.925 1046.43,299.078 1046.82,300.238 1047.21,301.405 1047.6,302.58 1047.99,303.762 1048.38,304.952 \n",
       "  1048.78,306.149 1049.17,307.354 1049.56,308.566 1049.95,309.786 1050.34,311.014 1050.73,312.249 1051.12,313.492 1051.51,314.742 1051.9,316.001 1052.29,317.267 \n",
       "  1052.68,318.541 1053.07,319.823 1053.46,321.112 1053.85,322.41 1054.24,323.715 1054.63,325.029 1055.02,326.351 1055.41,327.68 1055.8,329.018 1056.19,330.363 \n",
       "  1056.58,331.717 1056.97,333.079 1057.36,334.45 1057.75,335.828 1058.14,337.215 1058.53,338.61 1058.92,340.014 1059.31,341.426 1059.7,342.846 1060.09,344.275 \n",
       "  1060.49,345.712 1060.88,347.158 1061.27,348.613 1061.66,350.076 1062.05,351.548 1062.44,353.029 1062.83,354.518 1063.22,356.016 1063.61,357.523 1064,359.039 \n",
       "  1064.39,360.564 1064.78,362.099 1065.17,363.642 1065.56,365.194 1065.95,366.755 1066.34,368.326 1066.73,369.906 1067.12,371.495 1067.51,373.093 1067.9,374.701 \n",
       "  1068.29,376.318 1068.68,377.945 1069.07,379.582 1069.46,381.228 1069.85,382.883 1070.24,384.549 1070.63,386.224 1071.02,387.909 1071.41,389.604 1071.8,391.309 \n",
       "  1072.2,393.024 1072.59,394.75 1072.98,396.485 1073.37,398.23 1073.76,399.986 1074.15,401.752 1074.54,403.529 1074.93,405.316 1075.32,407.113 1075.71,408.922 \n",
       "  1076.1,410.74 1076.49,412.57 1076.88,414.41 1077.27,416.262 1077.66,418.124 1078.05,419.997 1078.44,421.881 1078.83,423.777 1079.22,425.684 1079.61,427.602 \n",
       "  1080,429.531 1080.39,431.472 1080.78,433.425 1081.17,435.389 1081.56,437.365 1081.95,439.352 1082.34,441.352 1082.73,443.363 1083.12,445.387 1083.51,447.422 \n",
       "  1083.91,449.47 1084.3,451.53 1084.69,453.603 1085.08,455.688 1085.47,457.785 1085.86,459.895 1086.25,462.018 1086.64,464.153 1087.03,466.302 1087.42,468.463 \n",
       "  1087.81,470.638 1088.2,472.825 1088.59,475.026 1088.98,477.24 1089.37,479.468 1089.76,481.709 1090.15,483.964 1090.54,486.232 1090.93,488.514 1091.32,490.81 \n",
       "  1091.71,493.12 1092.1,495.444 1092.49,497.782 1092.88,500.135 1093.27,502.501 1093.66,504.882 1094.05,507.278 1094.44,509.688 1094.83,512.113 1095.22,514.552 \n",
       "  1095.61,517.006 1096.01,519.475 1096.4,521.959 1096.79,524.459 1097.18,526.973 1097.57,529.502 1097.96,532.047 1098.35,534.607 1098.74,537.182 1099.13,539.773 \n",
       "  1099.52,542.379 1099.91,545 1100.3,547.638 1100.69,550.291 1101.08,552.959 1101.47,555.644 1101.86,558.344 1102.25,561.059 1102.64,563.791 1103.03,566.538 \n",
       "  1103.42,569.301 1103.81,572.08 1104.2,574.874 1104.59,577.685 1104.98,580.511 1105.37,583.352 1105.76,586.209 1106.15,589.082 1106.54,591.971 1106.93,594.874 \n",
       "  1107.32,597.793 1107.72,600.728 1108.11,603.677 1108.5,606.642 1108.89,609.621 1109.28,612.615 1109.67,615.624 1110.06,618.647 1110.45,621.685 1110.84,624.736 \n",
       "  1111.23,627.801 1111.62,630.88 1112.01,633.972 1112.4,637.077 1112.79,640.195 1113.18,643.325 1113.57,646.468 1113.96,649.622 1114.35,652.788 1114.74,655.965 \n",
       "  1115.13,659.152 1115.52,662.351 1115.91,665.559 1116.3,668.776 1116.69,672.003 1117.08,675.238 1117.47,678.482 1117.86,681.733 1118.25,684.992 1118.64,688.257 \n",
       "  1119.03,691.528 1119.43,694.805 1119.82,698.087 1120.21,701.374 1120.6,704.665 1120.99,707.959 1121.38,711.256 1121.77,714.555 1122.16,717.856 1122.55,721.158 \n",
       "  1122.94,724.461 1123.33,727.764 1123.72,731.066 1124.11,734.367 1124.5,737.666 1124.89,740.962 1125.28,744.256 1125.67,747.546 1126.06,750.832 1126.45,754.114 \n",
       "  1126.84,757.391 1127.23,760.661 1127.62,763.926 1128.01,767.184 1128.4,770.434 1128.79,773.677 1129.18,776.912 1129.57,780.138 1129.96,783.356 1130.35,786.563 \n",
       "  1130.74,789.761 1131.14,792.949 1131.53,796.126 1131.92,799.291 1132.31,802.446 1132.7,805.589 1133.09,808.72 1133.48,811.838 1133.87,814.944 1134.26,818.037 \n",
       "  1134.65,821.117 1135.04,824.184 1135.43,827.237 1135.82,830.276 1136.21,833.301 1136.6,836.313 1136.99,839.31 1137.38,842.292 1137.77,845.26 1138.16,848.213 \n",
       "  1138.55,851.152 1138.94,854.075 1139.33,856.984 1139.72,859.877 1140.11,862.756 1140.5,865.619 1140.89,868.467 1141.28,871.299 1141.67,874.117 1142.06,876.919 \n",
       "  1142.45,879.705 1142.85,882.477 1143.24,885.232 1143.63,887.973 1144.02,890.698 1144.41,893.408 1144.8,896.103 1145.19,898.782 1145.58,901.447 1145.97,904.096 \n",
       "  1146.36,906.73 1146.75,909.348 1147.14,911.952 1147.53,914.541 1147.92,917.115 1148.31,919.674 1148.7,922.219 1149.09,924.748 1149.48,927.263 1149.87,929.764 \n",
       "  1150.26,932.25 1150.65,934.721 1151.04,937.178 1151.43,939.621 1151.82,942.05 1152.21,944.465 1152.6,946.866 1152.99,949.253 1153.38,951.626 1153.77,953.985 \n",
       "  1154.16,956.331 1154.56,958.663 1154.95,960.981 1155.34,963.287 1155.73,965.579 1156.12,967.857 1156.51,970.123 1156.9,972.375 1157.29,974.615 1157.68,976.842 \n",
       "  1158.07,979.056 1158.46,981.257 1158.85,983.446 1159.24,985.623 1159.63,987.786 1160.02,989.938 1160.41,992.077 1160.8,994.205 1161.19,996.32 1161.58,998.423 \n",
       "  1161.97,1000.51 1162.36,1002.59 1162.75,1004.66 1163.14,1006.72 1163.53,1008.76 1163.92,1010.8 1164.31,1012.82 1164.7,1014.83 1165.09,1016.83 1165.48,1018.81 \n",
       "  1165.87,1020.79 1166.27,1022.76 1166.66,1024.71 1167.05,1026.66 1167.44,1028.59 1167.83,1030.51 1168.22,1032.42 1168.61,1034.33 1169,1036.22 1169.39,1038.1 \n",
       "  1169.78,1039.97 1170.17,1041.83 1170.56,1043.68 1170.95,1045.52 1171.34,1047.35 1171.73,1049.17 1172.12,1050.98 1172.51,1052.77 1172.9,1054.56 1173.29,1056.34 \n",
       "  1173.68,1058.12 1174.07,1059.88 1174.46,1061.63 1174.85,1063.37 1175.24,1065.1 1175.63,1066.82 1176.02,1068.54 1176.41,1070.24 1176.8,1071.94 1177.19,1073.62 \n",
       "  1177.58,1075.3 1177.98,1076.97 1178.37,1078.63 1178.76,1080.27 1179.15,1081.92 1179.54,1083.55 1179.93,1085.17 1180.32,1086.79 1180.71,1088.39 1181.1,1089.99 \n",
       "  1181.49,1091.58 1181.88,1093.16 1182.27,1094.73 1182.66,1096.29 1183.05,1097.84 1183.44,1099.39 1183.83,1100.93 1184.22,1102.46 1184.61,1103.98 1185,1105.49 \n",
       "  1185.39,1107 1185.78,1108.49 1186.17,1109.98 1186.56,1111.46 1186.95,1112.94 1187.34,1114.4 1187.73,1115.86 1188.12,1117.31 1188.51,1118.75 1188.9,1120.18 \n",
       "  1189.29,1121.61 1189.69,1123.02 1190.08,1124.43 1190.47,1125.84 1190.86,1127.23 1191.25,1128.62 1191.64,1130 1192.03,1131.37 1192.42,1132.73 1192.81,1134.09 \n",
       "  1193.2,1135.44 1193.59,1136.78 1193.98,1138.12 1194.37,1139.45 1194.76,1140.77 1195.15,1142.08 1195.54,1143.39 1195.93,1144.68 1196.32,1145.98 1196.71,1147.26 \n",
       "  1197.1,1148.54 1197.49,1149.81 1197.88,1151.07 1198.27,1152.33 1198.66,1153.58 1199.05,1154.82 1199.44,1156.05 1199.83,1157.28 1200.22,1158.5 1200.61,1159.72 \n",
       "  1201,1160.92 1201.4,1162.12 1201.79,1163.32 1202.18,1164.5 1202.57,1165.68 1202.96,1166.86 1203.35,1168.02 1203.74,1169.18 1204.13,1170.34 1204.52,1171.48 \n",
       "  1204.91,1172.62 1205.3,1173.76 1205.69,1174.88 1206.08,1176.01 1206.47,1177.12 1206.86,1178.23 1207.25,1179.33 1207.64,1180.42 1208.03,1181.51 1208.42,1182.59 \n",
       "  1208.81,1183.66 1209.2,1184.73 1209.59,1185.79 1209.98,1186.85 1210.37,1187.9 1210.76,1188.94 1211.15,1189.98 1211.54,1191.01 1211.93,1192.03 1212.32,1193.05 \n",
       "  1212.71,1194.06 1213.11,1195.07 1213.5,1196.06 1213.89,1197.06 1214.28,1198.04 1214.67,1199.02 1215.06,1200 1215.45,1200.97 1215.84,1201.93 1216.23,1202.88 \n",
       "  1216.62,1203.83 1217.01,1204.78 1217.4,1205.71 1217.79,1206.64 1218.18,1207.57 1218.57,1208.49 1218.96,1209.4 1219.35,1210.31 1219.74,1211.21 1220.13,1212.1 \n",
       "  1220.52,1212.99 1220.91,1213.88 1221.3,1214.75 1221.69,1215.63 1222.08,1216.49 1222.47,1217.35 1222.86,1218.2 1223.25,1219.05 1223.64,1219.89 1224.03,1220.73 \n",
       "  1224.42,1221.56 1224.82,1222.38 1225.21,1223.2 1225.6,1224.01 1225.99,1224.82 1226.38,1225.62 1226.77,1226.41 1227.16,1227.2 1227.55,1227.99 1227.94,1228.76 \n",
       "  1228.33,1229.54 1228.72,1230.3 1229.11,1231.06 1229.5,1231.82 1229.89,1232.57 1230.28,1233.31 1230.67,1234.05 1231.06,1234.78 1231.45,1235.5 1231.84,1236.22 \n",
       "  1232.23,1236.94 1232.62,1237.65 1233.01,1238.35 1233.4,1239.05 1233.79,1239.74 1234.18,1240.43 1234.57,1241.11 1234.96,1241.78 1235.35,1242.45 1235.74,1243.11 \n",
       "  1236.13,1243.77 1236.53,1244.42 1236.92,1245.07 1237.31,1245.71 1237.7,1246.35 1238.09,1246.98 1238.48,1247.6 1238.87,1248.22 1239.26,1248.84 1239.65,1249.44 \n",
       "  1240.04,1250.05 1240.43,1250.64 1240.82,1251.24 1241.21,1251.82 1241.6,1252.4 1241.99,1252.98 1242.38,1253.55 1242.77,1254.11 1243.16,1254.67 1243.55,1255.22 \n",
       "  1243.94,1255.77 1244.33,1256.31 1244.72,1256.85 1245.11,1257.38 1245.5,1257.9 1245.89,1258.42 1246.28,1258.94 1246.67,1259.45 1247.06,1259.95 1247.45,1260.45 \n",
       "  1247.84,1260.94 1248.24,1261.43 1248.63,1261.91 1249.02,1262.39 1249.41,1262.86 1249.8,1263.33 1250.19,1263.79 1250.58,1264.24 1250.97,1264.69 1251.36,1265.14 \n",
       "  1251.75,1265.58 1252.14,1266.01 1252.53,1266.44 1252.92,1266.86 1253.31,1267.28 1253.7,1267.69 1254.09,1268.1 1254.48,1268.5 1254.87,1268.9 1255.26,1269.29 \n",
       "  1255.65,1269.67 1256.04,1270.05 1256.43,1270.43 1256.82,1270.8 1257.21,1271.16 1257.6,1271.52 1257.99,1271.87 1258.38,1272.22 1258.77,1272.56 1259.16,1272.9 \n",
       "  1259.55,1273.23 1259.95,1273.56 1260.34,1273.88 1260.73,1274.2 1261.12,1274.51 1261.51,1274.82 1261.9,1275.12 1262.29,1275.41 1262.68,1275.7 1263.07,1275.99 \n",
       "  1263.46,1276.27 1263.85,1276.54 1264.24,1276.81 1264.63,1277.07 1265.02,1277.33 1265.41,1277.59 1265.8,1277.83 1266.19,1278.08 1266.58,1278.32 1266.97,1278.55 \n",
       "  1267.36,1278.77 1267.75,1279 1268.14,1279.21 1268.53,1279.42 1268.92,1279.63 1269.31,1279.83 1269.7,1280.03 1270.09,1280.22 1270.48,1280.4 1270.87,1280.58 \n",
       "  1271.26,1280.76 1271.66,1280.93 1272.05,1281.09 1272.44,1281.25 1272.83,1281.41 1273.22,1281.55 1273.61,1281.7 1274,1281.84 1274.39,1281.97 1274.78,1282.1 \n",
       "  1275.17,1282.22 1275.56,1282.34 1275.95,1282.45 1276.34,1282.56 1276.73,1282.66 1277.12,1282.76 1277.51,1282.85 1277.9,1282.94 1278.29,1283.02 1278.68,1283.1 \n",
       "  1279.07,1283.17 1279.46,1283.23 1279.85,1283.29 1280.24,1283.35 1280.63,1283.4 1281.02,1283.45 1281.41,1283.49 1281.8,1283.52 1282.19,1283.55 1282.58,1283.58 \n",
       "  1282.97,1283.6 1283.37,1283.61 1283.76,1283.62 1284.15,1283.63 1284.54,1283.63 1284.93,1283.62 1285.32,1283.61 1285.71,1283.59 1286.1,1283.57 1286.49,1283.55 \n",
       "  1286.88,1283.52 1287.27,1283.48 1287.66,1283.44 1288.05,1283.39 1288.44,1283.34 1288.83,1283.28 1289.22,1283.22 1289.61,1283.16 1290,1283.08 1290.39,1283.01 \n",
       "  1290.78,1282.92 1291.17,1282.84 1291.56,1282.75 1291.95,1282.65 1292.34,1282.55 1292.73,1282.44 1293.12,1282.33 1293.51,1282.21 1293.9,1282.08 1294.29,1281.96 \n",
       "  1294.68,1281.82 1295.08,1281.69 1295.47,1281.54 1295.86,1281.4 1296.25,1281.24 1296.64,1281.08 1297.03,1280.92 1297.42,1280.75 1297.81,1280.58 1298.2,1280.4 \n",
       "  1298.59,1280.22 1298.98,1280.03 1299.37,1279.84 1299.76,1279.64 1300.15,1279.43 1300.54,1279.22 1300.93,1279.01 1301.32,1278.79 1301.71,1278.57 1302.1,1278.34 \n",
       "  1302.49,1278.11 1302.88,1277.87 1303.27,1277.62 1303.66,1277.37 1304.05,1277.12 1304.44,1276.86 1304.83,1276.6 1305.22,1276.33 1305.61,1276.06 1306,1275.78 \n",
       "  1306.39,1275.49 1306.79,1275.2 1307.18,1274.91 1307.57,1274.61 1307.96,1274.31 1308.35,1274 1308.74,1273.68 1309.13,1273.36 1309.52,1273.04 1309.91,1272.71 \n",
       "  1310.3,1272.38 1310.69,1272.04 1311.08,1271.69 1311.47,1271.35 1311.86,1270.99 1312.25,1270.63 1312.64,1270.27 1313.03,1269.9 1313.42,1269.53 1313.81,1269.15 \n",
       "  1314.2,1268.76 1314.59,1268.37 1314.98,1267.98 1315.37,1267.58 1315.76,1267.18 1316.15,1266.77 1316.54,1266.36 1316.93,1265.94 1317.32,1265.51 1317.71,1265.08 \n",
       "  1318.1,1264.65 1318.49,1264.21 1318.89,1263.77 1319.28,1263.32 1319.67,1262.87 1320.06,1262.41 1320.45,1261.94 1320.84,1261.48 1321.23,1261 1321.62,1260.52 \n",
       "  1322.01,1260.04 1322.4,1259.55 1322.79,1259.06 1323.18,1258.56 1323.57,1258.06 1323.96,1257.55 1324.35,1257.04 1324.74,1256.52 1325.13,1255.99 1325.52,1255.47 \n",
       "  1325.91,1254.93 1326.3,1254.39 1326.69,1253.85 1327.08,1253.3 1327.47,1252.75 1327.86,1252.19 1328.25,1251.63 1328.64,1251.06 1329.03,1250.49 1329.42,1249.91 \n",
       "  1329.81,1249.33 1330.2,1248.74 1330.6,1248.15 1330.99,1247.55 1331.38,1246.95 1331.77,1246.34 1332.16,1245.73 1332.55,1245.11 1332.94,1244.49 1333.33,1243.86 \n",
       "  1333.72,1243.23 1334.11,1242.59 1334.5,1241.95 1334.89,1241.3 1335.28,1240.65 1335.67,1239.99 1336.06,1239.33 1336.45,1238.66 1336.84,1237.99 1337.23,1237.31 \n",
       "  1337.62,1236.63 1338.01,1235.94 1338.4,1235.25 1338.79,1234.55 1339.18,1233.85 1339.57,1233.15 1339.96,1232.43 1340.35,1231.72 1340.74,1230.99 1341.13,1230.27 \n",
       "  1341.52,1229.53 1341.91,1228.8 1342.31,1228.06 1342.7,1227.31 1343.09,1226.56 1343.48,1225.8 1343.87,1225.04 1344.26,1224.27 1344.65,1223.5 1345.04,1222.72 \n",
       "  1345.43,1221.94 1345.82,1221.15 1346.21,1220.36 1346.6,1219.56 1346.99,1218.76 1347.38,1217.95 1347.77,1217.14 1348.16,1216.32 1348.55,1215.5 1348.94,1214.67 \n",
       "  1349.33,1213.84 1349.72,1213 1350.11,1212.16 1350.5,1211.31 1350.89,1210.46 1351.28,1209.6 1351.67,1208.73 1352.06,1207.87 1352.45,1206.99 1352.84,1206.11 \n",
       "  1353.23,1205.23 1353.62,1204.34 1354.02,1203.45 1354.41,1202.55 1354.8,1201.64 1355.19,1200.73 1355.58,1199.82 1355.97,1198.9 1356.36,1197.98 1356.75,1197.05 \n",
       "  1357.14,1196.11 1357.53,1195.17 1357.92,1194.22 1358.31,1193.27 1358.7,1192.32 1359.09,1191.36 1359.48,1190.39 1359.87,1189.42 1360.26,1188.44 1360.65,1187.46 \n",
       "  1361.04,1186.47 1361.43,1185.48 1361.82,1184.48 1362.21,1183.48 1362.6,1182.47 1362.99,1181.46 1363.38,1180.44 1363.77,1179.42 1364.16,1178.39 1364.55,1177.35 \n",
       "  1364.94,1176.31 1365.33,1175.27 1365.73,1174.22 1366.12,1173.16 1366.51,1172.1 1366.9,1171.03 1367.29,1169.96 1367.68,1168.88 1368.07,1167.8 1368.46,1166.71 \n",
       "  1368.85,1165.62 1369.24,1164.52 1369.63,1163.41 1370.02,1162.3 1370.41,1161.19 1370.8,1160.07 1371.19,1158.94 1371.58,1157.81 1371.97,1156.67 1372.36,1155.53 \n",
       "  1372.75,1154.38 1373.14,1153.22 1373.53,1152.06 1373.92,1150.9 1374.31,1149.73 1374.7,1148.55 1375.09,1147.37 1375.48,1146.18 1375.87,1144.99 1376.26,1143.79 \n",
       "  1376.65,1142.58 1377.04,1141.37 1377.44,1140.16 1377.83,1138.93 1378.22,1137.71 1378.61,1136.47 1379,1135.23 1379.39,1133.99 1379.78,1132.74 1380.17,1131.48 \n",
       "  1380.56,1130.22 1380.95,1128.95 1381.34,1127.67 1381.73,1126.39 1382.12,1125.11 1382.51,1123.81 1382.9,1122.52 1383.29,1121.21 1383.68,1119.9 1384.07,1118.58 \n",
       "  1384.46,1117.26 1384.85,1115.93 1385.24,1114.6 1385.63,1113.26 1386.02,1111.91 1386.41,1110.56 1386.8,1109.2 1387.19,1107.83 1387.58,1106.46 1387.97,1105.08 \n",
       "  1388.36,1103.7 1388.75,1102.31 1389.15,1100.91 1389.54,1099.51 1389.93,1098.1 1390.32,1096.68 1390.71,1095.26 1391.1,1093.83 1391.49,1092.4 1391.88,1090.96 \n",
       "  1392.27,1089.51 1392.66,1088.05 1393.05,1086.59 1393.44,1085.12 1393.83,1083.65 1394.22,1082.17 1394.61,1080.68 1395,1079.19 1395.39,1077.68 1395.78,1076.18 \n",
       "  1396.17,1074.66 1396.56,1073.14 1396.95,1071.61 1397.34,1070.07 1397.73,1068.53 1398.12,1066.98 1398.51,1065.42 1398.9,1063.86 1399.29,1062.29 1399.68,1060.71 \n",
       "  1400.07,1059.12 1400.46,1057.53 1400.86,1055.93 1401.25,1054.32 1401.64,1052.71 1402.03,1051.09 1402.42,1049.46 1402.81,1047.82 1403.2,1046.18 1403.59,1044.53 \n",
       "  1403.98,1042.87 1404.37,1041.2 1404.76,1039.52 1405.15,1037.84 1405.54,1036.15 1405.93,1034.45 1406.32,1032.75 1406.71,1031.03 1407.1,1029.31 1407.49,1027.58 \n",
       "  1407.88,1025.85 1408.27,1024.1 1408.66,1022.35 1409.05,1020.58 1409.44,1018.81 1409.83,1017.04 1410.22,1015.25 1410.61,1013.45 1411,1011.65 1411.39,1009.84 \n",
       "  1411.78,1008.02 1412.17,1006.19 1412.57,1004.35 1412.96,1002.5 1413.35,1000.65 1413.74,998.784 1414.13,996.911 1414.52,995.029 1414.91,993.138 1415.3,991.238 \n",
       "  1415.69,989.329 1416.08,987.41 1416.47,985.483 1416.86,983.546 1417.25,981.599 1417.64,979.644 1418.03,977.678 1418.42,975.704 1418.81,973.719 1419.2,971.725 \n",
       "  1419.59,969.721 1419.98,967.707 1420.37,965.684 1420.76,963.65 1421.15,961.606 1421.54,959.552 1421.93,957.488 1422.32,955.414 1422.71,953.329 1423.1,951.234 \n",
       "  1423.49,949.128 1423.88,947.012 1424.28,944.885 1424.67,942.747 1425.06,940.599 1425.45,938.439 1425.84,936.269 1426.23,934.088 1426.62,931.895 1427.01,929.691 \n",
       "  1427.4,927.476 1427.79,925.25 1428.18,923.012 1428.57,920.763 1428.96,918.501 1429.35,916.229 1429.74,913.944 1430.13,911.648 1430.52,909.339 1430.91,907.019 \n",
       "  1431.3,904.686 1431.69,902.341 1432.08,899.984 1432.47,897.615 1432.86,895.233 1433.25,892.838 1433.64,890.431 1434.03,888.011 1434.42,885.578 1434.81,883.132 \n",
       "  1435.2,880.674 1435.59,878.202 1435.99,875.717 1436.38,873.219 1436.77,870.708 1437.16,868.184 1437.55,865.646 1437.94,863.094 1438.33,860.529 1438.72,857.95 \n",
       "  1439.11,855.358 1439.5,852.751 1439.89,850.131 1440.28,847.497 1440.67,844.849 1441.06,842.187 1441.45,839.511 1441.84,836.821 1442.23,834.117 1442.62,831.399 \n",
       "  1443.01,828.666 1443.4,825.92 1443.79,823.158 1444.18,820.383 1444.57,817.594 1444.96,814.79 1445.35,811.972 1445.74,809.139 1446.13,806.292 1446.52,803.431 \n",
       "  1446.91,800.556 1447.3,797.667 1447.7,794.764 1448.09,791.846 1448.48,788.915 1448.87,785.969 1449.26,783.01 1449.65,780.037 1450.04,777.051 1450.43,774.051 \n",
       "  1450.82,771.037 1451.21,768.01 1451.6,764.971 1451.99,761.918 1452.38,758.853 1452.77,755.775 1453.16,752.684 1453.55,749.582 1453.94,746.468 1454.33,743.342 \n",
       "  1454.72,740.205 1455.11,737.057 1455.5,733.898 1455.89,730.728 1456.28,727.549 1456.67,724.359 1457.06,721.161 1457.45,717.953 1457.84,714.736 1458.23,711.512 \n",
       "  1458.62,708.279 1459.01,705.039 1459.41,701.792 1459.8,698.539 1460.19,695.279 1460.58,692.014 1460.97,688.744 1461.36,685.469 1461.75,682.19 1462.14,678.908 \n",
       "  1462.53,675.622 1462.92,672.335 1463.31,669.045 1463.7,665.754 1464.09,662.462 1464.48,659.169 1464.87,655.877 1465.26,652.586 1465.65,649.296 1466.04,646.008 \n",
       "  1466.43,642.723 1466.82,639.441 1467.21,636.162 1467.6,632.887 1467.99,629.617 1468.38,626.353 1468.77,623.094 1469.16,619.841 1469.55,616.595 1469.94,613.356 \n",
       "  1470.33,610.125 1470.72,606.902 1471.12,603.688 1471.51,600.482 1471.9,597.286 1472.29,594.101 1472.68,590.925 1473.07,587.76 1473.46,584.606 1473.85,581.464 \n",
       "  1474.24,578.333 1474.63,575.215 1475.02,572.109 1475.41,569.015 1475.8,565.935 1476.19,562.868 1476.58,559.814 1476.97,556.774 1477.36,553.748 1477.75,550.736 \n",
       "  1478.14,547.739 1478.53,544.756 1478.92,541.788 1479.31,538.834 1479.7,535.896 1480.09,532.972 1480.48,530.064 1480.87,527.171 1481.26,524.294 1481.65,521.432 \n",
       "  1482.04,518.586 1482.43,515.755 1482.83,512.941 1483.22,510.141 1483.61,507.358 1484,504.591 1484.39,501.839 1484.78,499.103 1485.17,496.383 1485.56,493.679 \n",
       "  1485.95,490.991 1486.34,488.318 1486.73,485.662 1487.12,483.021 1487.51,480.396 1487.9,477.786 1488.29,475.193 1488.68,472.615 1489.07,470.052 1489.46,467.505 \n",
       "  1489.85,464.974 1490.24,462.458 1490.63,459.957 1491.02,457.472 1491.41,455.002 1491.8,452.547 1492.19,450.107 1492.58,447.682 1492.97,445.272 1493.36,442.877 \n",
       "  1493.75,440.497 1494.14,438.132 1494.54,435.781 1494.93,433.445 1495.32,431.123 1495.71,428.816 1496.1,426.523 1496.49,424.244 1496.88,421.979 1497.27,419.729 \n",
       "  1497.66,417.492 1498.05,415.269 1498.44,413.06 1498.83,410.865 1499.22,408.683 1499.61,406.515 1500,404.361 1500.39,402.22 1500.78,400.092 1501.17,397.977 \n",
       "  1501.56,395.876 1501.95,393.787 1502.34,391.712 1502.73,389.649 1503.12,387.599 1503.51,385.562 1503.9,383.537 1504.29,381.525 1504.68,379.526 1505.07,377.539 \n",
       "  1505.46,375.564 1505.85,373.601 1506.25,371.651 1506.64,369.713 1507.03,367.786 1507.42,365.872 1507.81,363.969 1508.2,362.078 1508.59,360.199 1508.98,358.332 \n",
       "  1509.37,356.476 1509.76,354.631 1510.15,352.798 1510.54,350.977 1510.93,349.166 1511.32,347.367 1511.71,345.579 1512.1,343.802 1512.49,342.036 1512.88,340.281 \n",
       "  1513.27,338.537 1513.66,336.803 1514.05,335.081 1514.44,333.369 1514.83,331.668 1515.22,329.977 1515.61,328.297 1516,326.627 1516.39,324.968 1516.78,323.319 \n",
       "  1517.17,321.68 1517.56,320.051 1517.96,318.433 1518.35,316.824 1518.74,315.226 1519.13,313.638 1519.52,312.06 1519.91,310.491 1520.3,308.933 1520.69,307.384 \n",
       "  1521.08,305.845 1521.47,304.316 1521.86,302.796 1522.25,301.286 1522.64,299.785 1523.03,298.294 1523.42,296.812 1523.81,295.34 1524.2,293.877 1524.59,292.424 \n",
       "  1524.98,290.98 1525.37,289.545 1525.76,288.119 1526.15,286.702 1526.54,285.294 1526.93,283.896 1527.32,282.506 1527.71,281.126 1528.1,279.754 1528.49,278.392 \n",
       "  1528.88,277.038 1529.27,275.693 1529.67,274.357 1530.06,273.029 1530.45,271.71 1530.84,270.4 1531.23,269.099 1531.62,267.806 1532.01,266.522 1532.4,265.246 \n",
       "  1532.79,263.979 1533.18,262.72 1533.57,261.47 1533.96,260.228 1534.35,258.995 1534.74,257.77 1535.13,256.553 1535.52,255.344 1535.91,254.144 1536.3,252.952 \n",
       "  1536.69,251.768 1537.08,250.592 1537.47,249.425 1537.86,248.265 1538.25,247.114 1538.64,245.971 1539.03,244.836 1539.42,243.708 1539.81,242.589 1540.2,241.478 \n",
       "  1540.59,240.374 1540.98,239.279 1541.38,238.191 1541.77,237.111 1542.16,236.039 1542.55,234.975 1542.94,233.919 1543.33,232.87 1543.72,231.829 1544.11,230.796 \n",
       "  1544.5,229.77 1544.89,228.753 1545.28,227.742 1545.67,226.74 1546.06,225.745 1546.45,224.757 1546.84,223.778 1547.23,222.805 1547.62,221.841 1548.01,220.883 \n",
       "  1548.4,219.933 1548.79,218.991 1549.18,218.056 1549.57,217.129 1549.96,216.209 1550.35,215.296 1550.74,214.39 1551.13,213.492 1551.52,212.602 1551.91,211.718 \n",
       "  1552.3,210.842 1552.69,209.974 1553.08,209.112 1553.48,208.258 1553.87,207.411 1554.26,206.571 1554.65,205.738 1555.04,204.913 1555.43,204.095 1555.82,203.283 \n",
       "  1556.21,202.479 1556.6,201.683 1556.99,200.893 1557.38,200.11 1557.77,199.335 1558.16,198.566 1558.55,197.804 1558.94,197.05 1559.33,196.303 1559.72,195.562 \n",
       "  1560.11,194.829 1560.5,194.102 1560.89,193.383 1561.28,192.67 1561.67,191.965 1562.06,191.266 1562.45,190.574 1562.84,189.889 1563.23,189.211 1563.62,188.54 \n",
       "  1564.01,187.876 1564.4,187.219 1564.79,186.568 1565.19,185.925 1565.58,185.288 1565.97,184.658 1566.36,184.034 1566.75,183.418 1567.14,182.808 1567.53,182.205 \n",
       "  1567.92,181.609 1568.31,181.02 1568.7,180.437 1569.09,179.861 1569.48,179.292 1569.87,178.729 1570.26,178.174 1570.65,177.624 1571.04,177.082 1571.43,176.546 \n",
       "  1571.82,176.017 1572.21,175.495 1572.6,174.979 1572.99,174.469 1573.38,173.967 1573.77,173.471 1574.16,172.981 1574.55,172.499 1574.94,172.022 1575.33,171.553 \n",
       "  1575.72,171.09 1576.11,170.633 1576.5,170.183 1576.9,169.74 1577.29,169.303 1577.68,168.872 1578.07,168.448 1578.46,168.031 1578.85,167.62 1579.24,167.216 \n",
       "  1579.63,166.818 1580.02,166.427 1580.41,166.042 1580.8,165.663 1581.19,165.291 1581.58,164.926 1581.97,164.566 1582.36,164.214 1582.75,163.867 1583.14,163.528 \n",
       "  1583.53,163.194 1583.92,162.867 1584.31,162.546 1584.7,162.232 1585.09,161.924 1585.48,161.623 1585.87,161.327 1586.26,161.039 1586.65,160.756 1587.04,160.48 \n",
       "  1587.43,160.21 1587.82,159.947 1588.21,159.69 1588.61,159.439 1589,159.195 1589.39,158.956 1589.78,158.725 1590.17,158.499 1590.56,158.28 1590.95,158.067 \n",
       "  1591.34,157.86 1591.73,157.659 1592.12,157.465 1592.51,157.277 1592.9,157.096 1593.29,156.92 1593.68,156.751 1594.07,156.588 1594.46,156.431 1594.85,156.281 \n",
       "  1595.24,156.136 1595.63,155.998 1596.02,155.866 1596.41,155.74 1596.8,155.621 1597.19,155.507 1597.58,155.4 1597.97,155.299 1598.36,155.204 1598.75,155.116 \n",
       "  1599.14,155.033 1599.53,154.957 1599.92,154.886 1600.32,154.822 1600.71,154.764 1601.1,154.712 1601.49,154.667 1601.88,154.627 1602.27,154.594 1602.66,154.566 \n",
       "  1603.05,154.545 1603.44,154.529 1603.83,154.52 1604.22,154.517 1604.61,154.52 1605,154.529 1605.39,154.544 1605.78,154.566 1606.17,154.593 1606.56,154.626 \n",
       "  1606.95,154.665 1607.34,154.711 1607.73,154.762 1608.12,154.82 1608.51,154.883 1608.9,154.952 1609.29,155.028 1609.68,155.109 1610.07,155.197 1610.46,155.29 \n",
       "  1610.85,155.39 1611.24,155.495 1611.63,155.607 1612.03,155.724 1612.42,155.847 1612.81,155.976 1613.2,156.112 1613.59,156.253 1613.98,156.4 1614.37,156.553 \n",
       "  1614.76,156.712 1615.15,156.877 1615.54,157.048 1615.93,157.225 1616.32,157.407 1616.71,157.596 1617.1,157.791 1617.49,157.991 1617.88,158.197 1618.27,158.409 \n",
       "  1618.66,158.627 1619.05,158.851 1619.44,159.081 1619.83,159.317 1620.22,159.558 1620.61,159.806 1621,160.059 1621.39,160.318 1621.78,160.583 1622.17,160.854 \n",
       "  1622.56,161.13 1622.95,161.413 1623.34,161.701 1623.74,161.995 1624.13,162.295 1624.52,162.601 1624.91,162.912 1625.3,163.229 1625.69,163.552 1626.08,163.881 \n",
       "  1626.47,164.216 1626.86,164.556 1627.25,164.902 1627.64,165.254 1628.03,165.612 1628.42,165.976 1628.81,166.345 1629.2,166.72 1629.59,167.1 1629.98,167.487 \n",
       "  1630.37,167.879 1630.76,168.277 1631.15,168.68 1631.54,169.09 1631.93,169.505 1632.32,169.925 1632.71,170.352 1633.1,170.784 1633.49,171.222 1633.88,171.665 \n",
       "  1634.27,172.114 1634.66,172.569 1635.05,173.03 1635.45,173.496 1635.84,173.968 1636.23,174.445 1636.62,174.928 1637.01,175.417 1637.4,175.912 1637.79,176.412 \n",
       "  1638.18,176.917 1638.57,177.429 1638.96,177.946 1639.35,178.468 1639.74,178.997 1640.13,179.53 1640.52,180.07 1640.91,180.615 1641.3,181.165 1641.69,181.722 \n",
       "  1642.08,182.284 1642.47,182.851 1642.86,183.424 1643.25,184.002 1643.64,184.587 1644.03,185.176 1644.42,185.771 1644.81,186.372 1645.2,186.979 1645.59,187.591 \n",
       "  1645.98,188.208 1646.37,188.831 1646.76,189.46 1647.16,190.094 1647.55,190.733 1647.94,191.378 1648.33,192.029 1648.72,192.685 1649.11,193.347 1649.5,194.014 \n",
       "  1649.89,194.687 1650.28,195.365 1650.67,196.049 1651.06,196.738 1651.45,197.433 1651.84,198.133 1652.23,198.839 1652.62,199.55 1653.01,200.266 1653.4,200.988 \n",
       "  1653.79,201.716 1654.18,202.449 1654.57,203.188 1654.96,203.931 1655.35,204.681 1655.74,205.436 1656.13,206.196 1656.52,206.962 1656.91,207.733 1657.3,208.51 \n",
       "  1657.69,209.292 1658.08,210.079 1658.47,210.872 1658.87,211.671 1659.26,212.475 1659.65,213.284 1660.04,214.099 1660.43,214.919 1660.82,215.744 1661.21,216.575 \n",
       "  1661.6,217.412 1661.99,218.253 1662.38,219.1 1662.77,219.953 1663.16,220.811 1663.55,221.674 1663.94,222.543 1664.33,223.417 1664.72,224.297 1665.11,225.182 \n",
       "  1665.5,226.072 1665.89,226.968 1666.28,227.869 1666.67,228.776 1667.06,229.688 1667.45,230.605 1667.84,231.528 1668.23,232.456 1668.62,233.39 1669.01,234.329 \n",
       "  1669.4,235.273 1669.79,236.222 1670.18,237.177 1670.58,238.138 1670.97,239.104 1671.36,240.075 1671.75,241.051 1672.14,242.033 1672.53,243.021 1672.92,244.013 \n",
       "  1673.31,245.012 1673.7,246.015 1674.09,247.024 1674.48,248.038 1674.87,249.058 1675.26,250.083 1675.65,251.113 1676.04,252.149 1676.43,253.19 1676.82,254.237 \n",
       "  1677.21,255.289 1677.6,256.346 1677.99,257.409 1678.38,258.477 1678.77,259.55 1679.16,260.629 1679.55,261.714 1679.94,262.803 1680.33,263.899 1680.72,264.999 \n",
       "  1681.11,266.105 1681.5,267.216 1681.89,268.333 1682.29,269.455 1682.68,270.583 1683.07,271.716 1683.46,272.855 1683.85,273.999 1684.24,275.148 1684.63,276.303 \n",
       "  1685.02,277.463 1685.41,278.629 1685.8,279.8 1686.19,280.976 1686.58,282.158 1686.97,283.346 1687.36,284.539 1687.75,285.738 1688.14,286.941 1688.53,288.151 \n",
       "  1688.92,289.366 1689.31,290.586 1689.7,291.812 1690.09,293.044 1690.48,294.281 1690.87,295.523 1691.26,296.771 1691.65,298.025 1692.04,299.284 1692.43,300.549 \n",
       "  1692.82,301.819 1693.21,303.095 1693.6,304.376 1694,305.663 1694.39,306.956 1694.78,308.254 1695.17,309.558 1695.56,310.867 1695.95,312.182 1696.34,313.503 \n",
       "  1696.73,314.829 1697.12,316.161 1697.51,317.499 1697.9,318.842 1698.29,320.191 1698.68,321.546 1699.07,322.906 1699.46,324.272 1699.85,325.644 1700.24,327.022 \n",
       "  1700.63,328.405 1701.02,329.794 1701.41,331.189 1701.8,332.59 1702.19,333.996 1702.58,335.409 1702.97,336.827 1703.36,338.251 1703.75,339.681 1704.14,341.116 \n",
       "  1704.53,342.558 1704.92,344.006 1705.31,345.459 1705.71,346.919 1706.1,348.384 1706.49,349.855 1706.88,351.333 1707.27,352.816 1707.66,354.305 1708.05,355.801 \n",
       "  1708.44,357.302 1708.83,358.81 1709.22,360.323 1709.61,361.843 1710,363.369 1710.39,364.901 1710.78,366.439 1711.17,367.983 1711.56,369.534 1711.95,371.091 \n",
       "  1712.34,372.654 1712.73,374.223 1713.12,375.799 1713.51,377.38 1713.9,378.969 1714.29,380.563 1714.68,382.164 1715.07,383.772 1715.46,385.385 1715.85,387.006 \n",
       "  1716.24,388.633 1716.63,390.266 1717.02,391.906 1717.42,393.552 1717.81,395.205 1718.2,396.864 1718.59,398.531 1718.98,400.203 1719.37,401.883 1719.76,403.569 \n",
       "  1720.15,405.262 1720.54,406.962 1720.93,408.669 1721.32,410.382 1721.71,412.102 1722.1,413.83 1722.49,415.564 1722.88,417.305 1723.27,419.053 1723.66,420.808 \n",
       "  1724.05,422.571 1724.44,424.34 1724.83,426.116 1725.22,427.9 1725.61,429.691 1726,431.489 1726.39,433.294 1726.78,435.107 1727.17,436.927 1727.56,438.755 \n",
       "  1727.95,440.59 1728.34,442.432 1728.73,444.282 1729.13,446.139 1729.52,448.004 1729.91,449.877 1730.3,451.757 1730.69,453.645 1731.08,455.541 1731.47,457.445 \n",
       "  1731.86,459.357 1732.25,461.276 1732.64,463.203 1733.03,465.139 1733.42,467.082 1733.81,469.034 1734.2,470.994 1734.59,472.961 1734.98,474.938 1735.37,476.922 \n",
       "  1735.76,478.915 1736.15,480.916 1736.54,482.925 1736.93,484.944 1737.32,486.97 1737.71,489.006 1738.1,491.05 1738.49,493.102 1738.88,495.164 1739.27,497.234 \n",
       "  1739.66,499.313 1740.05,501.401 1740.44,503.499 1740.84,505.605 1741.23,507.72 1741.62,509.845 1742.01,511.979 1742.4,514.122 1742.79,516.274 1743.18,518.436 \n",
       "  1743.57,520.608 1743.96,522.789 1744.35,524.98 1744.74,527.18 1745.13,529.391 1745.52,531.611 1745.91,533.841 1746.3,536.081 1746.69,538.331 1747.08,540.591 \n",
       "  1747.47,542.862 1747.86,545.142 1748.25,547.433 1748.64,549.735 1749.03,552.047 1749.42,554.369 1749.81,556.703 1750.2,559.047 1750.59,561.401 1750.98,563.767 \n",
       "  1751.37,566.143 1751.76,568.531 1752.15,570.93 1752.55,573.34 1752.94,575.761 1753.33,578.193 1753.72,580.637 1754.11,583.092 1754.5,585.559 1754.89,588.038 \n",
       "  1755.28,590.528 1755.67,593.03 1756.06,595.544 1756.45,598.07 1756.84,600.608 1757.23,603.158 1757.62,605.72 1758.01,608.295 1758.4,610.881 1758.79,613.481 \n",
       "  1759.18,616.092 1759.57,618.716 1759.96,621.353 1760.35,624.003 1760.74,626.665 1761.13,629.34 1761.52,632.028 1761.91,634.729 1762.3,637.443 1762.69,640.169 \n",
       "  1763.08,642.909 1763.47,645.662 1763.86,648.429 1764.26,651.208 1764.65,654.001 1765.04,656.807 1765.43,659.627 1765.82,662.46 1766.21,665.306 1766.6,668.166 \n",
       "  1766.99,671.039 1767.38,673.926 1767.77,676.826 1768.16,679.739 1768.55,682.667 1768.94,685.607 1769.33,688.561 1769.72,691.528 1770.11,694.509 1770.5,697.503 \n",
       "  1770.89,700.511 1771.28,703.531 1771.67,706.565 1772.06,709.612 1772.45,712.672 1772.84,715.745 1773.23,718.83 1773.62,721.929 1774.01,725.039 1774.4,728.163 \n",
       "  1774.79,731.298 1775.18,734.446 1775.57,737.606 1775.96,740.777 1776.36,743.96 1776.75,747.155 1777.14,750.361 1777.53,753.577 1777.92,756.804 1778.31,760.042 \n",
       "  1778.7,763.29 1779.09,766.547 1779.48,769.815 1779.87,773.091 1780.26,776.376 1780.65,779.67 1781.04,782.972 1781.43,786.282 1781.82,789.6 1782.21,792.924 \n",
       "  1782.6,796.255 1782.99,799.593 1783.38,802.936 1783.77,806.284 1784.16,809.638 1784.55,812.996 1784.94,816.358 1785.33,819.723 1785.72,823.092 1786.11,826.463 \n",
       "  1786.5,829.836 1786.89,833.21 1787.28,836.586 1787.67,839.962 1788.07,843.338 1788.46,846.714 1788.85,850.088 1789.24,853.461 1789.63,856.832 1790.02,860.2 \n",
       "  1790.41,863.566 1790.8,866.927 1791.19,870.285 1791.58,873.638 1791.97,876.986 1792.36,880.328 1792.75,883.664 1793.14,886.994 1793.53,890.317 1793.92,893.632 \n",
       "  1794.31,896.94 1794.7,900.239 1795.09,903.53 1795.48,906.812 1795.87,910.084 1796.26,913.346 1796.65,916.599 1797.04,919.84 1797.43,923.071 1797.82,926.291 \n",
       "  1798.21,929.499 1798.6,932.695 1798.99,935.88 1799.38,939.052 1799.78,942.211 1800.17,945.358 1800.56,948.492 1800.95,951.612 1801.34,954.719 1801.73,957.812 \n",
       "  1802.12,960.892 1802.51,963.957 1802.9,967.009 1803.29,970.046 1803.68,973.069 1804.07,976.077 1804.46,979.071 1804.85,982.05 1805.24,985.015 1805.63,987.964 \n",
       "  1806.02,990.899 1806.41,993.819 1806.8,996.723 1807.19,999.613 1807.58,1002.49 1807.97,1005.35 1808.36,1008.19 1808.75,1011.02 1809.14,1013.83 1809.53,1016.63 \n",
       "  1809.92,1019.42 1810.31,1022.19 1810.7,1024.94 1811.09,1027.68 1811.49,1030.4 1811.88,1033.11 1812.27,1035.8 1812.66,1038.48 1813.05,1041.14 1813.44,1043.79 \n",
       "  1813.83,1046.43 1814.22,1049.05 1814.61,1051.65 1815,1054.24 1815.39,1056.82 1815.78,1059.38 1816.17,1061.92 1816.56,1064.46 1816.95,1066.97 1817.34,1069.48 \n",
       "  1817.73,1071.97 1818.12,1074.44 1818.51,1076.9 1818.9,1079.35 1819.29,1081.78 1819.68,1084.2 1820.07,1086.61 1820.46,1089 1820.85,1091.38 1821.24,1093.75 \n",
       "  1821.63,1096.1 1822.02,1098.44 1822.41,1100.76 1822.8,1103.07 1823.2,1105.37 1823.59,1107.66 1823.98,1109.93 1824.37,1112.19 1824.76,1114.44 1825.15,1116.67 \n",
       "  1825.54,1118.9 1825.93,1121.11 1826.32,1123.3 1826.71,1125.49 1827.1,1127.66 1827.49,1129.82 1827.88,1131.97 1828.27,1134.1 1828.66,1136.23 1829.05,1138.34 \n",
       "  1829.44,1140.44 1829.83,1142.53 1830.22,1144.61 1830.61,1146.67 1831,1148.72 1831.39,1150.77 1831.78,1152.8 1832.17,1154.82 1832.56,1156.83 1832.95,1158.82 \n",
       "  1833.34,1160.81 1833.73,1162.78 1834.12,1164.75 1834.51,1166.7 1834.91,1168.64 1835.3,1170.57 1835.69,1172.49 1836.08,1174.4 1836.47,1176.3 1836.86,1178.19 \n",
       "  1837.25,1180.07 1837.64,1181.93 1838.03,1183.79 1838.42,1185.64 1838.81,1187.48 1839.2,1189.3 1839.59,1191.12 1839.98,1192.92 1840.37,1194.72 1840.76,1196.51 \n",
       "  1841.15,1198.28 1841.54,1200.05 1841.93,1201.8 1842.32,1203.55 1842.71,1205.29 1843.1,1207.01 1843.49,1208.73 1843.88,1210.44 1844.27,1212.14 1844.66,1213.83 \n",
       "  1845.05,1215.51 1845.44,1217.18 1845.83,1218.84 1846.22,1220.49 1846.62,1222.13 1847.01,1223.76 1847.4,1225.39 1847.79,1227 1848.18,1228.61 1848.57,1230.21 \n",
       "  1848.96,1231.79 1849.35,1233.37 1849.74,1234.94 1850.13,1236.5 1850.52,1238.05 1850.91,1239.6 1851.3,1241.13 1851.69,1242.66 1852.08,1244.17 1852.47,1245.68 \n",
       "  1852.86,1247.18 1853.25,1248.67 1853.64,1250.16 1854.03,1251.63 1854.42,1253.1 1854.81,1254.55 1855.2,1256 1855.59,1257.44 1855.98,1258.87 1856.37,1260.3 \n",
       "  1856.76,1261.71 1857.15,1263.12 1857.54,1264.52 1857.93,1265.91 1858.33,1267.29 1858.72,1268.67 1859.11,1270.03 1859.5,1271.39 1859.89,1272.74 1860.28,1274.08 \n",
       "  1860.67,1275.42 1861.06,1276.74 1861.45,1278.06 1861.84,1279.37 1862.23,1280.67 1862.62,1281.97 1863.01,1283.25 1863.4,1284.53 1863.79,1285.8 1864.18,1287.07 \n",
       "  1864.57,1288.32 1864.96,1289.57 1865.35,1290.81 1865.74,1292.04 1866.13,1293.27 1866.52,1294.48 1866.91,1295.69 1867.3,1296.89 1867.69,1298.09 1868.08,1299.27 \n",
       "  1868.47,1300.45 1868.86,1301.63 1869.25,1302.79 1869.64,1303.95 1870.04,1305.09 1870.43,1306.24 1870.82,1307.37 1871.21,1308.5 1871.6,1309.62 1871.99,1310.73 \n",
       "  1872.38,1311.83 1872.77,1312.93 1873.16,1314.02 1873.55,1315.1 1873.94,1316.18 1874.33,1317.25 1874.72,1318.31 1875.11,1319.36 1875.5,1320.41 1875.89,1321.45 \n",
       "  1876.28,1322.48 1876.67,1323.5 1877.06,1324.52 1877.45,1325.53 1877.84,1326.53 1878.23,1327.53 1878.62,1328.52 1879.01,1329.5 1879.4,1330.48 1879.79,1331.44 \n",
       "  1880.18,1332.4 1880.57,1333.36 1880.96,1334.3 1881.35,1335.24 1881.75,1336.18 1882.14,1337.1 1882.53,1338.02 1882.92,1338.93 1883.31,1339.84 1883.7,1340.73 \n",
       "  1884.09,1341.63 1884.48,1342.51 1884.87,1343.39 1885.26,1344.26 1885.65,1345.12 1886.04,1345.98 1886.43,1346.82 1886.82,1347.67 1887.21,1348.5 1887.6,1349.33 \n",
       "  1887.99,1350.15 1888.38,1350.97 1888.77,1351.78 1889.16,1352.58 1889.55,1353.37 1889.94,1354.16 1890.33,1354.94 1890.72,1355.71 1891.11,1356.48 1891.5,1357.24 \n",
       "  1891.89,1358 1892.28,1358.74 1892.67,1359.48 1893.06,1360.22 1893.46,1360.94 1893.85,1361.66 1894.24,1362.38 1894.63,1363.09 1895.02,1363.79 1895.41,1364.48 \n",
       "  1895.8,1365.17 1896.19,1365.85 1896.58,1366.52 1896.97,1367.19 1897.36,1367.85 1897.75,1368.5 1898.14,1369.15 1898.53,1369.79 1898.92,1370.42 1899.31,1371.05 \n",
       "  1899.7,1371.67 1900.09,1372.28 1900.48,1372.89 1900.87,1373.49 1901.26,1374.08 1901.65,1374.67 1902.04,1375.25 1902.43,1375.82 1902.82,1376.39 1903.21,1376.95 \n",
       "  1903.6,1377.51 1903.99,1378.05 1904.38,1378.59 1904.77,1379.13 1905.17,1379.66 1905.56,1380.18 1905.95,1380.69 1906.34,1381.2 1906.73,1381.7 1907.12,1382.2 \n",
       "  1907.51,1382.69 1907.9,1383.17 1908.29,1383.65 1908.68,1384.12 1909.07,1384.58 1909.46,1385.04 1909.85,1385.49 1910.24,1385.93 1910.63,1386.37 1911.02,1386.8 \n",
       "  1911.41,1387.22 1911.8,1387.64 1912.19,1388.05 1912.58,1388.45 1912.97,1388.85 1913.36,1389.24 1913.75,1389.63 1914.14,1390.01 1914.53,1390.38 1914.92,1390.75 \n",
       "  1915.31,1391.11 1915.7,1391.46 1916.09,1391.81 1916.48,1392.15 1916.88,1392.48 1917.27,1392.81 1917.66,1393.13 1918.05,1393.44 1918.44,1393.75 1918.83,1394.05 \n",
       "  1919.22,1394.35 1919.61,1394.64 1920,1394.92 1920.39,1395.19 1920.78,1395.46 1921.17,1395.73 1921.56,1395.98 1921.95,1396.24 1922.34,1396.48 1922.73,1396.72 \n",
       "  1923.12,1396.95 1923.51,1397.17 1923.9,1397.39 1924.29,1397.6 1924.68,1397.81 1925.07,1398.01 1925.46,1398.2 1925.85,1398.39 1926.24,1398.57 1926.63,1398.74 \n",
       "  1927.02,1398.91 1927.41,1399.07 1927.8,1399.23 1928.19,1399.38 1928.59,1399.52 1928.98,1399.66 1929.37,1399.79 1929.76,1399.91 1930.15,1400.03 1930.54,1400.14 \n",
       "  1930.93,1400.24 1931.32,1400.34 1931.71,1400.43 1932.1,1400.52 1932.49,1400.59 1932.88,1400.67 1933.27,1400.73 1933.66,1400.79 1934.05,1400.85 1934.44,1400.9 \n",
       "  1934.83,1400.94 1935.22,1400.97 1935.61,1401 1936,1401.02 1936.39,1401.04 1936.78,1401.05 1937.17,1401.05 1937.56,1401.05 1937.95,1401.04 1938.34,1401.02 \n",
       "  1938.73,1401 1939.12,1400.97 1939.51,1400.94 1939.9,1400.9 1940.3,1400.85 1940.69,1400.8 1941.08,1400.74 1941.47,1400.67 1941.86,1400.6 1942.25,1400.52 \n",
       "  1942.64,1400.44 1943.03,1400.35 1943.42,1400.25 1943.81,1400.15 1944.2,1400.04 1944.59,1399.92 1944.98,1399.8 1945.37,1399.67 1945.76,1399.54 1946.15,1399.4 \n",
       "  1946.54,1399.25 1946.93,1399.1 1947.32,1398.94 1947.71,1398.77 1948.1,1398.6 1948.49,1398.42 1948.88,1398.24 1949.27,1398.05 1949.66,1397.85 1950.05,1397.65 \n",
       "  1950.44,1397.44 1950.83,1397.22 1951.22,1397 1951.61,1396.77 1952.01,1396.54 1952.4,1396.3 1952.79,1396.05 1953.18,1395.8 1953.57,1395.54 1953.96,1395.27 \n",
       "  1954.35,1395 1954.74,1394.72 1955.13,1394.44 1955.52,1394.15 1955.91,1393.85 1956.3,1393.55 1956.69,1393.24 1957.08,1392.92 1957.47,1392.6 1957.86,1392.27 \n",
       "  1958.25,1391.94 1958.64,1391.6 1959.03,1391.25 1959.42,1390.9 1959.81,1390.54 1960.2,1390.18 1960.59,1389.81 1960.98,1389.43 1961.37,1389.05 1961.76,1388.66 \n",
       "  1962.15,1388.26 1962.54,1387.86 1962.93,1387.45 1963.32,1387.04 1963.72,1386.62 1964.11,1386.19 1964.5,1385.76 1964.89,1385.32 1965.28,1384.87 1965.67,1384.42 \n",
       "  1966.06,1383.97 1966.45,1383.5 1966.84,1383.03 1967.23,1382.56 1967.62,1382.07 1968.01,1381.58 1968.4,1381.09 1968.79,1380.59 1969.18,1380.08 1969.57,1379.57 \n",
       "  1969.96,1379.05 1970.35,1378.52 1970.74,1377.99 1971.13,1377.45 1971.52,1376.91 1971.91,1376.36 1972.3,1375.8 1972.69,1375.24 1973.08,1374.67 1973.47,1374.1 \n",
       "  1973.86,1373.52 1974.25,1372.93 1974.64,1372.34 1975.03,1371.74 1975.43,1371.13 1975.82,1370.52 1976.21,1369.9 1976.6,1369.28 1976.99,1368.65 1977.38,1368.01 \n",
       "  1977.77,1367.37 1978.16,1366.72 1978.55,1366.06 1978.94,1365.4 1979.33,1364.73 1979.72,1364.06 1980.11,1363.38 1980.5,1362.69 1980.89,1362 1981.28,1361.3 \n",
       "  1981.67,1360.6 1982.06,1359.89 1982.45,1359.17 1982.84,1358.45 1983.23,1357.72 1983.62,1356.98 1984.01,1356.24 1984.4,1355.49 1984.79,1354.74 1985.18,1353.98 \n",
       "  1985.57,1353.21 1985.96,1352.44 1986.35,1351.66 1986.74,1350.88 1987.14,1350.09 1987.53,1349.29 1987.92,1348.49 1988.31,1347.68 1988.7,1346.86 1989.09,1346.04 \n",
       "  1989.48,1345.21 1989.87,1344.37 1990.26,1343.53 1990.65,1342.69 1991.04,1341.83 1991.43,1340.97 1991.82,1340.11 1992.21,1339.24 1992.6,1338.36 1992.99,1337.47 \n",
       "  1993.38,1336.58 1993.77,1335.69 1994.16,1334.78 1994.55,1333.87 1994.94,1332.96 1995.33,1332.04 1995.72,1331.11 1996.11,1330.17 1996.5,1329.23 1996.89,1328.29 \n",
       "  1997.28,1327.33 1997.67,1326.37 1998.06,1325.41 1998.45,1324.43 1998.84,1323.46 1999.24,1322.47 1999.63,1321.48 2000.02,1320.48 2000.41,1319.48 2000.8,1318.47 \n",
       "  2001.19,1317.45 2001.58,1316.43 2001.97,1315.4 2002.36,1314.37 2002.75,1313.32 2003.14,1312.28 2003.53,1311.22 2003.92,1310.16 2004.31,1309.09 2004.7,1308.02 \n",
       "  2005.09,1306.94 2005.48,1305.85 2005.87,1304.76 2006.26,1303.66 2006.65,1302.56 2007.04,1301.44 2007.43,1300.33 2007.82,1299.2 2008.21,1298.07 2008.6,1296.93 \n",
       "  2008.99,1295.79 2009.38,1294.64 2009.77,1293.48 2010.16,1292.32 2010.55,1291.15 2010.95,1289.97 2011.34,1288.78 2011.73,1287.59 2012.12,1286.4 2012.51,1285.2 \n",
       "  2012.9,1283.99 2013.29,1282.77 2013.68,1281.55 2014.07,1280.32 2014.46,1279.08 2014.85,1277.84 2015.24,1276.59 2015.63,1275.33 2016.02,1274.07 2016.41,1272.8 \n",
       "  2016.8,1271.53 2017.19,1270.24 2017.58,1268.95 2017.97,1267.66 2018.36,1266.35 2018.75,1265.04 2019.14,1263.73 2019.53,1262.4 2019.92,1261.07 2020.31,1259.74 \n",
       "  2020.7,1258.39 2021.09,1257.04 2021.48,1255.69 2021.87,1254.32 2022.26,1252.95 2022.66,1251.57 2023.05,1250.19 2023.44,1248.8 2023.83,1247.4 2024.22,1245.99 \n",
       "  2024.61,1244.58 2025,1243.16 2025.39,1241.73 2025.78,1240.3 2026.17,1238.85 2026.56,1237.41 2026.95,1235.95 2027.34,1234.49 2027.73,1233.02 2028.12,1231.54 \n",
       "  2028.51,1230.06 2028.9,1228.56 2029.29,1227.07 2029.68,1225.56 2030.07,1224.05 2030.46,1222.53 2030.85,1221 2031.24,1219.46 2031.63,1217.92 2032.02,1216.37 \n",
       "  2032.41,1214.81 2032.8,1213.25 2033.19,1211.67 2033.58,1210.09 2033.97,1208.51 2034.37,1206.91 2034.76,1205.31 2035.15,1203.7 2035.54,1202.08 2035.93,1200.45 \n",
       "  2036.32,1198.82 2036.71,1197.18 2037.1,1195.53 2037.49,1193.87 2037.88,1192.21 2038.27,1190.53 2038.66,1188.85 2039.05,1187.16 2039.44,1185.47 2039.83,1183.76 \n",
       "  2040.22,1182.05 2040.61,1180.33 2041,1178.6 2041.39,1176.86 2041.78,1175.12 2042.17,1173.36 2042.56,1171.6 2042.95,1169.83 2043.34,1168.05 2043.73,1166.26 \n",
       "  2044.12,1164.47 2044.51,1162.66 2044.9,1160.85 2045.29,1159.03 2045.68,1157.2 2046.08,1155.36 2046.47,1153.52 2046.86,1151.66 2047.25,1149.8 2047.64,1147.92 \n",
       "  2048.03,1146.04 2048.42,1144.15 2048.81,1142.25 2049.2,1140.34 2049.59,1138.42 2049.98,1136.49 2050.37,1134.56 2050.76,1132.61 2051.15,1130.66 2051.54,1128.69 \n",
       "  2051.93,1126.72 2052.32,1124.73 2052.71,1122.74 2053.1,1120.74 2053.49,1118.73 2053.88,1116.71 2054.27,1114.68 2054.66,1112.63 2055.05,1110.58 2055.44,1108.52 \n",
       "  2055.83,1106.45 2056.22,1104.37 2056.61,1102.28 2057,1100.18 2057.39,1098.07 2057.79,1095.95 2058.18,1093.82 2058.57,1091.67 2058.96,1089.52 2059.35,1087.36 \n",
       "  2059.74,1085.19 2060.13,1083 2060.52,1080.81 2060.91,1078.6 2061.3,1076.38 2061.69,1074.16 2062.08,1071.92 2062.47,1069.67 2062.86,1067.41 2063.25,1065.14 \n",
       "  2063.64,1062.85 2064.03,1060.56 2064.42,1058.25 2064.81,1055.93 2065.2,1053.6 2065.59,1051.26 2065.98,1048.91 2066.37,1046.55 2066.76,1044.17 2067.15,1041.78 \n",
       "  2067.54,1039.38 2067.93,1036.97 2068.32,1034.54 2068.71,1032.11 2069.1,1029.66 2069.5,1027.2 2069.89,1024.72 2070.28,1022.24 2070.67,1019.74 2071.06,1017.22 \n",
       "  2071.45,1014.7 2071.84,1012.16 2072.23,1009.61 2072.62,1007.05 2073.01,1004.47 2073.4,1001.88 2073.79,999.274 2074.18,996.657 2074.57,994.026 2074.96,991.382 \n",
       "  2075.35,988.725 2075.74,986.054 2076.13,983.369 2076.52,980.67 2076.91,977.958 2077.3,975.231 2077.69,972.491 2078.08,969.736 2078.47,966.968 2078.86,964.186 \n",
       "  2079.25,961.389 2079.64,958.578 2080.03,955.753 2080.42,952.914 2080.81,950.06 2081.21,947.192 2081.6,944.31 2081.99,941.413 2082.38,938.502 2082.77,935.576 \n",
       "  2083.16,932.636 2083.55,929.682 2083.94,926.713 2084.33,923.73 2084.72,920.733 2085.11,917.721 2085.5,914.695 2085.89,911.655 2086.28,908.6 2086.67,905.532 \n",
       "  2087.06,902.449 2087.45,899.353 2087.84,896.242 2088.23,893.118 2088.62,889.98 2089.01,886.829 2089.4,883.664 2089.79,880.486 2090.18,877.295 2090.57,874.091 \n",
       "  2090.96,870.874 2091.35,867.644 2091.74,864.402 2092.13,861.148 2092.52,857.883 2092.92,854.605 2093.31,851.316 2093.7,848.016 2094.09,844.705 2094.48,841.384 \n",
       "  2094.87,838.052 2095.26,834.71 2095.65,831.359 2096.04,827.999 2096.43,824.629 2096.82,821.251 2097.21,817.866 2097.6,814.472 2097.99,811.071 2098.38,807.664 \n",
       "  2098.77,804.25 2099.16,800.83 2099.55,797.404 2099.94,793.974 2100.33,790.538 2100.72,787.099 2101.11,783.657 2101.5,780.211 2101.89,776.763 2102.28,773.312 \n",
       "  2102.67,769.86 2103.06,766.407 2103.45,762.953 2103.84,759.5 2104.23,756.047 2104.63,752.595 2105.02,749.144 2105.41,745.695 2105.8,742.249 2106.19,738.806 \n",
       "  2106.58,735.367 2106.97,731.931 2107.36,728.5 2107.75,725.074 2108.14,721.653 2108.53,718.239 2108.92,714.83 2109.31,711.428 2109.7,708.034 2110.09,704.647 \n",
       "  2110.48,701.268 2110.87,697.897 2111.26,694.535 2111.65,691.182 2112.04,687.839 2112.43,684.506 2112.82,681.182 2113.21,677.869 2113.6,674.567 2113.99,671.275 \n",
       "  2114.38,667.995 2114.77,664.726 2115.16,661.469 2115.55,658.224 2115.94,654.992 2116.34,651.771 2116.73,648.563 2117.12,645.368 2117.51,642.186 2117.9,639.017 \n",
       "  2118.29,635.861 2118.68,632.718 2119.07,629.589 2119.46,626.473 2119.85,623.371 2120.24,620.282 2120.63,617.208 2121.02,614.147 2121.41,611.1 2121.8,608.068 \n",
       "  2122.19,605.049 2122.58,602.044 2122.97,599.053 2123.36,596.077 2123.75,593.114 2124.14,590.166 2124.53,587.232 2124.92,584.311 2125.31,581.405 2125.7,578.513 \n",
       "  2126.09,575.636 2126.48,572.772 2126.87,569.922 2127.26,567.086 2127.65,564.264 2128.05,561.456 2128.44,558.662 2128.83,555.882 2129.22,553.115 2129.61,550.362 \n",
       "  2130,547.623 2130.39,544.898 2130.78,542.185 2131.17,539.487 2131.56,536.802 2131.95,534.13 2132.34,531.471 2132.73,528.826 2133.12,526.193 2133.51,523.574 \n",
       "  2133.9,520.968 2134.29,518.375 2134.68,515.794 2135.07,513.226 2135.46,510.671 2135.85,508.129 2136.24,505.599 2136.63,503.082 2137.02,500.577 2137.41,498.084 \n",
       "  2137.8,495.603 2138.19,493.135 2138.58,490.679 2138.97,488.234 2139.36,485.802 2139.76,483.381 2140.15,480.972 2140.54,478.575 2140.93,476.19 2141.32,473.816 \n",
       "  2141.71,471.453 2142.1,469.102 2142.49,466.762 2142.88,464.433 2143.27,462.116 2143.66,459.809 2144.05,457.514 2144.44,455.229 2144.83,452.956 2145.22,450.693 \n",
       "  2145.61,448.441 2146,446.199 2146.39,443.968 2146.78,441.748 2147.17,439.538 2147.56,437.338 2147.95,435.149 2148.34,432.97 2148.73,430.801 2149.12,428.642 \n",
       "  2149.51,426.493 2149.9,424.354 2150.29,422.225 2150.68,420.106 2151.07,417.997 2151.47,415.898 2151.86,413.808 2152.25,411.728 2152.64,409.657 2153.03,407.596 \n",
       "  2153.42,405.544 2153.81,403.502 2154.2,401.469 2154.59,399.445 2154.98,397.43 2155.37,395.425 2155.76,393.429 2156.15,391.441 2156.54,389.463 2156.93,387.494 \n",
       "  2157.32,385.533 2157.71,383.582 2158.1,381.639 2158.49,379.705 2158.88,377.78 2159.27,375.863 2159.66,373.955 2160.05,372.056 2160.44,370.165 2160.83,368.282 \n",
       "  2161.22,366.408 2161.61,364.542 2162,362.685 2162.39,360.836 2162.78,358.995 2163.18,357.163 2163.57,355.338 2163.96,353.522 2164.35,351.714 2164.74,349.914 \n",
       "  2165.13,348.122 2165.52,346.338 2165.91,344.562 2166.3,342.794 2166.69,341.033 2167.08,339.281 2167.47,337.536 2167.86,335.799 2168.25,334.07 2168.64,332.349 \n",
       "  2169.03,330.635 2169.42,328.929 2169.81,327.23 2170.2,325.539 2170.59,323.856 2170.98,322.18 2171.37,320.511 2171.76,318.85 2172.15,317.197 2172.54,315.55 \n",
       "  2172.93,313.912 2173.32,312.28 2173.71,310.656 2174.1,309.039 2174.49,307.429 2174.89,305.827 2175.28,304.232 2175.67,302.644 2176.06,301.063 2176.45,299.489 \n",
       "  2176.84,297.923 2177.23,296.363 2177.62,294.811 2178.01,293.265 2178.4,291.727 2178.79,290.195 2179.18,288.671 2179.57,287.153 2179.96,285.643 2180.35,284.139 \n",
       "  2180.74,282.643 2181.13,281.153 2181.52,279.67 2181.91,278.193 2182.3,276.724 2182.69,275.261 2183.08,273.805 2183.47,272.356 2183.86,270.914 2184.25,269.478 \n",
       "  2184.64,268.049 2185.03,266.627 2185.42,265.212 2185.81,263.803 2186.2,262.4 2186.6,261.005 2186.99,259.616 2187.38,258.233 2187.77,256.857 2188.16,255.488 \n",
       "  2188.55,254.125 2188.94,252.769 2189.33,251.419 2189.72,250.076 2190.11,248.739 2190.5,247.409 2190.89,246.085 2191.28,244.768 2191.67,243.457 2192.06,242.153 \n",
       "  2192.45,240.855 2192.84,239.563 2193.23,238.278 2193.62,236.999 2194.01,235.726 2194.4,234.46 2194.79,233.201 2195.18,231.947 2195.57,230.7 2195.96,229.459 \n",
       "  2196.35,228.225 2196.74,226.997 2197.13,225.775 2197.52,224.559 2197.91,223.35 2198.31,222.147 2198.7,220.951 2199.09,219.76 2199.48,218.576 2199.87,217.398 \n",
       "  2200.26,216.226 2200.65,215.061 2201.04,213.901 2201.43,212.748 2201.82,211.601 2202.21,210.461 2202.6,209.326 2202.99,208.198 2203.38,207.075 2203.77,205.959 \n",
       "  2204.16,204.85 2204.55,203.746 2204.94,202.648 2205.33,201.557 2205.72,200.472 2206.11,199.393 2206.5,198.32 2206.89,197.253 2207.28,196.192 2207.67,195.138 \n",
       "  2208.06,194.089 2208.45,193.047 2208.84,192.011 2209.23,190.98 2209.62,189.956 2210.02,188.938 2210.41,187.926 2210.8,186.921 2211.19,185.921 2211.58,184.927 \n",
       "  2211.97,183.94 2212.36,182.958 2212.75,181.983 2213.14,181.013 2213.53,180.05 2213.92,179.093 2214.31,178.142 2214.7,177.197 2215.09,176.257 2215.48,175.324 \n",
       "  2215.87,174.397 2216.26,173.477 2216.65,172.562 2217.04,171.653 2217.43,170.75 2217.82,169.853 2218.21,168.963 2218.6,168.078 2218.99,167.199 2219.38,166.327 \n",
       "  2219.77,165.46 2220.16,164.6 2220.55,163.745 2220.94,162.897 2221.33,162.054 2221.72,161.218 2222.12,160.387 2222.51,159.563 2222.9,158.745 2223.29,157.932 \n",
       "  2223.68,157.126 2224.07,156.326 2224.46,155.532 2224.85,154.743 2225.24,153.961 2225.63,153.185 2226.02,152.415 2226.41,151.651 2226.8,150.893 2227.19,150.141 \n",
       "  2227.58,149.395 2227.97,148.655 2228.36,147.921 2228.75,147.193 2229.14,146.471 2229.53,145.755 2229.92,145.045 2230.31,144.342 2230.7,143.644 2231.09,142.952 \n",
       "  2231.48,142.266 2231.87,141.587 2232.26,140.913 2232.65,140.245 2233.04,139.584 2233.43,138.928 2233.83,138.279 2234.22,137.635 2234.61,136.998 2235,136.366 \n",
       "  2235.39,135.741 2235.78,135.122 2236.17,134.509 2236.56,133.901 2236.95,133.3 2237.34,132.705 2237.73,132.116 2238.12,131.533 2238.51,130.956 2238.9,130.385 \n",
       "  2239.29,129.821 2239.68,129.262 2240.07,128.709 2240.46,128.162 2240.85,127.622 2241.24,127.087 2241.63,126.559 2242.02,126.037 2242.41,125.52 2242.8,125.01 \n",
       "  2243.19,124.506 2243.58,124.008 2243.97,123.516 2244.36,123.03 2244.75,122.55 2245.14,122.077 2245.54,121.609 2245.93,121.148 2246.32,120.692 2246.71,120.243 \n",
       "  2247.1,119.8 2247.49,119.363 2247.88,118.932 2248.27,118.507 2248.66,118.088 2249.05,117.675 2249.44,117.269 2249.83,116.868 2250.22,116.474 2250.61,116.086 \n",
       "  2251,115.703 2251.39,115.327 2251.78,114.958 2252.17,114.594 2252.56,114.236 2252.95,113.885 2253.34,113.54 2253.73,113.2 2254.12,112.867 2254.51,112.541 \n",
       "  2254.9,112.22 2255.29,111.905 2255.68,111.597 2256.07,111.295 2256.46,110.998 2256.85,110.709 2257.25,110.425 2257.64,110.147 2258.03,109.876 2258.42,109.61 \n",
       "  2258.81,109.351 2259.2,109.098 2259.59,108.852 2259.98,108.611 2260.37,108.377 2260.76,108.149 2261.15,107.927 2261.54,107.711 2261.93,107.501 2262.32,107.298 \n",
       "  2262.71,107.101 \n",
       "  \"/>\n",
       "<polygon clip-path=\"url(#clip5101)\" points=\"\n",
       "1816.63,251.724 2249.26,251.724 2249.26,130.764 1816.63,130.764 \n",
       "  \" fill=\"#ffffff\" fill-rule=\"evenodd\" fill-opacity=\"1\"/>\n",
       "<polyline clip-path=\"url(#clip5101)\" style=\"stroke:#000000; stroke-width:4; stroke-opacity:1; fill:none\" points=\"\n",
       "  1816.63,251.724 2249.26,251.724 2249.26,130.764 1816.63,130.764 1816.63,251.724 \n",
       "  \"/>\n",
       "<polyline clip-path=\"url(#clip5101)\" style=\"stroke:#009af9; stroke-width:4; stroke-opacity:1; fill:none\" points=\"\n",
       "  1840.63,191.244 1984.63,191.244 \n",
       "  \"/>\n",
       "<g clip-path=\"url(#clip5101)\">\n",
       "<text style=\"fill:#000000; fill-opacity:1; font-family:Arial,Helvetica Neue,Helvetica,sans-serif; font-size:48px; text-anchor:start;\" transform=\"rotate(0, 2008.63, 208.744)\" x=\"2008.63\" y=\"208.744\">Shoulder</text>\n",
       "</g>\n",
       "</svg>\n"
      ]
     },
     "execution_count": 11,
     "metadata": {},
     "output_type": "execute_result"
    }
   ],
   "source": [
    "shoulder_angles = collect(q[1] for q in qs)\n",
    "plot(ts, shoulder_angles, \n",
    "    xlabel = \"Time [s]\", \n",
    "    ylabel = \"Angle [rad]\", \n",
    "    label = \"Shoulder\")"
   ]
  },
  {
   "cell_type": "markdown",
   "metadata": {},
   "source": [
    "# The basic design of  `Mechanism` and `MechanismState`"
   ]
  },
  {
   "cell_type": "markdown",
   "metadata": {},
   "source": [
    "A `Mechanism` is an interconnection of rigid bodies and joints, without any state information:"
   ]
  },
  {
   "cell_type": "code",
   "execution_count": 12,
   "metadata": {},
   "outputs": [
    {
     "data": {
      "text/plain": [
       "4-element Array{RigidBody{Float64},1}:\n",
       " RigidBody: \"world\"     \n",
       " RigidBody: \"base_link\" \n",
       " RigidBody: \"upper_link\"\n",
       " RigidBody: \"lower_link\""
      ]
     },
     "execution_count": 12,
     "metadata": {},
     "output_type": "execute_result"
    }
   ],
   "source": [
    "bodies(doublependulum)"
   ]
  },
  {
   "cell_type": "code",
   "execution_count": 13,
   "metadata": {},
   "outputs": [
    {
     "data": {
      "text/plain": [
       "3-element Array{Joint{Float64,JT} where JT<:JointType{Float64},1}:\n",
       " Joint \"base_link_to_world\": Fixed joint                   \n",
       " Joint \"shoulder\": Revolute joint with axis [0.0, 1.0, 0.0]\n",
       " Joint \"elbow\": Revolute joint with axis [0.0, 1.0, 0.0]   "
      ]
     },
     "execution_count": 13,
     "metadata": {},
     "output_type": "execute_result"
    }
   ],
   "source": [
    "joints(doublependulum)"
   ]
  },
  {
   "cell_type": "markdown",
   "metadata": {},
   "source": [
    "You can unpack the list of joints into separate variables as follows:"
   ]
  },
  {
   "cell_type": "code",
   "execution_count": 14,
   "metadata": {},
   "outputs": [
    {
     "name": "stdout",
     "output_type": "stream",
     "text": [
      "fixedjoint = Joint \"base_link_to_world\": Fixed joint\n",
      "shoulder = Joint \"shoulder\": Revolute joint with axis [0.0, 1.0, 0.0]\n",
      "elbow = Joint \"elbow\": Revolute joint with axis [0.0, 1.0, 0.0]\n"
     ]
    }
   ],
   "source": [
    "fixedjoint, shoulder, elbow = joints(doublependulum)\n",
    "@show fixedjoint shoulder elbow;"
   ]
  },
  {
   "cell_type": "markdown",
   "metadata": {},
   "source": [
    "A `MechanismState` has all the state information, e.g. the configurations and velocities of all the joints:"
   ]
  },
  {
   "cell_type": "code",
   "execution_count": 15,
   "metadata": {},
   "outputs": [
    {
     "name": "stdout",
     "output_type": "stream",
     "text": [
      "q = [0.969077, -1.51322]\n",
      "v = [0.293823, 0.0921139]\n"
     ]
    }
   ],
   "source": [
    "q = configuration(state)\n",
    "v = velocity(state)\n",
    "@show q v;"
   ]
  },
  {
   "cell_type": "markdown",
   "metadata": {},
   "source": [
    "You can index into these vectors either using integer indices:"
   ]
  },
  {
   "cell_type": "code",
   "execution_count": 16,
   "metadata": {},
   "outputs": [
    {
     "data": {
      "text/plain": [
       "0.9690765278985404"
      ]
     },
     "execution_count": 16,
     "metadata": {},
     "output_type": "execute_result"
    }
   ],
   "source": [
    "q[1]"
   ]
  },
  {
   "cell_type": "markdown",
   "metadata": {},
   "source": [
    "But also using joints:"
   ]
  },
  {
   "cell_type": "code",
   "execution_count": 17,
   "metadata": {},
   "outputs": [
    {
     "data": {
      "text/plain": [
       "1-element view(::Array{Float64,1}, 1:1) with eltype Float64:\n",
       " 0.9690765278985404"
      ]
     },
     "execution_count": 17,
     "metadata": {},
     "output_type": "execute_result"
    }
   ],
   "source": [
    "q[shoulder]"
   ]
  },
  {
   "cell_type": "markdown",
   "metadata": {},
   "source": [
    "A `MechanismState` also has various cached computation results meant to reduce double work while computing various kinematic/dynamic quantities."
   ]
  },
  {
   "cell_type": "markdown",
   "metadata": {},
   "source": [
    "# Kinematics"
   ]
  },
  {
   "cell_type": "markdown",
   "metadata": {},
   "source": [
    "Many objects have frame annotations in the form of `CartesianFrame3D` objects:"
   ]
  },
  {
   "cell_type": "code",
   "execution_count": 18,
   "metadata": {},
   "outputs": [
    {
     "data": {
      "text/plain": [
       "CartesianFrame3D: \"after_elbow\" (id = 8)"
      ]
     },
     "execution_count": 18,
     "metadata": {},
     "output_type": "execute_result"
    }
   ],
   "source": [
    "frame_after(elbow)"
   ]
  },
  {
   "cell_type": "code",
   "execution_count": 19,
   "metadata": {},
   "outputs": [],
   "source": [
    "setelement!(vis, frame_after(elbow));"
   ]
  },
  {
   "cell_type": "code",
   "execution_count": 20,
   "metadata": {},
   "outputs": [
    {
     "data": {
      "text/plain": [
       "CartesianFrame3D: \"before_shoulder\" (id = 4)"
      ]
     },
     "execution_count": 20,
     "metadata": {},
     "output_type": "execute_result"
    }
   ],
   "source": [
    "frame_before(shoulder)"
   ]
  },
  {
   "cell_type": "code",
   "execution_count": 21,
   "metadata": {},
   "outputs": [],
   "source": [
    "setelement!(vis, frame_before(shoulder));"
   ]
  },
  {
   "cell_type": "markdown",
   "metadata": {},
   "source": [
    "Here's how you create a point in the frame after the elbow joint:"
   ]
  },
  {
   "cell_type": "code",
   "execution_count": 22,
   "metadata": {},
   "outputs": [
    {
     "data": {
      "text/plain": [
       "Point3D in \"after_elbow\": [0.0, 0.0, -2.0]"
      ]
     },
     "execution_count": 22,
     "metadata": {},
     "output_type": "execute_result"
    }
   ],
   "source": [
    "p = Point3D(frame_after(elbow), 0.0, 0.0, -2.0)"
   ]
  },
  {
   "cell_type": "code",
   "execution_count": 23,
   "metadata": {},
   "outputs": [],
   "source": [
    "radius = 0.1\n",
    "setelement!(vis, p, radius, \"tip\");"
   ]
  },
  {
   "cell_type": "markdown",
   "metadata": {},
   "source": [
    "Transform it to world frame in the current state:"
   ]
  },
  {
   "cell_type": "code",
   "execution_count": 24,
   "metadata": {},
   "outputs": [
    {
     "data": {
      "text/plain": [
       "Point3D in \"world\": [0.211004, 0.25, -2.27721]"
      ]
     },
     "execution_count": 24,
     "metadata": {},
     "output_type": "execute_result"
    }
   ],
   "source": [
    "p = transform(state, p, root_frame(doublependulum))"
   ]
  },
  {
   "cell_type": "markdown",
   "metadata": {},
   "source": [
    "Now suppose we have a displacement we defined in `elbow.frameAfter`:"
   ]
  },
  {
   "cell_type": "code",
   "execution_count": 25,
   "metadata": {},
   "outputs": [
    {
     "data": {
      "text/plain": [
       "FreeVector3D in \"after_elbow\": [2.0, 3.0, 4.0]"
      ]
     },
     "execution_count": 25,
     "metadata": {},
     "output_type": "execute_result"
    }
   ],
   "source": [
    "displacement = FreeVector3D(frame_after(elbow), 2., 3., 4.)"
   ]
  },
  {
   "cell_type": "markdown",
   "metadata": {},
   "source": [
    "and we want to add it to `p`:"
   ]
  },
  {
   "cell_type": "code",
   "execution_count": 26,
   "metadata": {},
   "outputs": [
    {
     "name": "stdout",
     "output_type": "stream",
     "text": [
      "failed!\n"
     ]
    },
    {
     "data": {
      "text/plain": [
       "ArgumentError(\"p.frame: \\\"world\\\" (id = 0) ≠ v.frame: \\\"after_elbow\\\" (id = 8)\")"
      ]
     },
     "execution_count": 26,
     "metadata": {},
     "output_type": "execute_result"
    }
   ],
   "source": [
    "try\n",
    "    p + displacement\n",
    "catch err\n",
    "    println(\"failed!\")\n",
    "    err\n",
    "end"
   ]
  },
  {
   "cell_type": "markdown",
   "metadata": {},
   "source": [
    "**Exercise for the reader:** How can you fix this? "
   ]
  },
  {
   "cell_type": "markdown",
   "metadata": {},
   "source": [
    "You can also ask for the homogeneous transform to world:"
   ]
  },
  {
   "cell_type": "code",
   "execution_count": 27,
   "metadata": {},
   "outputs": [
    {
     "data": {
      "text/plain": [
       "Transform3D from \"after_elbow\" to \"world\":\n",
       "rotation: 0.5441416196451527 rad about [9.04587e-63, -1.0, 0.0], translation: [-0.824363, 0.25, -0.566061]"
      ]
     },
     "execution_count": 27,
     "metadata": {},
     "output_type": "execute_result"
    }
   ],
   "source": [
    "T = transform_to_root(state, frame_after(elbow))"
   ]
  },
  {
   "cell_type": "markdown",
   "metadata": {},
   "source": [
    "Or a relative transform:"
   ]
  },
  {
   "cell_type": "code",
   "execution_count": 28,
   "metadata": {},
   "outputs": [
    {
     "data": {
      "text/plain": [
       "Transform3D from \"after_elbow\" to \"after_shoulder\":\n",
       "rotation: 1.513218147543693 rad about [3.54116e-63, -1.0, 0.0], translation: [0.0, 0.1, -1.0]"
      ]
     },
     "execution_count": 28,
     "metadata": {},
     "output_type": "execute_result"
    }
   ],
   "source": [
    "relative_transform(state, frame_after(elbow), frame_after(shoulder))"
   ]
  },
  {
   "cell_type": "markdown",
   "metadata": {},
   "source": [
    "Here's the center of mass of the double pendulum in the given state:"
   ]
  },
  {
   "cell_type": "code",
   "execution_count": 29,
   "metadata": {},
   "outputs": [
    {
     "data": {
      "text/plain": [
       "Point3D in \"world\": [-0.359431, 0.2, -0.852332]"
      ]
     },
     "execution_count": 29,
     "metadata": {},
     "output_type": "execute_result"
    }
   ],
   "source": [
    "center_of_mass(state)"
   ]
  },
  {
   "cell_type": "markdown",
   "metadata": {},
   "source": [
    "Motion between bodies is represented using `Twist`s:"
   ]
  },
  {
   "cell_type": "code",
   "execution_count": 30,
   "metadata": {},
   "outputs": [
    {
     "data": {
      "text/plain": [
       "Twist of \"after_elbow\" w.r.t \"before_shoulder\" in \"world\":\n",
       "angular: [0.0, 0.385937, 0.0], linear: [0.0521421, 0.0, -0.0759353]"
      ]
     },
     "execution_count": 30,
     "metadata": {},
     "output_type": "execute_result"
    }
   ],
   "source": [
    "twist = relative_twist(state, frame_after(elbow), frame_before(shoulder))"
   ]
  },
  {
   "cell_type": "markdown",
   "metadata": {},
   "source": [
    "And you can transform these to a different frame in similar fashion:"
   ]
  },
  {
   "cell_type": "code",
   "execution_count": 31,
   "metadata": {},
   "outputs": [
    {
     "data": {
      "text/plain": [
       "Twist of \"after_elbow\" w.r.t \"before_shoulder\" in \"after_elbow\":\n",
       "angular: [0.0, 0.385937, 0.0], linear: [-0.0169085, 0.0, 0.293336]"
      ]
     },
     "execution_count": 31,
     "metadata": {},
     "output_type": "execute_result"
    }
   ],
   "source": [
    "transform(state, twist, frame_after(elbow))"
   ]
  },
  {
   "cell_type": "markdown",
   "metadata": {},
   "source": [
    "# Dynamics"
   ]
  },
  {
   "cell_type": "markdown",
   "metadata": {},
   "source": [
    "A `MechanismState` can also be used to compute quantities related to the dynamics of the `Mechanism`. Here we compute the mass matrix:"
   ]
  },
  {
   "cell_type": "code",
   "execution_count": 32,
   "metadata": {
    "scrolled": true
   },
   "outputs": [
    {
     "data": {
      "text/plain": [
       "2×2 LinearAlgebra.Symmetric{Float64,Array{Float64,2}}:\n",
       " 2.77809  1.38755\n",
       " 1.38755  1.33   "
      ]
     },
     "execution_count": 32,
     "metadata": {},
     "output_type": "execute_result"
    }
   ],
   "source": [
    "M = mass_matrix(state)"
   ]
  },
  {
   "cell_type": "markdown",
   "metadata": {},
   "source": [
    "Here's the documentation for `mass_matrix` by the way:"
   ]
  },
  {
   "cell_type": "code",
   "execution_count": 33,
   "metadata": {},
   "outputs": [
    {
     "name": "stdout",
     "output_type": "stream",
     "text": [
      "search: \u001b[0m\u001b[1mm\u001b[22m\u001b[0m\u001b[1ma\u001b[22m\u001b[0m\u001b[1ms\u001b[22m\u001b[0m\u001b[1ms\u001b[22m\u001b[0m\u001b[1m_\u001b[22m\u001b[0m\u001b[1mm\u001b[22m\u001b[0m\u001b[1ma\u001b[22m\u001b[0m\u001b[1mt\u001b[22m\u001b[0m\u001b[1mr\u001b[22m\u001b[0m\u001b[1mi\u001b[22m\u001b[0m\u001b[1mx\u001b[22m \u001b[0m\u001b[1mm\u001b[22m\u001b[0m\u001b[1ma\u001b[22m\u001b[0m\u001b[1ms\u001b[22m\u001b[0m\u001b[1ms\u001b[22m\u001b[0m\u001b[1m_\u001b[22m\u001b[0m\u001b[1mm\u001b[22m\u001b[0m\u001b[1ma\u001b[22m\u001b[0m\u001b[1mt\u001b[22m\u001b[0m\u001b[1mr\u001b[22m\u001b[0m\u001b[1mi\u001b[22m\u001b[0m\u001b[1mx\u001b[22m!\n",
      "\n"
     ]
    },
    {
     "data": {
      "text/latex": [
       "\\begin{verbatim}\n",
       "mass_matrix(state)\n",
       "\n",
       "\\end{verbatim}\n",
       "Compute the joint-space mass matrix (also known as the inertia matrix) of the \\texttt{Mechanism} in the given state, i.e., the matrix $M(q)$ in the unconstrained joint-space equations of motion\n",
       "\n",
       "$$M(q) \\dot{v} + c(q, v, w_\\text{ext}) = \\tau$$\n",
       "This method implements the composite rigid body algorithm.\n",
       "\n"
      ],
      "text/markdown": [
       "```julia\n",
       "mass_matrix(state)\n",
       "\n",
       "```\n",
       "\n",
       "Compute the joint-space mass matrix (also known as the inertia matrix) of the `Mechanism` in the given state, i.e., the matrix $M(q)$ in the unconstrained joint-space equations of motion\n",
       "\n",
       "$$\n",
       "M(q) \\dot{v} + c(q, v, w_\\text{ext}) = \\tau\n",
       "$$\n",
       "\n",
       "This method implements the composite rigid body algorithm.\n"
      ],
      "text/plain": [
       "\u001b[36m  mass_matrix(state)\u001b[39m\n",
       "\u001b[36m  \u001b[39m\n",
       "\n",
       "  Compute the joint-space mass matrix (also known as the inertia matrix) of\n",
       "  the \u001b[36mMechanism\u001b[39m in the given state, i.e., the matrix \u001b[35mM(q)\u001b[39m in the unconstrained\n",
       "  joint-space equations of motion\n",
       "\n",
       "\u001b[35mM(q) \\dot{v} + c(q, v, w_\\text{ext}) = \\tau\u001b[39m\n",
       "\n",
       "  This method implements the composite rigid body algorithm."
      ]
     },
     "execution_count": 33,
     "metadata": {},
     "output_type": "execute_result"
    }
   ],
   "source": [
    "?mass_matrix"
   ]
  },
  {
   "cell_type": "markdown",
   "metadata": {},
   "source": [
    "Note that there is also a zero-allocation version, `mass_matrix!`:"
   ]
  },
  {
   "cell_type": "code",
   "execution_count": 34,
   "metadata": {},
   "outputs": [
    {
     "data": {
      "text/plain": [
       "2×2 LinearAlgebra.Symmetric{Float64,Array{Float64,2}}:\n",
       " 2.77809  1.38755\n",
       " 1.38755  1.33   "
      ]
     },
     "execution_count": 34,
     "metadata": {},
     "output_type": "execute_result"
    }
   ],
   "source": [
    "mass_matrix!(M, state)"
   ]
  },
  {
   "cell_type": "markdown",
   "metadata": {},
   "source": [
    "(the `!` at the end of a method is a Julia convention signifying that the function is 'in-place', i.e. modifies its input data)"
   ]
  },
  {
   "cell_type": "code",
   "execution_count": 35,
   "metadata": {},
   "outputs": [
    {
     "name": "stdout",
     "output_type": "stream",
     "text": [
      "  520.528 ns (0 allocations: 0 bytes)\n"
     ]
    },
    {
     "data": {
      "text/plain": [
       "2×2 LinearAlgebra.Symmetric{Float64,Array{Float64,2}}:\n",
       " 2.77809  1.38755\n",
       " 1.38755  1.33   "
      ]
     },
     "execution_count": 35,
     "metadata": {},
     "output_type": "execute_result"
    }
   ],
   "source": [
    "using BenchmarkTools\n",
    "@btime (setdirty!($state); mass_matrix!($M, $state))"
   ]
  },
  {
   "cell_type": "markdown",
   "metadata": {},
   "source": [
    "*Note*: see http://www.juliarobotics.org/RigidBodyDynamics.jl/stable/benchmarks.html for tips on how to get maximal performance."
   ]
  },
  {
   "cell_type": "markdown",
   "metadata": {},
   "source": [
    "We can do inverse dynamics as follows (note again that there is a non-allocating version of this method as well):"
   ]
  },
  {
   "cell_type": "code",
   "execution_count": 36,
   "metadata": {},
   "outputs": [
    {
     "name": "stdout",
     "output_type": "stream",
     "text": [
      "τ = [16.8334, 1.60042]\n"
     ]
    }
   ],
   "source": [
    "v̇ = similar(velocity(state))\n",
    "v̇ .= [2.; 3.] # the joint acceleration vector, i.e., the time derivative of the joint velocity vector v\n",
    "τ = inverse_dynamics(state, v̇)\n",
    "@show τ;"
   ]
  },
  {
   "cell_type": "markdown",
   "metadata": {},
   "source": [
    "For forward dynamics, one first creates a `DynamicsResult` object, which preallocates a bunch of stuff:"
   ]
  },
  {
   "cell_type": "code",
   "execution_count": 37,
   "metadata": {},
   "outputs": [],
   "source": [
    "result = DynamicsResult{Float64}(doublependulum);"
   ]
  },
  {
   "cell_type": "code",
   "execution_count": 38,
   "metadata": {},
   "outputs": [],
   "source": [
    "dynamics!(result, state)"
   ]
  },
  {
   "cell_type": "code",
   "execution_count": 39,
   "metadata": {},
   "outputs": [
    {
     "name": "stdout",
     "output_type": "stream",
     "text": [
      "result.v̇ = [-9.3969, 13.6867]\n"
     ]
    }
   ],
   "source": [
    "@show result.v̇;"
   ]
  },
  {
   "cell_type": "markdown",
   "metadata": {},
   "source": [
    "# Combining RigidBodyDynamics with Other Tools\n",
    "\n",
    "RigidBodyDynamics.jl is a good component for robotics development, but it becomes much more useful when we compose it with other Julia tools. Julia makes it very easy to create generic types and functions that work well with types and functions from other packages to create new behaviors. \n",
    "\n",
    "To demonstrate this flexibility, we'll try doing the following:\n",
    "\n",
    "* Computing symbolic quantities with SymPy.jl\n",
    "* Revisiting automatic differentiation with ForwardDiff.jl\n",
    "* Propagating uncertainty with Measurements.jl (see the next notebook)"
   ]
  },
  {
   "cell_type": "markdown",
   "metadata": {},
   "source": [
    "## Symbolic Quantities\n",
    "\n",
    "We can get symbolic representations of the kinematics and dynamics of a robot by simply constructing an appropriate mechanism or state. In this case, we'll use [SymPy.jl](https://github.com/JuliaPy/SymPy.jl) which is simply a nice Julia wrapper around the SymPy Python package. "
   ]
  },
  {
   "cell_type": "markdown",
   "metadata": {},
   "source": [
    "## Setup"
   ]
  },
  {
   "cell_type": "markdown",
   "metadata": {},
   "source": [
    "SymPy is a wrapper around a Python package, and installing Python packages can be [complicated](https://xkcd.com/1987/). If SymPy plays poorly with your current Python installation, you can ask Julia to use a private, self-contained version of Python powered by [Conda](https://github.com/JuliaPy/Conda.jl). To do that, you can just run: "
   ]
  },
  {
   "cell_type": "code",
   "execution_count": 40,
   "metadata": {},
   "outputs": [
    {
     "name": "stdout",
     "output_type": "stream",
     "text": [
      "\u001b[32m\u001b[1m  Building\u001b[22m\u001b[39m SpecialFunctions → `~/.julia/packages/SpecialFunctions/fvheQ/deps/build.log`\n",
      "\u001b[32m\u001b[1m  Building\u001b[22m\u001b[39m Conda ───────────→ `~/.julia/packages/Conda/uQitS/deps/build.log`\n",
      "\u001b[32m\u001b[1m  Building\u001b[22m\u001b[39m PyCall ──────────→ `~/.julia/packages/PyCall/0jMpb/deps/build.log`\n"
     ]
    }
   ],
   "source": [
    "# Make SymPy use version of Python downloaded through Julia's package system instead of system Python\n",
    "ENV[\"PYTHON\"]=\"\"\n",
    "Pkg.build(\"SymPy\")"
   ]
  },
  {
   "cell_type": "markdown",
   "metadata": {},
   "source": [
    "With Python successfully self-contained, we can now import the SymPy.jl package:"
   ]
  },
  {
   "cell_type": "code",
   "execution_count": 41,
   "metadata": {},
   "outputs": [
    {
     "name": "stderr",
     "output_type": "stream",
     "text": [
      "┌ Info: Recompiling stale cache file /home/rdeits/.julia/compiled/v1.0/SymPy/KzewI.ji for SymPy [24249f21-da20-56a4-8eb1-6a02cf4ae2e6]\n",
      "└ @ Base loading.jl:1190\n",
      "WARNING: using SymPy.transform in module Main conflicts with an existing identifier.\n"
     ]
    }
   ],
   "source": [
    "using SymPy"
   ]
  },
  {
   "cell_type": "markdown",
   "metadata": {},
   "source": [
    "To get a symbolic expression for the mass matrix of the double pendulum in terms of its configuration and velociy, we simply need to create symbolic quantities for q and v: "
   ]
  },
  {
   "cell_type": "code",
   "execution_count": 42,
   "metadata": {},
   "outputs": [
    {
     "data": {
      "text/plain": [
       "(v1, v2)"
      ]
     },
     "execution_count": 42,
     "metadata": {},
     "output_type": "execute_result"
    }
   ],
   "source": [
    "@syms q1 q2 real=true\n",
    "@syms v1 v2 real=true"
   ]
  },
  {
   "cell_type": "code",
   "execution_count": 43,
   "metadata": {},
   "outputs": [
    {
     "data": {
      "text/latex": [
       "\\begin{bmatrix}2.0 \\cos{\\left (q_{2} \\right )} + 2.663&1.0 \\cos{\\left (q_{2} \\right )} + 1.33\\\\1.0 \\cos{\\left (q_{2} \\right )} + 1.33&1.33\\end{bmatrix}"
      ],
      "text/plain": [
       "2×2 Array{Sym,2}:\n",
       " 2.0*cos(q2) + 2.663  1.0*cos(q2) + 1.33\n",
       "  1.0*cos(q2) + 1.33    1.33000000000000"
      ]
     },
     "execution_count": 43,
     "metadata": {},
     "output_type": "execute_result"
    }
   ],
   "source": [
    "q = [q1, q2]\n",
    "v = [v1, v2]\n",
    "\n",
    "simplify.(mass_matrix(MechanismState(doublependulum, q, v)))"
   ]
  },
  {
   "cell_type": "markdown",
   "metadata": {},
   "source": [
    "*Note*: you can also have symbolic parameters (masses, lengths, etc.). See [this notebook](https://github.com/JuliaRobotics/RigidBodyDynamics.jl/blob/master/notebooks/Symbolic%20double%20pendulum.ipynb)."
   ]
  },
  {
   "cell_type": "markdown",
   "metadata": {},
   "source": [
    "## Automatic Differentiation\n",
    "\n",
    "A very common task in robotics is computing the derivative, gradient, or Jacobian of some quantity with respect to some other quantity. \n",
    "\n",
    "For example, suppose we want the Jacobian of momentum with respect to the joint velocity vector $v$. We can do this using the `ForwardDiff.Dual` type and the `ForwardDiff.jacobian` function.\n",
    "\n",
    "First, we need to write a function that computes the quantity we're interested in, as a function of $v$: "
   ]
  },
  {
   "cell_type": "code",
   "execution_count": 51,
   "metadata": {},
   "outputs": [
    {
     "data": {
      "text/plain": [
       "mom (generic function with 1 method)"
      ]
     },
     "execution_count": 51,
     "metadata": {},
     "output_type": "execute_result"
    }
   ],
   "source": [
    "using StaticArrays: SVector\n",
    "\n",
    "q = configuration(state)\n",
    "v = velocity(state)\n",
    "\n",
    "function mom(v::AbstractVector)\n",
    "    # create a `MechanismState` that can handle the element type of `v` (which will be some `ForwardDiff.Dual`):\n",
    "    state = MechanismState{eltype(v)}(doublependulum)\n",
    "    \n",
    "    # set the state variables:\n",
    "    set_configuration!(state, q)\n",
    "    set_velocity!(state, v)\n",
    "    \n",
    "    # return momentum converted to an array-like representaton. \n",
    "    # In this case, we'll use an SVector from StaticArrays.jl,\n",
    "    # which is an extremely efficient fixed-size vector. \n",
    "    SVector(momentum(state))\n",
    "end"
   ]
  },
  {
   "cell_type": "markdown",
   "metadata": {},
   "source": [
    "First, let's test `mom()` against the existing `momentum` function: "
   ]
  },
  {
   "cell_type": "code",
   "execution_count": 53,
   "metadata": {},
   "outputs": [
    {
     "data": {
      "text/plain": [
       "\u001b[32m\u001b[1mTest Passed\u001b[22m\u001b[39m"
      ]
     },
     "execution_count": 53,
     "metadata": {},
     "output_type": "execute_result"
    }
   ],
   "source": [
    "@test mom(v) == SVector(momentum(state))"
   ]
  },
  {
   "cell_type": "markdown",
   "metadata": {},
   "source": [
    "Computing the Jacobian is just a matter of calling `ForwardDiff.jacobian`: "
   ]
  },
  {
   "cell_type": "code",
   "execution_count": 54,
   "metadata": {},
   "outputs": [],
   "source": [
    "using ForwardDiff"
   ]
  },
  {
   "cell_type": "code",
   "execution_count": 55,
   "metadata": {},
   "outputs": [
    {
     "data": {
      "text/plain": [
       "6×2 Array{Float64,2}:\n",
       "  0.138497  -0.129421\n",
       "  2.77809    1.38755 \n",
       "  0.397863   0.213893\n",
       " -1.70466   -0.855572\n",
       "  0.0        0.0     \n",
       "  0.718861  -0.517684"
      ]
     },
     "execution_count": 55,
     "metadata": {},
     "output_type": "execute_result"
    }
   ],
   "source": [
    "J = ForwardDiff.jacobian(mom, v)"
   ]
  },
  {
   "cell_type": "markdown",
   "metadata": {},
   "source": [
    "At this point we note that the matrix $J$ is simply the momentum matrix (in world frame) of the Mechanism. In this case, [RigidBodyDynamics.jl](https://github.com/JuliaRobotics/RigidBodyDynamics.jl) has a specialized algorithm for computing this matrix, so let's verify the results:"
   ]
  },
  {
   "cell_type": "code",
   "execution_count": 56,
   "metadata": {},
   "outputs": [
    {
     "data": {
      "text/plain": [
       "\u001b[32m\u001b[1mTest Passed\u001b[22m\u001b[39m"
      ]
     },
     "execution_count": 56,
     "metadata": {},
     "output_type": "execute_result"
    }
   ],
   "source": [
    "@test J ≈ Array(momentum_matrix(state)) atol = 1e-12"
   ]
  },
  {
   "cell_type": "markdown",
   "metadata": {},
   "source": [
    "### Improving Performance\n",
    "\n",
    "The naive implementation of `mom()` above will be somewhat slow, in part because it will construct a brand-new MechanismState every time. To learn more about improving performance of ForwardDiff with RigidBodyDynamics, see: https://github.com/JuliaRobotics/RigidBodyDynamics.jl/blob/master/notebooks/Derivatives%20and%20gradients%20using%20ForwardDiff.ipynb"
   ]
  },
  {
   "cell_type": "markdown",
   "metadata": {},
   "source": [
    "Now we've covered symbolics and autodiff. For a demonstration of uncertainty propagation, check out the next notebook..."
   ]
  },
  {
   "cell_type": "markdown",
   "metadata": {},
   "source": [
    "# More info"
   ]
  },
  {
   "cell_type": "markdown",
   "metadata": {},
   "source": [
    "Documentation is available at http://www.juliarobotics.org/RigidBodyDynamics.jl/stable/.\n",
    "\n",
    "More example notebooks can be found [here](https://github.com/JuliaRobotics/RigidBodyDynamics.jl/tree/master/notebooks). These examples include:\n",
    "\n",
    "* creating a four-bar linkage (kinematic loops implemented using Lagrange multipliers)\n",
    "* basic simulation with a controller in the loop (but see [RigidBodySim.jl](https://github.com/JuliaRobotics/RigidBodySim.jl) for a more full-fledged implementation).\n",
    "* computing guaranteed error bounds by combining RigidBodyDynamics.jl with [IntervalArithmetic.jl](https://github.com/JuliaIntervals/IntervalArithmetic.jl)."
   ]
  }
 ],
 "metadata": {
  "@webio": {
   "lastCommId": "b0bb00156582470489e6954f6d49be7a",
   "lastKernelId": "2a0110eb-44eb-4ae5-8bca-b44ecc0761f1"
  },
  "kernelspec": {
   "display_name": "Julia 1.0.2",
   "language": "julia",
   "name": "julia-1.0"
  },
  "language_info": {
   "file_extension": ".jl",
   "mimetype": "application/julia",
   "name": "julia",
   "version": "1.0.2"
  }
 },
 "nbformat": 4,
 "nbformat_minor": 1
}
