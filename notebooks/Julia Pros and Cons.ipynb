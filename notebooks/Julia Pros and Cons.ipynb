{
 "cells": [
  {
   "cell_type": "markdown",
   "metadata": {},
   "source": [
    "# Pros and Cons of Julia\n",
    "\n",
    "Hopefully by now you believe us that:\n",
    "\n",
    "* Julia is fast\n",
    "* Julia is expressive and powerful\n",
    "* There is a great ecosystem of packages which are easy to install and build upon\n",
    "* You can just write code without worrying about your build system\n",
    "\n",
    "But for the sake of fairness, we should mention a few caveats:\n",
    "\n",
    "* While you can precompile parts of your code, complete ahead-of-time compilation is difficult\n",
    "* Real-time performance would require working around the garbage collector, which we don't have experience doing\n",
    "* The language is still very young, and things *will* change before we get to Julia 1.0"
   ]
  }
 ],
 "metadata": {
  "@webio": {
   "lastCommId": "1e42ce9276dc4eaf90b5ff11d478417d",
   "lastKernelId": "62cfe794-ff5b-4f58-ba1a-32fbe9dc1467"
  },
  "kernelspec": {
   "display_name": "Julia 1.0.2",
   "language": "julia",
   "name": "julia-1.0"
  },
  "language_info": {
   "file_extension": ".jl",
   "mimetype": "application/julia",
   "name": "julia",
   "version": "1.0.2"
  }
 },
 "nbformat": 4,
 "nbformat_minor": 2
}
