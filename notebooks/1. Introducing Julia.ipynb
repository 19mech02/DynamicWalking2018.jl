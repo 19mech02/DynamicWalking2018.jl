{
 "cells": [
  {
   "cell_type": "markdown",
   "metadata": {},
   "source": [
    "# Introducing Julia\n",
    "\n",
    "Julia is a fast, dynamic language designed for numerical and scientific computing. Julia's syntax is superficially similar to Python, MATLAB, and other familiar languages, but its sophisticated compiler is able to produce native code with similar performance to C and FORTRAN.\n",
    "\n",
    "### Julia is...\n",
    "\n",
    "* Fast. We'll try to show that later on. \n",
    "* Free. That means you are free to do whatever you want with Julia (including developing proprietary tools) forever. \n",
    "* Open-Source: The source code for Julia itself is available at https://github.com/julialang/julia and the source code for all of the packages used in this demo can be found on Github as well. \n",
    "\n",
    "\n",
    "### Julia is *not*...\n",
    "\n",
    "* ROS. Nor is Julia a complete solution for robotics development. It's a programming language that makes it easier to create the tools you need, but it doesn't have all those tools yet. We're working on it! \n",
    "* Object-Oriented. Julia uses *multiple dispatch* to organize functions and behaviors. \n",
    "\n",
    "\n",
    "## Getting Julia\n",
    "\n",
    "You can install Julia from <https://julialang.org/downloads/>. This document was designed with Julia v0.6.2 in mind, but should work correctly with any 0.6.x version. \n",
    "\n",
    "## Starting Julia\n",
    "\n",
    "On Mac or Windows, just run the \"Julia\" executable. On Linux, you can run the `julia` binary or [add it to your path](https://julialang.org/downloads/platform.html#generic-linux-binaries). At startup, you will see the Julia REPL, where you can run Julia commands: \n",
    "\n",
    "![Julia REPL in terminal](img/julia-repl.png)\n",
    "\n",
    "## Other Julia Environments\n",
    "\n",
    "For a more full-featured Julia environment, check out: \n",
    "\n",
    "### Julia IDEs\n",
    "\n",
    "* Juno: A Julia IDE built on top of Atom: http://junolab.org/\n",
    "* Julia-VSCode: A Julia IDE plugin for the VSCode editor: https://github.com/JuliaEditorSupport/julia-vscode\n",
    "* Julia Pro: A self-contained professional Julia environment and IDE: https://juliacomputing.com/products/juliapro.html\n",
    "\n",
    "### Jupyter Support\n",
    "\n",
    "Julia works very well in [Jupyter notebooks](http://jupyter.org/). In fact, this document was created using Julia in a Jupyter notebook. To use Julia with Jupyter, you will need the [IJulia](https://github.com/JuliaLang/IJulia.jl) package. "
   ]
  },
  {
   "cell_type": "markdown",
   "metadata": {},
   "source": [
    "# Using Julia\n",
    "\n",
    "Basic Julia operations will look familiar to those with MATLAB or Python experience:"
   ]
  },
  {
   "cell_type": "code",
   "execution_count": 1,
   "metadata": {},
   "outputs": [
    {
     "data": {
      "text/plain": [
       "4"
      ]
     },
     "execution_count": 1,
     "metadata": {},
     "output_type": "execute_result"
    }
   ],
   "source": [
    "2 + 2"
   ]
  },
  {
   "cell_type": "code",
   "execution_count": 2,
   "metadata": {},
   "outputs": [
    {
     "name": "stdout",
     "output_type": "stream",
     "text": [
      "hello world\n"
     ]
    }
   ],
   "source": [
    "println(\"hello world\")"
   ]
  },
  {
   "cell_type": "markdown",
   "metadata": {},
   "source": [
    "# Arrays\n",
    "\n",
    "Julia has built-in support for arrays with arbitrary element types and arbitrary numbers of dimensions:"
   ]
  },
  {
   "cell_type": "code",
   "execution_count": 3,
   "metadata": {},
   "outputs": [
    {
     "data": {
      "text/plain": [
       "3-element Array{Int64,1}:\n",
       " 1\n",
       " 2\n",
       " 3"
      ]
     },
     "execution_count": 3,
     "metadata": {},
     "output_type": "execute_result"
    }
   ],
   "source": [
    "# Vectors:\n",
    "\n",
    "x = [1, 2, 3]"
   ]
  },
  {
   "cell_type": "code",
   "execution_count": 4,
   "metadata": {},
   "outputs": [
    {
     "data": {
      "text/plain": [
       "2×2 Array{Int64,2}:\n",
       " 1  2\n",
       " 3  4"
      ]
     },
     "execution_count": 4,
     "metadata": {},
     "output_type": "execute_result"
    }
   ],
   "source": [
    "# Matrices:\n",
    "\n",
    "x = [1 2\n",
    "     3 4]"
   ]
  },
  {
   "cell_type": "code",
   "execution_count": 5,
   "metadata": {},
   "outputs": [
    {
     "data": {
      "text/plain": [
       "2×2×2 Array{Float64,3}:\n",
       "[:, :, 1] =\n",
       " 0.0586247  0.82395 \n",
       " 0.84538    0.959489\n",
       "\n",
       "[:, :, 2] =\n",
       " 0.814861  0.637902\n",
       " 0.396143  0.404192"
      ]
     },
     "execution_count": 5,
     "metadata": {},
     "output_type": "execute_result"
    }
   ],
   "source": [
    "# N-dimensional arrays:\n",
    "\n",
    "x = rand(2, 2, 2)"
   ]
  },
  {
   "cell_type": "markdown",
   "metadata": {},
   "source": [
    "Indexing and slicing arrays is also easy. Julia's Array type uses a 1-based index (like FORTRAN and MATLAB) and stores its entries in column-major order (like FORTRAN and MATLAB). "
   ]
  },
  {
   "cell_type": "code",
   "execution_count": 6,
   "metadata": {},
   "outputs": [
    {
     "data": {
      "text/plain": [
       "1"
      ]
     },
     "execution_count": 6,
     "metadata": {},
     "output_type": "execute_result"
    }
   ],
   "source": [
    "x = [1 2\n",
    "     3 4]\n",
    "\n",
    "x[1, 1]"
   ]
  },
  {
   "cell_type": "code",
   "execution_count": 7,
   "metadata": {},
   "outputs": [
    {
     "data": {
      "text/plain": [
       "2-element Array{Int64,1}:\n",
       " 1\n",
       " 3"
      ]
     },
     "execution_count": 7,
     "metadata": {},
     "output_type": "execute_result"
    }
   ],
   "source": [
    "x[:, 1]"
   ]
  },
  {
   "cell_type": "code",
   "execution_count": 8,
   "metadata": {},
   "outputs": [
    {
     "data": {
      "text/plain": [
       "2-element Array{Int64,1}:\n",
       " 2\n",
       " 4"
      ]
     },
     "execution_count": 8,
     "metadata": {},
     "output_type": "execute_result"
    }
   ],
   "source": [
    "x[:, end]"
   ]
  },
  {
   "cell_type": "markdown",
   "metadata": {},
   "source": [
    "Of course, we can do more than just create and index arrays. For example: "
   ]
  },
  {
   "cell_type": "code",
   "execution_count": 9,
   "metadata": {},
   "outputs": [
    {
     "data": {
      "text/plain": [
       "4×4 Array{Float64,2}:\n",
       " 0.697655  0.691612  0.776751  0.397418\n",
       " 0.18255   0.35606   0.822713  0.131606\n",
       " 0.81551   0.717714  0.619933  0.973523\n",
       " 0.773971  0.351453  0.675506  0.886765"
      ]
     },
     "execution_count": 9,
     "metadata": {},
     "output_type": "execute_result"
    }
   ],
   "source": [
    "x = rand(4, 4)"
   ]
  },
  {
   "cell_type": "code",
   "execution_count": 10,
   "metadata": {},
   "outputs": [
    {
     "data": {
      "text/plain": [
       "4×4 Array{Float64,2}:\n",
       " 1.69766  1.69161  1.77675  1.39742\n",
       " 1.18255  1.35606  1.82271  1.13161\n",
       " 1.81551  1.71771  1.61993  1.97352\n",
       " 1.77397  1.35145  1.67551  1.88676"
      ]
     },
     "execution_count": 10,
     "metadata": {},
     "output_type": "execute_result"
    }
   ],
   "source": [
    "x .+ 1 # The `.` notation applies a function elementwise. Unlike in MATLAB, this works for *any function*"
   ]
  },
  {
   "cell_type": "code",
   "execution_count": 11,
   "metadata": {},
   "outputs": [
    {
     "data": {
      "text/plain": [
       "4×4 Array{Float64,2}:\n",
       "  1.0          -2.22045e-16  -4.44089e-16  0.0        \n",
       "  0.0           1.0           0.0          8.88178e-16\n",
       " -1.11022e-16   0.0           1.0          0.0        \n",
       "  2.22045e-16   1.73472e-17  -1.249e-16    1.0        "
      ]
     },
     "execution_count": 11,
     "metadata": {},
     "output_type": "execute_result"
    }
   ],
   "source": [
    "inv(x) * x"
   ]
  },
  {
   "cell_type": "markdown",
   "metadata": {},
   "source": [
    "We might expect to see `inv(x) * x` yield exactly the identity, but this doesn't happen due to the rounding issues which are present in all floating-point math (in any language).\n",
    "\n",
    "Fortunately, Julia has excellent support for arrays with arbitrary element types, so let's compute the inverse in exact, rational arithmetic instead: "
   ]
  },
  {
   "cell_type": "code",
   "execution_count": 12,
   "metadata": {},
   "outputs": [
    {
     "data": {
      "text/plain": [
       "4×4 Array{Rational{BigInt},2}:\n",
       "  785490085718783//1125899906842624  …   447453254382335//1125899906842624\n",
       "  411065283880859//2251799813685248      592700201604709//4503599627370496\n",
       " 3672731815276217//4503599627370496     4384358948800499//4503599627370496\n",
       " 3485657443190159//4503599627370496     3993633289189083//4503599627370496"
      ]
     },
     "execution_count": 12,
     "metadata": {},
     "output_type": "execute_result"
    }
   ],
   "source": [
    "x_rational = Rational{BigInt}.(x)"
   ]
  },
  {
   "cell_type": "code",
   "execution_count": 13,
   "metadata": {},
   "outputs": [
    {
     "data": {
      "text/plain": [
       "4×4 Array{Rational{BigInt},2}:\n",
       " 1//1  0//1  0//1  0//1\n",
       " 0//1  1//1  0//1  0//1\n",
       " 0//1  0//1  1//1  0//1\n",
       " 0//1  0//1  0//1  1//1"
      ]
     },
     "execution_count": 13,
     "metadata": {},
     "output_type": "execute_result"
    }
   ],
   "source": [
    "inv(x_rational) * x_rational"
   ]
  },
  {
   "cell_type": "markdown",
   "metadata": {},
   "source": [
    "# Functions\n",
    "\n",
    "Defining and using a function in Julia is easy: "
   ]
  },
  {
   "cell_type": "code",
   "execution_count": 14,
   "metadata": {},
   "outputs": [
    {
     "data": {
      "text/plain": [
       "say_hello (generic function with 1 method)"
      ]
     },
     "execution_count": 14,
     "metadata": {},
     "output_type": "execute_result"
    }
   ],
   "source": [
    "function say_hello(name)\n",
    "    println(\"hello \", name)\n",
    "end"
   ]
  },
  {
   "cell_type": "code",
   "execution_count": 15,
   "metadata": {},
   "outputs": [
    {
     "name": "stdout",
     "output_type": "stream",
     "text": [
      "hello world\n"
     ]
    }
   ],
   "source": [
    "say_hello(\"world\")"
   ]
  },
  {
   "cell_type": "markdown",
   "metadata": {},
   "source": [
    "By default, a function is generic, so you can pass in any type you want: "
   ]
  },
  {
   "cell_type": "code",
   "execution_count": 16,
   "metadata": {},
   "outputs": [
    {
     "name": "stdout",
     "output_type": "stream",
     "text": [
      "hello [1, 2, 3]\n"
     ]
    }
   ],
   "source": [
    "say_hello([1, 2, 3])"
   ]
  },
  {
   "cell_type": "markdown",
   "metadata": {},
   "source": [
    "But Julia also allows you express restrictions on a particular method's input types. We can define a function multiple times with different type signatures, and Julia will always pick the most specific signature that matches our inputs: "
   ]
  },
  {
   "cell_type": "code",
   "execution_count": 17,
   "metadata": {},
   "outputs": [
    {
     "name": "stdout",
     "output_type": "stream",
     "text": [
      "hello number 5\n",
      "hello Float64 5.0\n"
     ]
    }
   ],
   "source": [
    "# a special greeting for numbers\n",
    "function say_hello(x::Number)\n",
    "    println(\"hello number \", x)\n",
    "end\n",
    "\n",
    "# An even more special greeting for floating-point numbers\n",
    "function say_hello(x::Float64)\n",
    "    println(\"hello Float64 \", x)\n",
    "end\n",
    "\n",
    "say_hello(5)   # 5 is an Int, and Int is a kind of Number, so we get the say_hello(x::Number) method\n",
    "say_hello(5.0) # 5.0 is a Float64, and Float64 is more specific than Number, so wet get say_hello(x::Float64)"
   ]
  },
  {
   "cell_type": "markdown",
   "metadata": {},
   "source": [
    "Julia also has a short one-line syntax for defining simple functions: "
   ]
  },
  {
   "cell_type": "code",
   "execution_count": 18,
   "metadata": {},
   "outputs": [
    {
     "data": {
      "text/plain": [
       "say_goodbye (generic function with 1 method)"
      ]
     },
     "execution_count": 18,
     "metadata": {},
     "output_type": "execute_result"
    }
   ],
   "source": [
    "say_goodbye(name) = println(\"goodbye \", name)"
   ]
  },
  {
   "cell_type": "code",
   "execution_count": 19,
   "metadata": {},
   "outputs": [
    {
     "name": "stdout",
     "output_type": "stream",
     "text": [
      "goodbye world\n"
     ]
    }
   ],
   "source": [
    "say_goodbye(\"world\")"
   ]
  },
  {
   "cell_type": "markdown",
   "metadata": {},
   "source": [
    "The last expression inside a function is automatically returned as its result (but you can also use the explicit `return` keyword if you prefer). "
   ]
  },
  {
   "cell_type": "code",
   "execution_count": 20,
   "metadata": {},
   "outputs": [
    {
     "data": {
      "text/plain": [
       "3"
      ]
     },
     "execution_count": 20,
     "metadata": {},
     "output_type": "execute_result"
    }
   ],
   "source": [
    "function add(x, y)\n",
    "    x + y\n",
    "end\n",
    "\n",
    "# Or, equivalently, we could write:\n",
    "# add(x, y) = x + 1\n",
    "\n",
    "add(1, 2)"
   ]
  },
  {
   "cell_type": "markdown",
   "metadata": {},
   "source": [
    "# Types\n",
    "\n",
    "Julia values have types, and you can create your own types to organize and control your code: "
   ]
  },
  {
   "cell_type": "code",
   "execution_count": 21,
   "metadata": {},
   "outputs": [
    {
     "data": {
      "text/plain": [
       "Float64"
      ]
     },
     "execution_count": 21,
     "metadata": {},
     "output_type": "execute_result"
    }
   ],
   "source": [
    "typeof(1.0)"
   ]
  },
  {
   "cell_type": "code",
   "execution_count": 22,
   "metadata": {},
   "outputs": [
    {
     "data": {
      "text/plain": [
       "Int64"
      ]
     },
     "execution_count": 22,
     "metadata": {},
     "output_type": "execute_result"
    }
   ],
   "source": [
    "typeof(2)"
   ]
  },
  {
   "cell_type": "code",
   "execution_count": 23,
   "metadata": {},
   "outputs": [
    {
     "data": {
      "text/plain": [
       "UInt8"
      ]
     },
     "execution_count": 23,
     "metadata": {},
     "output_type": "execute_result"
    }
   ],
   "source": [
    "typeof(0x03)"
   ]
  },
  {
   "cell_type": "code",
   "execution_count": 24,
   "metadata": {},
   "outputs": [
    {
     "data": {
      "text/plain": [
       "Array{Int64,1}"
      ]
     },
     "execution_count": 24,
     "metadata": {},
     "output_type": "execute_result"
    }
   ],
   "source": [
    "typeof([1, 2, 3])"
   ]
  },
  {
   "cell_type": "code",
   "execution_count": 25,
   "metadata": {},
   "outputs": [
    {
     "data": {
      "text/plain": [
       "3-element Array{Float64,1}:\n",
       " 1.0\n",
       " 2.0\n",
       " 3.0"
      ]
     },
     "execution_count": 25,
     "metadata": {},
     "output_type": "execute_result"
    }
   ],
   "source": [
    "convert(Array{Float64, 1}, [1, 2, 3])"
   ]
  },
  {
   "cell_type": "code",
   "execution_count": 26,
   "metadata": {},
   "outputs": [
    {
     "data": {
      "text/plain": [
       "Person(\"Alice\", 42)"
      ]
     },
     "execution_count": 26,
     "metadata": {},
     "output_type": "execute_result"
    }
   ],
   "source": [
    "struct Person\n",
    "  name::String\n",
    "  age::Int\n",
    "end\n",
    "\n",
    "alice = Person(\"Alice\", 42)"
   ]
  },
  {
   "cell_type": "markdown",
   "metadata": {},
   "source": [
    "Julia's types are extremely lightweight, and user-defined types are *exactly* as performant as anything built-in:"
   ]
  },
  {
   "cell_type": "code",
   "execution_count": 27,
   "metadata": {},
   "outputs": [
    {
     "data": {
      "text/plain": [
       "true"
      ]
     },
     "execution_count": 27,
     "metadata": {},
     "output_type": "execute_result"
    }
   ],
   "source": [
    "sizeof(Person) == sizeof(Ptr{String}) + sizeof(Int)"
   ]
  },
  {
   "cell_type": "markdown",
   "metadata": {},
   "source": [
    "# Packages\n",
    "\n",
    "As of this writing, there are [1,853 registered Julia packages](https://pkg.julialang.org/), and [thousands more available on Github](https://github.com/search?utf8=%E2%9C%93&q=language%3Ajulia&type=). To install a registered package, use `Pkg.add()`: \n",
    "\n",
    "```julia\n",
    "Pkg.add(\"Colors\")\n",
    "```\n",
    "\n",
    "To load an installed package and bring its functions and types into your workspace, you can use `using`: "
   ]
  },
  {
   "cell_type": "code",
   "execution_count": 28,
   "metadata": {},
   "outputs": [],
   "source": [
    "using Colors"
   ]
  },
  {
   "cell_type": "code",
   "execution_count": 29,
   "metadata": {},
   "outputs": [
    {
     "data": {
      "image/svg+xml": [
       "<?xml version=\"1.0\" encoding=\"UTF-8\"?>\n",
       "<!DOCTYPE svg PUBLIC \"-//W3C//DTD SVG 1.1//EN\"\n",
       " \"http://www.w3.org/Graphics/SVG/1.1/DTD/svg11.dtd\">\n",
       "<svg xmlns=\"http://www.w3.org/2000/svg\" version=\"1.1\"\n",
       "     width=\"180.0mm\" height=\"25.0mm\"\n",
       "     shape-rendering=\"crispEdges\">\n",
       "<rect x=\"0.0mm\" y=\"0.0mm\"\n",
       "      width=\"17.0mm\" height=\"24.0mm\"\n",
       "      fill=\"#000000\" stroke=\"none\" />\n",
       "<rect x=\"18.0mm\" y=\"0.0mm\"\n",
       "      width=\"17.0mm\" height=\"24.0mm\"\n",
       "      fill=\"#FFFF62\" stroke=\"none\" />\n",
       "<rect x=\"36.0mm\" y=\"0.0mm\"\n",
       "      width=\"17.0mm\" height=\"24.0mm\"\n",
       "      fill=\"#FF9FFF\" stroke=\"none\" />\n",
       "<rect x=\"54.0mm\" y=\"0.0mm\"\n",
       "      width=\"17.0mm\" height=\"24.0mm\"\n",
       "      fill=\"#00D6FF\" stroke=\"none\" />\n",
       "<rect x=\"72.0mm\" y=\"0.0mm\"\n",
       "      width=\"17.0mm\" height=\"24.0mm\"\n",
       "      fill=\"#D74400\" stroke=\"none\" />\n",
       "<rect x=\"90.0mm\" y=\"0.0mm\"\n",
       "      width=\"17.0mm\" height=\"24.0mm\"\n",
       "      fill=\"#008029\" stroke=\"none\" />\n",
       "<rect x=\"108.0mm\" y=\"0.0mm\"\n",
       "      width=\"17.0mm\" height=\"24.0mm\"\n",
       "      fill=\"#005FD5\" stroke=\"none\" />\n",
       "<rect x=\"126.0mm\" y=\"0.0mm\"\n",
       "      width=\"17.0mm\" height=\"24.0mm\"\n",
       "      fill=\"#930068\" stroke=\"none\" />\n",
       "<rect x=\"144.0mm\" y=\"0.0mm\"\n",
       "      width=\"17.0mm\" height=\"24.0mm\"\n",
       "      fill=\"#FFCBB5\" stroke=\"none\" />\n",
       "<rect x=\"162.0mm\" y=\"0.0mm\"\n",
       "      width=\"17.0mm\" height=\"24.0mm\"\n",
       "      fill=\"#A78600\" stroke=\"none\" />\n",
       "</svg>"
      ],
      "text/plain": [
       "10-element Array{ColorTypes.RGB{FixedPointNumbers.Normed{UInt8,8}},1}:\n",
       " RGB{N0f8}(0.0,0.0,0.0)    \n",
       " RGB{N0f8}(1.0,1.0,0.384)  \n",
       " RGB{N0f8}(1.0,0.624,1.0)  \n",
       " RGB{N0f8}(0.0,0.839,1.0)  \n",
       " RGB{N0f8}(0.843,0.267,0.0)\n",
       " RGB{N0f8}(0.0,0.502,0.161)\n",
       " RGB{N0f8}(0.0,0.373,0.835)\n",
       " RGB{N0f8}(0.576,0.0,0.408)\n",
       " RGB{N0f8}(1.0,0.796,0.71) \n",
       " RGB{N0f8}(0.655,0.525,0.0)"
      ]
     },
     "execution_count": 29,
     "metadata": {},
     "output_type": "execute_result"
    }
   ],
   "source": [
    "distinguishable_colors(10)"
   ]
  },
  {
   "cell_type": "code",
   "execution_count": 30,
   "metadata": {},
   "outputs": [
    {
     "data": {
      "image/svg+xml": [
       "<?xml version=\"1.0\" encoding=\"UTF-8\"?>\n",
       "<!DOCTYPE svg PUBLIC \"-//W3C//DTD SVG 1.1//EN\"\n",
       " \"http://www.w3.org/Graphics/SVG/1.1/DTD/svg11.dtd\">\n",
       "<svg xmlns=\"http://www.w3.org/2000/svg\" version=\"1.1\"\n",
       "     width=\"125.0mm\" height=\"125.0mm\"\n",
       "     shape-rendering=\"crispEdges\">\n",
       "<rect x=\"0.0mm\" y=\"0.0mm\"\n",
       "      width=\"24.0mm\" height=\"24.0mm\"\n",
       "      fill=\"#4965A4\" stroke=\"none\" />\n",
       "<rect x=\"25.0mm\" y=\"0.0mm\"\n",
       "      width=\"24.0mm\" height=\"24.0mm\"\n",
       "      fill=\"#57979D\" stroke=\"none\" />\n",
       "<rect x=\"50.0mm\" y=\"0.0mm\"\n",
       "      width=\"24.0mm\" height=\"24.0mm\"\n",
       "      fill=\"#163EE4\" stroke=\"none\" />\n",
       "<rect x=\"75.0mm\" y=\"0.0mm\"\n",
       "      width=\"24.0mm\" height=\"24.0mm\"\n",
       "      fill=\"#0B4668\" stroke=\"none\" />\n",
       "<rect x=\"100.0mm\" y=\"0.0mm\"\n",
       "      width=\"24.0mm\" height=\"24.0mm\"\n",
       "      fill=\"#5345DA\" stroke=\"none\" />\n",
       "<rect x=\"0.0mm\" y=\"25.0mm\"\n",
       "      width=\"24.0mm\" height=\"24.0mm\"\n",
       "      fill=\"#3C9892\" stroke=\"none\" />\n",
       "<rect x=\"25.0mm\" y=\"25.0mm\"\n",
       "      width=\"24.0mm\" height=\"24.0mm\"\n",
       "      fill=\"#33E91E\" stroke=\"none\" />\n",
       "<rect x=\"50.0mm\" y=\"25.0mm\"\n",
       "      width=\"24.0mm\" height=\"24.0mm\"\n",
       "      fill=\"#BDCDC6\" stroke=\"none\" />\n",
       "<rect x=\"75.0mm\" y=\"25.0mm\"\n",
       "      width=\"24.0mm\" height=\"24.0mm\"\n",
       "      fill=\"#285471\" stroke=\"none\" />\n",
       "<rect x=\"100.0mm\" y=\"25.0mm\"\n",
       "      width=\"24.0mm\" height=\"24.0mm\"\n",
       "      fill=\"#23A2F9\" stroke=\"none\" />\n",
       "<rect x=\"0.0mm\" y=\"50.0mm\"\n",
       "      width=\"24.0mm\" height=\"24.0mm\"\n",
       "      fill=\"#8A67E2\" stroke=\"none\" />\n",
       "<rect x=\"25.0mm\" y=\"50.0mm\"\n",
       "      width=\"24.0mm\" height=\"24.0mm\"\n",
       "      fill=\"#90EB97\" stroke=\"none\" />\n",
       "<rect x=\"50.0mm\" y=\"50.0mm\"\n",
       "      width=\"24.0mm\" height=\"24.0mm\"\n",
       "      fill=\"#AFECA2\" stroke=\"none\" />\n",
       "<rect x=\"75.0mm\" y=\"50.0mm\"\n",
       "      width=\"24.0mm\" height=\"24.0mm\"\n",
       "      fill=\"#E67DF4\" stroke=\"none\" />\n",
       "<rect x=\"100.0mm\" y=\"50.0mm\"\n",
       "      width=\"24.0mm\" height=\"24.0mm\"\n",
       "      fill=\"#92385B\" stroke=\"none\" />\n",
       "<rect x=\"0.0mm\" y=\"75.0mm\"\n",
       "      width=\"24.0mm\" height=\"24.0mm\"\n",
       "      fill=\"#FAEDF7\" stroke=\"none\" />\n",
       "<rect x=\"25.0mm\" y=\"75.0mm\"\n",
       "      width=\"24.0mm\" height=\"24.0mm\"\n",
       "      fill=\"#65605D\" stroke=\"none\" />\n",
       "<rect x=\"50.0mm\" y=\"75.0mm\"\n",
       "      width=\"24.0mm\" height=\"24.0mm\"\n",
       "      fill=\"#F70CE0\" stroke=\"none\" />\n",
       "<rect x=\"75.0mm\" y=\"75.0mm\"\n",
       "      width=\"24.0mm\" height=\"24.0mm\"\n",
       "      fill=\"#FB43D8\" stroke=\"none\" />\n",
       "<rect x=\"100.0mm\" y=\"75.0mm\"\n",
       "      width=\"24.0mm\" height=\"24.0mm\"\n",
       "      fill=\"#175040\" stroke=\"none\" />\n",
       "<rect x=\"0.0mm\" y=\"100.0mm\"\n",
       "      width=\"24.0mm\" height=\"24.0mm\"\n",
       "      fill=\"#1882A8\" stroke=\"none\" />\n",
       "<rect x=\"25.0mm\" y=\"100.0mm\"\n",
       "      width=\"24.0mm\" height=\"24.0mm\"\n",
       "      fill=\"#38B901\" stroke=\"none\" />\n",
       "<rect x=\"50.0mm\" y=\"100.0mm\"\n",
       "      width=\"24.0mm\" height=\"24.0mm\"\n",
       "      fill=\"#379CDE\" stroke=\"none\" />\n",
       "<rect x=\"75.0mm\" y=\"100.0mm\"\n",
       "      width=\"24.0mm\" height=\"24.0mm\"\n",
       "      fill=\"#F6B487\" stroke=\"none\" />\n",
       "<rect x=\"100.0mm\" y=\"100.0mm\"\n",
       "      width=\"24.0mm\" height=\"24.0mm\"\n",
       "      fill=\"#75C349\" stroke=\"none\" />\n",
       "</svg>"
      ],
      "text/plain": [
       "5×5 Array{ColorTypes.RGB{Float32},2}:\n",
       " RGB{Float32}(0.284457,0.394702,0.644418)   …  RGB{Float32}(0.323954,0.268865,0.855757) \n",
       " RGB{Float32}(0.234095,0.595375,0.571245)      RGB{Float32}(0.13914,0.634241,0.9764)    \n",
       " RGB{Float32}(0.54159,0.403292,0.885056)       RGB{Float32}(0.571557,0.219343,0.356627) \n",
       " RGB{Float32}(0.980114,0.931281,0.968904)      RGB{Float32}(0.0921092,0.312891,0.249385)\n",
       " RGB{Float32}(0.0925699,0.509602,0.660124)     RGB{Float32}(0.458273,0.764741,0.287427) "
      ]
     },
     "execution_count": 30,
     "metadata": {},
     "output_type": "execute_result"
    }
   ],
   "source": [
    "rand(RGB{Float32}, 5, 5)"
   ]
  },
  {
   "cell_type": "markdown",
   "metadata": {},
   "source": [
    "You can install any package from Github (or any other git hosting service) with `Pkg.clone()`: \n",
    "\n",
    "```julia\n",
    "Pkg.clone(\"https://github.com/rdeits/DynamicWalking2018.jl\")\n",
    "```"
   ]
  },
  {
   "cell_type": "markdown",
   "metadata": {},
   "source": [
    "# Julia Plays Well with Others\n",
    "\n",
    "Julia is a great language, but sometimes you need to use an existing tool rather than re-implementing it. Fortunately, it's very easy to call C, FORTRAN, and Python code directly from Julia. \n",
    "\n",
    "## Calling C and FORTRAN from Julia\n",
    "\n",
    "Julia has built-in support for calling C and FORTRAN functions: https://docs.julialang.org/en/stable/manual/calling-c-and-fortran-code/\n",
    "\n",
    "For example, let's get the current CPU time using the C standard library `libc`: "
   ]
  },
  {
   "cell_type": "code",
   "execution_count": 31,
   "metadata": {},
   "outputs": [
    {
     "data": {
      "text/plain": [
       "24848097"
      ]
     },
     "execution_count": 31,
     "metadata": {},
     "output_type": "execute_result"
    }
   ],
   "source": [
    "ccall((:clock, \"libc\"), Int32, ())"
   ]
  },
  {
   "cell_type": "markdown",
   "metadata": {},
   "source": [
    "Julia even knows how to convert certain types like Arrays and Strings to their C equivalents: "
   ]
  },
  {
   "cell_type": "code",
   "execution_count": 32,
   "metadata": {},
   "outputs": [
    {
     "data": {
      "text/plain": [
       "0"
      ]
     },
     "execution_count": 32,
     "metadata": {},
     "output_type": "execute_result"
    }
   ],
   "source": [
    "ccall((:strcmp, \"libc\"), Cint, (Cstring, Cstring), \"hello\", \"hello\")"
   ]
  },
  {
   "cell_type": "markdown",
   "metadata": {},
   "source": [
    "# Calling Python from Julia\n",
    "\n",
    "Python support is provided by the [PyCall.jl](https://github.com/JuliaPy/PyCall.jl) package. To install it, just run: \n",
    "\n",
    "```julia\n",
    "Pkg.add(\"PyCall\")\n",
    "```"
   ]
  },
  {
   "cell_type": "code",
   "execution_count": 33,
   "metadata": {},
   "outputs": [],
   "source": [
    "using PyCall"
   ]
  },
  {
   "cell_type": "code",
   "execution_count": 34,
   "metadata": {},
   "outputs": [],
   "source": [
    "@pyimport datetime"
   ]
  },
  {
   "cell_type": "code",
   "execution_count": 35,
   "metadata": {},
   "outputs": [
    {
     "data": {
      "text/plain": [
       "2018-05-19T00:39:01.866"
      ]
     },
     "execution_count": 35,
     "metadata": {},
     "output_type": "execute_result"
    }
   ],
   "source": [
    "datetime.datetime[:today]()"
   ]
  },
  {
   "cell_type": "markdown",
   "metadata": {},
   "source": [
    "Next, we'll show off Julia's performance compared to C and Python... "
   ]
  }
 ],
 "metadata": {
  "kernelspec": {
   "display_name": "Julia 0.6.2",
   "language": "julia",
   "name": "julia-0.6"
  },
  "language_info": {
   "file_extension": ".jl",
   "mimetype": "application/julia",
   "name": "julia",
   "version": "0.6.2"
  }
 },
 "nbformat": 4,
 "nbformat_minor": 2
}
